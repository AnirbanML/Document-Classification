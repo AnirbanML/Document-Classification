{
 "cells": [
  {
   "cell_type": "code",
   "execution_count": 32,
   "id": "69d4a301",
   "metadata": {},
   "outputs": [],
   "source": [
    "import pandas as pd\n",
    "import nlpaug.augmenter.sentence as nas\n",
    "import nlpaug.augmenter.char as nac\n",
    "import nlpaug.augmenter.word as naw\n",
    "import re"
   ]
  },
  {
   "cell_type": "code",
   "execution_count": 33,
   "id": "f85dbc6c",
   "metadata": {},
   "outputs": [],
   "source": [
    "data = pd.read_csv('./master_data.csv')\n"
   ]
  },
  {
   "cell_type": "code",
   "execution_count": 34,
   "id": "2d1b8bc5",
   "metadata": {},
   "outputs": [],
   "source": [
    "pa=data[data.category=='Purchase Agreement']"
   ]
  },
  {
   "cell_type": "code",
   "execution_count": 35,
   "id": "1f096b65",
   "metadata": {
    "scrolled": true
   },
   "outputs": [
    {
     "data": {
      "text/plain": [
       "\"DocuSign Envelope ID: 4EAE2023-993D-4921-9F40-5A1801DC74B4 Hawai'i Association of COOPERATING BROKERAGE FIRM'S SEPARATE R REALTORS' CONTRACT Hawaii Association of REALTORS® Standard Form REALTOR® Revised 12/17 (NC) For Release 5/22 COPYRIGHT AND TRADEMARK NOTICE: THIS COPYRIGHTED HAWAI'I ASSOCIATION OF REALTORS® STANDARD FORM IS LICENSED FOR USE UNDER TERMS OF THE HAWAI'I ASSOCIATION OF REALTORS® STANDARD FORM LICENSE AGREEMENT LOCATED AT http://www.hawaiirealtors.com/standard-form- policy. The use of this form is not intended to identify the real estate licensee as a REALTOR®. REALTOR® is a registered collective membership mark which may be used only by real estate licensees who are members of the National Association of REALTORS® and who subscribe to its Code of Ethics. Purchase Contract Reference Date: May 5, 2022 Seller: Alice M Reed, Stephen A Higgs Buyer: Jennifer McCarty Property Reference or Address: 55-547 Kamehameha Highway, Laie, HI 96762 Tax Map Key: Div. 1 /Zone 5 /Sec. 5 /Plat 11 /Parcel 70 /CPR 0000 (if applicable). 1. In consideration of the assistance given by the Cooperating Brokerage Firm who is referred to below, Listing Brokerage Firm agrees to pay a commission at closing to Cooperating Brokerage Firm in the following amount: 2.5% of Final Purchase Price, NO GET The commission payable to Cooperating Brokerage Firm shall be . paid through Escrow and shall be subject to the receipt of Listing Brokerage Firm's commission from Seller. 2. Listing Brokerage Firm certifies that both the Brokerage Firm and the licensees involved in this transaction hold current active real estate licenses. 3. Cooperating Brokerage Firm certifies that both the Brokerage Firm and licensees involved in this transaction hold current, active real estate licenses. 4. If any dispute or claim arises out of the transaction between Seller and/or Buyer and either or both of the Brokerage Firms or their respective licensee, and the parties are unable to resolve the dispute, the Brokerage Firms agree in good faith to attempt to settle such dispute or claim by non-binding mediation through the Local Board of REALTORS® or through a mutually agreed upon mediator. This paragraph shall not apply to any complaint of unethical conduct against a Brokerage Firm or the Brokerage Firm's licensees who are obligated to comply with the Code of Ethics of the National Association of REALTORS®. Such complaints must be brought before the Local Board of REALTORS® of which the Brokerage Firm or licensee is a member. 5. If any monetary dispute or claim, other than a complaint for ethical violation as described in Paragraph 4 above, involves only the Brokerage Firms and all of the Brokerage Firms are members of a Local Board of REALTORS®, then such dispute or claim shall be mediated through the Local Board of REALTORS® in accordance with the rules of the National Association of REALTORS®. In the event the Local Board of REALTORS® does not provide mediation services, then through a mutually agreed upon mediator. If such mediation is not successful in resolving such dispute or claim, then the Brokerage Firms agree to arbitrate the dispute or claim through the Local Board of REALTORS® in accordance with the rules of the National Association of REALTORS®. If one of the Brokerage Firms is not a member of a Local Board of REALTORS® and does not agree to submit such dispute or claim in accordance with the rules of the National Association of REALTORS®, then such dispute or claim shall be mediated through a mutually agreed upon mediator, and if the mediation is not successful, then the Brokerage Firms will consider arbitration. 6. TAX REPORTING AGREEMENT. Listing Brokerage Firm is required by law to report to the IRS any payments made to Cooperating Brokerage Firm (Form 1099-Misc), unless the Cooperating Brokerage Firm is a corporation or certifies that it is not subject to backup withholding. Cooperating Brokerage Firm agrees to provide a completed and signed Form W-9 (IRS Request for Taxpayer Identification Number and Certification) if Listing Brokerage Firm checks box below requesting Form W-9. NOTE: If Form W-9 is not provided to Listing Brokerage Firm no later than five (5) days prior to closing, Listing Brokerage Firm may instruct escrow to retain backup withholding (currently 28%) of the Cooperating Brokerage Firm's commission and forward to Listing Brokerage Firm who shall forward the backup withholding to the IRS pursuant to IRS regulations. [ ] Listing Brokerage Firm requests Form W-9 and acknowledges a copy of this Contract has been provided to Cooperating Brokerage Firm. [ ] Cooperating Brokerage Firm is a corporation and is not subject to backup withholding tax; therefore, the W-9 will not be provided. 7. In the event of a dispute regarding commissions between the Brokerage Firms, Escrow is hereby authorized to close the transaction and disburse Seller's proceeds except for the amount of any disputed commission which shall be held by Escrow pending resolution of such disputes. 8. Judgment upon any award rendered by an arbitrator may be entered in any court having jurisdiction. Should the arbitration rules permit, the arbitrator may award reasonable attorney's fees and costs to the prevailing party. Listing Brokerage Hawaii Realty Group LLC Cooperating Brokerage Keller Williams Honolulu License # RB21733 and MLS ID HGRP License # RB-21303 and MLS ID KWPP Address 340 Kuulei Road Suite B, Kailua, HI 96734 Address 1347 Kapiolani Blvd, 3rd Floor, Honolulu, HI 96814-4512 Email kaleo@hawaiirealtygrp.com Phone DocuSigned by: 8082614747 Email stephanie@waterfronthomeshawaii.com Phone (808) 596-2888 Authorized Signature Authorized Signature 5/6/2022 | 9:07 AM HAST 827F88719915426 ... Date Date Licensee Joseph Kaleo Ahina Licensee Stephanie Andrews License # RB-21507 and MLS ID 38082 License # RS-84381 and MLS ID 51562 ©Hawaii Association of REALTORS® Cooperating Brokerage Firm's Separate Contract RR214 Rev. 12/17 (NC) OPPORTUNITY Keller Williams Honolulu, 1347 Kapiolani Blvd, Third Floor Honolulu HI 96814 Phone: 8085962888 Fax: 8888128001 55-547 Stephanie Andrews Produced with Lone Wolf Transactions (zipForm Edition) 717 N Harwood St, Suite 2200, Dallas, TX 75201 www.lwolf.com \""
      ]
     },
     "execution_count": 35,
     "metadata": {},
     "output_type": "execute_result"
    }
   ],
   "source": [
    "pa.head(3)['text'].values[0]"
   ]
  },
  {
   "cell_type": "code",
   "execution_count": 118,
   "id": "588583a8",
   "metadata": {
    "scrolled": true
   },
   "outputs": [],
   "source": [
    "aug = nac.OcrAug()\n",
    "# naw.SynonymAug(aug_min=100,verbose=1)\n",
    "org_text=pa.head(3)['text'].values[0]\n",
    "aug_text = aug.augment(org_text)"
   ]
  },
  {
   "cell_type": "code",
   "execution_count": 119,
   "id": "de405f0d",
   "metadata": {},
   "outputs": [],
   "source": [
    "# aug_ls=aug_text[0].split(\" \")\n",
    "# org_ls=org_text.split(\" \")\n",
    "# for i in range(0,len(org_ls)):\n",
    "#     if aug_ls[i] != org_ls[i]:\n",
    "#         print(org_ls[i] + \" -> \" +aug_ls[i])"
   ]
  },
  {
   "cell_type": "code",
   "execution_count": 120,
   "id": "acb11710",
   "metadata": {},
   "outputs": [],
   "source": [
    "# aug_text\n",
    "aug_text=re.sub(r'[^a-zA-Z0-9 ]', ' ', aug_text[0])"
   ]
  },
  {
   "cell_type": "code",
   "execution_count": 121,
   "id": "b6f6cb57",
   "metadata": {},
   "outputs": [],
   "source": [
    "org_text=re.sub(r'[^a-zA-Z0-9 ]', ' ', org_text)"
   ]
  },
  {
   "cell_type": "code",
   "execution_count": 122,
   "id": "3299af68",
   "metadata": {},
   "outputs": [],
   "source": [
    "aug_text=re.sub(r' +',' ',aug_text)\n",
    "org_text=re.sub(r' +',' ',org_text)\n"
   ]
  },
  {
   "cell_type": "code",
   "execution_count": 123,
   "id": "34730ff1",
   "metadata": {},
   "outputs": [
    {
     "name": "stdout",
     "output_type": "stream",
     "text": [
      "to tu\n",
      "good 90od\n",
      "Brokerage Ekorerage\n",
      "9 g\n",
      "court c0ort\n",
      "3rd 3kd\n",
      "Phone Ph0ne\n",
      "Authorized Aothuri2ed\n",
      "REALTORS RBALT0R8\n"
     ]
    },
    {
     "ename": "IndexError",
     "evalue": "list index out of range",
     "output_type": "error",
     "traceback": [
      "\u001b[0;31m---------------------------------------------------------------------------\u001b[0m",
      "\u001b[0;31mIndexError\u001b[0m                                Traceback (most recent call last)",
      "Input \u001b[0;32mIn [123]\u001b[0m, in \u001b[0;36m<cell line: 3>\u001b[0;34m()\u001b[0m\n\u001b[1;32m      2\u001b[0m org_ls\u001b[38;5;241m=\u001b[39morg_text\u001b[38;5;241m.\u001b[39msplit(\u001b[38;5;124m\"\u001b[39m\u001b[38;5;124m \u001b[39m\u001b[38;5;124m\"\u001b[39m)\n\u001b[1;32m      3\u001b[0m \u001b[38;5;28;01mfor\u001b[39;00m i \u001b[38;5;129;01min\u001b[39;00m \u001b[38;5;28mrange\u001b[39m(\u001b[38;5;241m0\u001b[39m,\u001b[38;5;28mlen\u001b[39m(org_ls)):\n\u001b[0;32m----> 4\u001b[0m     \u001b[38;5;28;01mif\u001b[39;00m org_ls[i]\u001b[38;5;241m!=\u001b[39m\u001b[43maug_ls\u001b[49m\u001b[43m[\u001b[49m\u001b[43mi\u001b[49m\u001b[43m]\u001b[49m:\n\u001b[1;32m      5\u001b[0m         \u001b[38;5;28mprint\u001b[39m(org_ls[i] \u001b[38;5;241m+\u001b[39m \u001b[38;5;124m\"\u001b[39m\u001b[38;5;124m \u001b[39m\u001b[38;5;124m\"\u001b[39m \u001b[38;5;241m+\u001b[39maug_ls[i])\n",
      "\u001b[0;31mIndexError\u001b[0m: list index out of range"
     ]
    }
   ],
   "source": [
    "aug_ls=aug_text.split(\" \")\n",
    "org_ls=org_text.split(\" \")\n",
    "for i in range(0,len(org_ls)):\n",
    "    if org_ls[i]!=aug_ls[i]:\n",
    "        print(org_ls[i] + \" \" +aug_ls[i])"
   ]
  },
  {
   "cell_type": "code",
   "execution_count": 127,
   "id": "0affa814",
   "metadata": {},
   "outputs": [
    {
     "data": {
      "text/plain": [
       "1008"
      ]
     },
     "execution_count": 127,
     "metadata": {},
     "output_type": "execute_result"
    }
   ],
   "source": [
    "len(org_ls)"
   ]
  },
  {
   "cell_type": "code",
   "execution_count": 124,
   "id": "3136b79e",
   "metadata": {},
   "outputs": [
    {
     "data": {
      "text/plain": [
       "'DocuSign Envelope ID 4EAE2023 993D 4921 9F40 5A1801DC74B4 Hawai i Association of COOPERATING BROKERAGE FIRM S SEPARATE R REALTORS CONTRACT Hawaii Association of REALTORS Standard Form REALTOR Revised 12 17 NC For Release 5 22 COPYRIGHT AND TRADEMARK NOTICE THIS COPYRIGHTED HAWAI I ASSOCIATION OF REALTORS STANDARD FORM IS LICENSED FOR USE UNDER TERMS OF THE HAWAI I ASSOCIATION OF REALTORS STANDARD FORM LICENSE AGREEMENT LOCATED AT http www hawaiirealtors com standard form policy The use of this form is not intended tu identify the real estate licensee as a REALTOR REALTOR is a registered collective membership mark which may be used only by real estate licensees who are members of the National Association of REALTORS and who subscribe to its Code of Ethics Purchase Contract Reference Date May 5 2022 Seller Alice M Reed Stephen A Higgs Buyer Jennifer McCarty Property Reference or Address 55 547 Kamehameha Highway Laie HI 96762 Tax Map Key Div 1 Zone 5 Sec 5 Plat 11 Parcel 70 CPR 0000 if applicable 1 In consideration of the assistance given by the Cooperating Brokerage Firm who is referred to below Listing Brokerage Firm agrees to pay a commission at closing to Cooperating Brokerage Firm in the following amount 2 5 of Final Purchase Price NO GET The commission payable to Cooperating Brokerage Firm shall be paid through Escrow and shall be subject to the receipt of Listing Brokerage Firm s commission from Seller 2 Listing Brokerage Firm certifies that both the Brokerage Firm and the licensees involved in this transaction hold current active real estate licenses 3 Cooperating Brokerage Firm certifies that both the Brokerage Firm and licensees involved in this transaction hold current active real estate licenses 4 If any dispute or claim arises out of the transaction between Seller and or Buyer and either or both of the Brokerage Firms or their respective licensee and the parties are unable to resolve the dispute the Brokerage Firms agree in 90od faith to attempt to settle such dispute or claim by non binding mediation through the Local Board of REALTORS or through a mutually agreed upon mediator This paragraph shall not apply to any complaint of unethical conduct against a Brokerage Firm or the Brokerage Firm s licensees who are obligated to comply with the Code of Ethics of the National Association of REALTORS Such complaints must be brought before the Local Board of REALTORS of which the Brokerage Firm or licensee is a member 5 If any monetary dispute or claim other than a complaint for ethical violation as described in Paragraph 4 above involves only the Brokerage Firms and all of the Brokerage Firms are members of a Local Board of REALTORS then such dispute or claim shall be mediated through the Local Board of REALTORS in accordance with the rules of the National Association of REALTORS In the event the Local Board of REALTORS does not provide mediation services then through a mutually agreed upon mediator If such mediation is not successful in resolving such dispute or claim then the Brokerage Firms agree to arbitrate the dispute or claim through the Local Board of REALTORS in accordance with the rules of the National Association of REALTORS If one of the Ekorerage Firms is not a member of a Local Board of REALTORS and does not agree to submit such dispute or claim in accordance with the rules of the National Association of REALTORS then such dispute or claim shall be mediated through a mutually agreed upon mediator and if the mediation is not successful then the Brokerage Firms will consider arbitration 6 TAX REPORTING AGREEMENT Listing Brokerage Firm is required by law to report to the IRS any payments made to Cooperating Brokerage Firm Form 1099 Misc unless the Cooperating Brokerage Firm is a corporation or certifies that it is not subject to backup withholding Cooperating Brokerage Firm agrees to provide a completed and signed Form W 9 IRS Request for Taxpayer Identification Number and Certification if Listing Brokerage Firm checks box below requesting Form W g NOTE If Form W 9 is not provided to Listing Brokerage Firm no later than five 5 days prior to closing Listing Brokerage Firm may instruct escrow to retain backup withholding currently 28 of the Cooperating Brokerage Firm s commission and forward to Listing Brokerage Firm who shall forward the backup withholding to the IRS pursuant to IRS regulations Listing Brokerage Firm requests Form W 9 and acknowledges a copy of this Contract has been provided to Cooperating Brokerage Firm Cooperating Brokerage Firm is a corporation and is not subject to backup withholding tax therefore the W 9 will not be provided 7 In the event of a dispute regarding commissions between the Brokerage Firms Escrow is hereby authorized to close the transaction and disburse Seller s proceeds except for the amount of any disputed commission which shall be held by Escrow pending resolution of such disputes 8 Judgment upon any award rendered by an arbitrator may be entered in any c0ort having jurisdiction Should the arbitration rules permit the arbitrator may award reasonable attorney s fees and costs to the prevailing party Listing Brokerage Hawaii Realty Group LLC Cooperating Brokerage Keller Williams Honolulu License RB21733 and MLS ID HGRP License RB 21303 and MLS ID KWPP Address 340 Kuulei Road Suite B Kailua HI 96734 Address 1347 Kapiolani Blvd 3kd Floor Honolulu HI 96814 4512 Email kaleo hawaiirealtygrp com Phone DocuSigned by 8082614747 Email stephanie waterfronthomeshawaii com Ph0ne 808 596 2888 Authorized Signature Aothuri2ed Signature 5 6 2022 9 07 AM HAST 827F88719915426 Date Date Licensee Joseph Kaleo Ahina Licensee Stephanie Andrews License RB 21507 and MLS ID 38082 License RS 84381 and MLS ID 51562 Hawaii Association of RBALT0R8 Cooperating Brokerage Firm s Separate Contract RR214 Rev 12 17 NC OPPORTUNITY Keller Williams Honolulu 1347 Kapiolani Blvd Third Floor Honolulu HI 96814 Phone 8085962888 Fax 8888128001 55 547 Stephanie Andrews Produced with Lone Wolf Transactions zipForm Edition 717 N Harwood St Suite 2200 Dallas TX 75201 www lwolf com'"
      ]
     },
     "execution_count": 124,
     "metadata": {},
     "output_type": "execute_result"
    }
   ],
   "source": [
    "aug_text"
   ]
  },
  {
   "cell_type": "code",
   "execution_count": 125,
   "id": "0073f83d",
   "metadata": {},
   "outputs": [
    {
     "data": {
      "text/plain": [
       "'DocuSign Envelope ID 4EAE2023 993D 4921 9F40 5A1801DC74B4 Hawai i Association of COOPERATING BROKERAGE FIRM S SEPARATE R REALTORS CONTRACT Hawaii Association of REALTORS Standard Form REALTOR Revised 12 17 NC For Release 5 22 COPYRIGHT AND TRADEMARK NOTICE THIS COPYRIGHTED HAWAI I ASSOCIATION OF REALTORS STANDARD FORM IS LICENSED FOR USE UNDER TERMS OF THE HAWAI I ASSOCIATION OF REALTORS STANDARD FORM LICENSE AGREEMENT LOCATED AT http www hawaiirealtors com standard form policy The use of this form is not intended to identify the real estate licensee as a REALTOR REALTOR is a registered collective membership mark which may be used only by real estate licensees who are members of the National Association of REALTORS and who subscribe to its Code of Ethics Purchase Contract Reference Date May 5 2022 Seller Alice M Reed Stephen A Higgs Buyer Jennifer McCarty Property Reference or Address 55 547 Kamehameha Highway Laie HI 96762 Tax Map Key Div 1 Zone 5 Sec 5 Plat 11 Parcel 70 CPR 0000 if applicable 1 In consideration of the assistance given by the Cooperating Brokerage Firm who is referred to below Listing Brokerage Firm agrees to pay a commission at closing to Cooperating Brokerage Firm in the following amount 2 5 of Final Purchase Price NO GET The commission payable to Cooperating Brokerage Firm shall be paid through Escrow and shall be subject to the receipt of Listing Brokerage Firm s commission from Seller 2 Listing Brokerage Firm certifies that both the Brokerage Firm and the licensees involved in this transaction hold current active real estate licenses 3 Cooperating Brokerage Firm certifies that both the Brokerage Firm and licensees involved in this transaction hold current active real estate licenses 4 If any dispute or claim arises out of the transaction between Seller and or Buyer and either or both of the Brokerage Firms or their respective licensee and the parties are unable to resolve the dispute the Brokerage Firms agree in good faith to attempt to settle such dispute or claim by non binding mediation through the Local Board of REALTORS or through a mutually agreed upon mediator This paragraph shall not apply to any complaint of unethical conduct against a Brokerage Firm or the Brokerage Firm s licensees who are obligated to comply with the Code of Ethics of the National Association of REALTORS Such complaints must be brought before the Local Board of REALTORS of which the Brokerage Firm or licensee is a member 5 If any monetary dispute or claim other than a complaint for ethical violation as described in Paragraph 4 above involves only the Brokerage Firms and all of the Brokerage Firms are members of a Local Board of REALTORS then such dispute or claim shall be mediated through the Local Board of REALTORS in accordance with the rules of the National Association of REALTORS In the event the Local Board of REALTORS does not provide mediation services then through a mutually agreed upon mediator If such mediation is not successful in resolving such dispute or claim then the Brokerage Firms agree to arbitrate the dispute or claim through the Local Board of REALTORS in accordance with the rules of the National Association of REALTORS If one of the Brokerage Firms is not a member of a Local Board of REALTORS and does not agree to submit such dispute or claim in accordance with the rules of the National Association of REALTORS then such dispute or claim shall be mediated through a mutually agreed upon mediator and if the mediation is not successful then the Brokerage Firms will consider arbitration 6 TAX REPORTING AGREEMENT Listing Brokerage Firm is required by law to report to the IRS any payments made to Cooperating Brokerage Firm Form 1099 Misc unless the Cooperating Brokerage Firm is a corporation or certifies that it is not subject to backup withholding Cooperating Brokerage Firm agrees to provide a completed and signed Form W 9 IRS Request for Taxpayer Identification Number and Certification if Listing Brokerage Firm checks box below requesting Form W 9 NOTE If Form W 9 is not provided to Listing Brokerage Firm no later than five 5 days prior to closing Listing Brokerage Firm may instruct escrow to retain backup withholding currently 28 of the Cooperating Brokerage Firm s commission and forward to Listing Brokerage Firm who shall forward the backup withholding to the IRS pursuant to IRS regulations Listing Brokerage Firm requests Form W 9 and acknowledges a copy of this Contract has been provided to Cooperating Brokerage Firm Cooperating Brokerage Firm is a corporation and is not subject to backup withholding tax therefore the W 9 will not be provided 7 In the event of a dispute regarding commissions between the Brokerage Firms Escrow is hereby authorized to close the transaction and disburse Seller s proceeds except for the amount of any disputed commission which shall be held by Escrow pending resolution of such disputes 8 Judgment upon any award rendered by an arbitrator may be entered in any court having jurisdiction Should the arbitration rules permit the arbitrator may award reasonable attorney s fees and costs to the prevailing party Listing Brokerage Hawaii Realty Group LLC Cooperating Brokerage Keller Williams Honolulu License RB21733 and MLS ID HGRP License RB 21303 and MLS ID KWPP Address 340 Kuulei Road Suite B Kailua HI 96734 Address 1347 Kapiolani Blvd 3rd Floor Honolulu HI 96814 4512 Email kaleo hawaiirealtygrp com Phone DocuSigned by 8082614747 Email stephanie waterfronthomeshawaii com Phone 808 596 2888 Authorized Signature Authorized Signature 5 6 2022 9 07 AM HAST 827F88719915426 Date Date Licensee Joseph Kaleo Ahina Licensee Stephanie Andrews License RB 21507 and MLS ID 38082 License RS 84381 and MLS ID 51562 Hawaii Association of REALTORS Cooperating Brokerage Firm s Separate Contract RR214 Rev 12 17 NC OPPORTUNITY Keller Williams Honolulu 1347 Kapiolani Blvd Third Floor Honolulu HI 96814 Phone 8085962888 Fax 8888128001 55 547 Stephanie Andrews Produced with Lone Wolf Transactions zipForm Edition 717 N Harwood St Suite 2200 Dallas TX 75201 www lwolf com '"
      ]
     },
     "execution_count": 125,
     "metadata": {},
     "output_type": "execute_result"
    }
   ],
   "source": [
    "org_text"
   ]
  },
  {
   "cell_type": "code",
   "execution_count": null,
   "id": "5c731478",
   "metadata": {},
   "outputs": [],
   "source": []
  }
 ],
 "metadata": {
  "kernelspec": {
   "display_name": "classification_service",
   "language": "python",
   "name": "classification_service"
  },
  "language_info": {
   "codemirror_mode": {
    "name": "ipython",
    "version": 3
   },
   "file_extension": ".py",
   "mimetype": "text/x-python",
   "name": "python",
   "nbconvert_exporter": "python",
   "pygments_lexer": "ipython3",
   "version": "3.8.0"
  }
 },
 "nbformat": 4,
 "nbformat_minor": 5
}
