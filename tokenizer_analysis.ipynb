{
 "cells": [
  {
   "cell_type": "code",
   "execution_count": 1,
   "id": "c9cc54dc",
   "metadata": {},
   "outputs": [],
   "source": [
    "import torch\n",
    "from tqdm.notebook import tqdm\n",
    "from transformers import BertTokenizer\n",
    "from torch.utils.data import TensorDataset\n",
    "from transformers import BertForSequenceClassification, BertConfig, BertModel\n",
    "import pandas as pd\n",
    "from torch.utils.data import DataLoader, RandomSampler, SequentialSampler\n",
    "from sklearn.model_selection import train_test_split\n",
    "from transformers import AdamW, get_linear_schedule_with_warmup\n",
    "from sklearn.utils import class_weight\n",
    "import numpy as np\n",
    "from torch.optim import Adam\n",
    "from tqdm import tqdm\n",
    "from sklearn.metrics import accuracy_score, f1_score\n",
    "import json\n",
    "import random\n",
    "from nltk import word_tokenize\n",
    "from nltk.corpus import stopwords\n",
    "import string\n",
    "import nltk\n",
    "import re\n",
    "from tokenizers import BertWordPieceTokenizer"
   ]
  },
  {
   "cell_type": "code",
   "execution_count": 2,
   "id": "a0fe4bca",
   "metadata": {},
   "outputs": [],
   "source": [
    "pd.options.display.max_colwidth = 3000\n",
    "pd.options.display.max_rows = 3000"
   ]
  },
  {
   "cell_type": "code",
   "execution_count": 3,
   "id": "5c776098",
   "metadata": {},
   "outputs": [
    {
     "data": {
      "text/plain": [
       "device(type='cuda')"
      ]
     },
     "execution_count": 3,
     "metadata": {},
     "output_type": "execute_result"
    }
   ],
   "source": [
    "#device = torch.device('cuda') if torch.cuda.is_available() else torch.device('cpu')\n",
    "device = torch.device('cuda')\n",
    "device"
   ]
  },
  {
   "cell_type": "code",
   "execution_count": 9,
   "id": "c436419b",
   "metadata": {},
   "outputs": [
    {
     "name": "stderr",
     "output_type": "stream",
     "text": [
      "/tmp/ipykernel_28100/173699469.py:2: DtypeWarning: Columns (6,8) have mixed types. Specify dtype option on import or set low_memory=False.\n",
      "  data = pd.read_csv('./master_data_V3_0.csv')\n"
     ]
    },
    {
     "data": {
      "text/plain": [
       "(314492, 9)"
      ]
     },
     "execution_count": 9,
     "metadata": {},
     "output_type": "execute_result"
    }
   ],
   "source": [
    "#data = pd.read_csv('./Backup master data/master_data_6.csv', usecols=['ADR', 'text', 'category', 'type', 'date'])\n",
    "data = pd.read_csv('./master_data_V3_0.csv')\n",
    "data.shape"
   ]
  },
  {
   "cell_type": "code",
   "execution_count": null,
   "id": "de5ac351",
   "metadata": {},
   "outputs": [],
   "source": [
    "data['type'].value_counts()"
   ]
  },
  {
   "cell_type": "code",
   "execution_count": null,
   "id": "b55b6909",
   "metadata": {},
   "outputs": [],
   "source": [
    "data.isnull().sum()"
   ]
  },
  {
   "cell_type": "code",
   "execution_count": 10,
   "id": "19d4f28f",
   "metadata": {},
   "outputs": [
    {
     "data": {
      "text/plain": [
       "(312843, 9)"
      ]
     },
     "execution_count": 10,
     "metadata": {},
     "output_type": "execute_result"
    }
   ],
   "source": [
    "data.dropna(subset=['text'], inplace=True)\n",
    "data.shape"
   ]
  },
  {
   "cell_type": "code",
   "execution_count": null,
   "id": "2bd647dc",
   "metadata": {},
   "outputs": [],
   "source": [
    "data['category'].value_counts()"
   ]
  },
  {
   "cell_type": "code",
   "execution_count": 19,
   "id": "2685d704",
   "metadata": {},
   "outputs": [],
   "source": [
    "data[\"length\"] = data[\"text\"].str.split().apply(len)"
   ]
  },
  {
   "cell_type": "code",
   "execution_count": 34,
   "id": "e2d489d8",
   "metadata": {},
   "outputs": [
    {
     "data": {
      "text/plain": [
       "count    312843.000000\n",
       "mean        428.645004\n",
       "std         359.406909\n",
       "min           1.000000\n",
       "25%         209.000000\n",
       "50%         343.000000\n",
       "75%         567.000000\n",
       "max        5798.000000\n",
       "Name: length, dtype: float64"
      ]
     },
     "execution_count": 34,
     "metadata": {},
     "output_type": "execute_result"
    }
   ],
   "source": [
    "data[\"length\"].describe()"
   ]
  },
  {
   "cell_type": "code",
   "execution_count": 20,
   "id": "ad94d514",
   "metadata": {},
   "outputs": [],
   "source": [
    "d = data.loc[:, data.columns != 'text']\n",
    "d.to_csv(\"length.csv\", index=False)"
   ]
  },
  {
   "cell_type": "code",
   "execution_count": null,
   "id": "fe4595d3",
   "metadata": {},
   "outputs": [],
   "source": [
    "data['category'].value_counts()"
   ]
  },
  {
   "cell_type": "code",
   "execution_count": 13,
   "id": "71fb949e",
   "metadata": {},
   "outputs": [],
   "source": [
    "mappings = {'Assets - Source of funds': 'Bank Statement',\n",
    " 'Bank Statement': 'Bank Statement',\n",
    " 'Bank Statement(s)': 'Bank Statement',\n",
    " 'BK Papers': 'Bankruptcy Papers',\n",
    " 'Child Support/Alimony Agreement': 'Divorce Decree / Child Support',\n",
    " 'Construction Agreement/Contract': 'Purchase Agreement',\n",
    " 'Contractor Bids': 'Purchase Agreement',\n",
    " 'Contractor Docs': 'Purchase Agreement',\n",
    " 'Divorce Decree': 'Divorce Decree / Child Support',\n",
    " 'Earnest Money Deposit': 'Purchase Agreement',\n",
    " 'Gift Funds': 'Bank Statement',\n",
    " 'Hazard Insurance Contact Information': 'Hazard Insurance',\n",
    " 'Hazard Insurance Dec Page - Final': 'Hazard Insurance',\n",
    " 'Hazard Insurance Dec Page - Incomplete': 'Hazard Insurance',\n",
    " 'Hazard Insurance Dec Page - Initial': 'Hazard Insurance',\n",
    " 'Hazard Insurance Dec Page - Insufficient Coverage': 'Hazard Insurance',\n",
    " 'Hazard Insurance Declaration': 'Hazard Insurance',\n",
    " 'Insurance - Cost Estimator': 'Hazard Insurance',\n",
    " 'Insurance - Hazard Checklist': 'Hazard Insurance',\n",
    " 'Insurance - Proof Paid': 'Hazard Insurance',\n",
    " 'Insurance Dec Page, Other': 'Hazard Insurance',\n",
    " 'Insurance Document - Other': 'Hazard Insurance',\n",
    " 'Investment Account Statements': 'Retirement Account Statement(s)',\n",
    " 'Mortgage Statement': 'Mortgage Statement',\n",
    " 'Mortgage Statement of Inspection of Subject Property': 'Mortgage Statement',\n",
    " 'Mortgage Statement/Coupon, 1st': 'Mortgage Statement',\n",
    " 'Mortgage Statement/Coupon, 2nd': 'Mortgage Statement',\n",
    " 'Other Property 1st Mtg Stmt': 'Mortgage Statement',\n",
    " 'Other Property 2nd Mtg Stmt': 'Mortgage Statement',\n",
    " 'Purchase Agreement': 'Purchase Agreement',\n",
    " 'Purchase Agreement Addendum': 'Purchase Agreement',\n",
    " 'Purchase Document Other': 'Purchase Agreement',\n",
    " 'Rental Agreements(s)': 'Rental Agreements(s)',\n",
    " 'Retirement Account Statement(s)': 'Retirement Account Statement(s)',\n",
    " 'Sales Checklist': 'Purchase Agreement',\n",
    " 'Sales Contract and Addendums': 'Purchase Agreement',\n",
    " 'Sales Contract/Purchase Agreement': 'Purchase Agreement',\n",
    " 'Sales Forms': 'Purchase Agreement',\n",
    " 'Sales Stips': 'Purchase Agreement',\n",
    " 'Divorce Decree / Child Support': 'Divorce Decree / Child Support'}"
   ]
  },
  {
   "cell_type": "code",
   "execution_count": 14,
   "id": "6c4d0c31",
   "metadata": {},
   "outputs": [],
   "source": [
    "data['category'] = data['category'].replace(mappings)"
   ]
  },
  {
   "cell_type": "code",
   "execution_count": null,
   "id": "89581c97",
   "metadata": {},
   "outputs": [],
   "source": [
    "data['category'].value_counts()"
   ]
  },
  {
   "cell_type": "markdown",
   "id": "fd7b46ae",
   "metadata": {},
   "source": [
    "### Stopword removal"
   ]
  },
  {
   "cell_type": "code",
   "execution_count": null,
   "id": "d2370640",
   "metadata": {},
   "outputs": [],
   "source": [
    "alterted_text=[]\n",
    "remove_words = set(stopwords.words('english') + list(string.punctuation))\n",
    "for text in data.text.values:\n",
    "    text = re.sub(r'[~^0-9]', '', text)\n",
    "    wordlist = [word for word in word_tokenize(text.lower()) if not word in remove_words]\n",
    "    alterted_text.append((\" \").join(wordlist))"
   ]
  },
  {
   "cell_type": "code",
   "execution_count": null,
   "id": "c8f345c8",
   "metadata": {},
   "outputs": [],
   "source": [
    "data['text']= alterted_text"
   ]
  },
  {
   "cell_type": "markdown",
   "id": "44ef3f45",
   "metadata": {},
   "source": [
    "### Training"
   ]
  },
  {
   "cell_type": "code",
   "execution_count": null,
   "id": "8174695d",
   "metadata": {},
   "outputs": [],
   "source": [
    "temp = []\n",
    "\n",
    "# cats = ['Retirement Account Statement(s)',\n",
    "#         'Mortgage Statement',\n",
    "#         'Bank Statement',\n",
    "#         'Purchase Agreement',\n",
    "#         'Rental Agreements(s)',\n",
    "#         'Hazard Insurance',\n",
    "#         'Divorce Decree / Child Support',\n",
    "#         'Bankruptcy Papers']\n",
    "\n",
    "cats = ['Hazard Insurance',\n",
    "        'Divorce Decree / Child Support',\n",
    "        'Bankruptcy Papers']\n",
    "        \n",
    "        \n",
    "for category in data['category']:\n",
    "    if category not in cats:\n",
    "        temp.append('others')\n",
    "    else:\n",
    "        temp.append('focused')\n",
    "data['new_category'] = temp"
   ]
  },
  {
   "cell_type": "code",
   "execution_count": null,
   "id": "85f68831",
   "metadata": {},
   "outputs": [],
   "source": [
    "data['new_category'].unique()"
   ]
  },
  {
   "cell_type": "code",
   "execution_count": null,
   "id": "785bbbe2",
   "metadata": {},
   "outputs": [],
   "source": [
    "label_dict = {}\n",
    "label_dict['focused'] = 1\n",
    "label_dict['others'] = 0\n",
    "label_dict"
   ]
  },
  {
   "cell_type": "code",
   "execution_count": null,
   "id": "74388380",
   "metadata": {},
   "outputs": [],
   "source": [
    "# possible_labels = data.new_category.unique()\n",
    "\n",
    "# label_dict = {}\n",
    "# label_dict['others']=0\n",
    "# for i,cat in enumerate(cats):\n",
    "#     label_dict[cat]=i+1\n",
    "# label_dict"
   ]
  },
  {
   "cell_type": "code",
   "execution_count": null,
   "id": "3c784460",
   "metadata": {},
   "outputs": [],
   "source": [
    "data['label'] = data.new_category.replace(label_dict)\n",
    "data.head(1)"
   ]
  },
  {
   "cell_type": "code",
   "execution_count": null,
   "id": "8e0d7d85",
   "metadata": {},
   "outputs": [],
   "source": [
    "df = data.sample(frac=0.0, random_state=200)\n",
    "df.shape"
   ]
  },
  {
   "cell_type": "code",
   "execution_count": null,
   "id": "6efd3751",
   "metadata": {},
   "outputs": [],
   "source": [
    "test = data.drop(df.index).reset_index(drop=True)\n",
    "test.shape"
   ]
  },
  {
   "cell_type": "code",
   "execution_count": null,
   "id": "97770f56",
   "metadata": {},
   "outputs": [],
   "source": [
    "test['new_category'].value_counts()"
   ]
  },
  {
   "cell_type": "code",
   "execution_count": null,
   "id": "5e8803e4",
   "metadata": {},
   "outputs": [],
   "source": [
    "df['new_category'].value_counts()"
   ]
  },
  {
   "cell_type": "code",
   "execution_count": null,
   "id": "de814859",
   "metadata": {},
   "outputs": [],
   "source": [
    "classweight = torch.tensor(class_weight.compute_class_weight(class_weight='balanced',\n",
    "                                                             classes=df['new_category'].unique().tolist(),\n",
    "                                                             y=df['new_category'].values.tolist()), dtype=torch.float)\n",
    "classweight"
   ]
  },
  {
   "cell_type": "code",
   "execution_count": null,
   "id": "21062e7e",
   "metadata": {},
   "outputs": [],
   "source": [
    "df.reset_index(drop=True, inplace=True)\n",
    "df.head(1)"
   ]
  },
  {
   "cell_type": "code",
   "execution_count": null,
   "id": "73c25afd",
   "metadata": {},
   "outputs": [],
   "source": [
    "X_train, X_val, y_train, y_val = train_test_split(df.index.values, \n",
    "                                                  df.label.values, \n",
    "                                                  test_size=0.15, \n",
    "                                                  random_state=42, \n",
    "                                                  stratify=df.label.values)"
   ]
  },
  {
   "cell_type": "code",
   "execution_count": null,
   "id": "7186a08d",
   "metadata": {},
   "outputs": [],
   "source": [
    "df['data_type'] = 'not_set'\n",
    "df.head(2)"
   ]
  },
  {
   "cell_type": "code",
   "execution_count": null,
   "id": "9c62fccd",
   "metadata": {},
   "outputs": [],
   "source": [
    "df.loc[X_train, 'data_type'] = 'train'\n",
    "df.loc[X_val, 'data_type'] = 'val'"
   ]
  },
  {
   "cell_type": "code",
   "execution_count": null,
   "id": "99b2f578",
   "metadata": {},
   "outputs": [],
   "source": [
    "df.groupby(['new_category', 'label', 'data_type']).count()"
   ]
  },
  {
   "cell_type": "code",
   "execution_count": 55,
   "id": "c776d71a",
   "metadata": {},
   "outputs": [
    {
     "data": {
      "application/vnd.jupyter.widget-view+json": {
       "model_id": "d169cdfaa6f143f0acf7645fe76c075a",
       "version_major": 2,
       "version_minor": 0
      },
      "text/plain": [
       "Downloading:   0%|          | 0.00/226k [00:00<?, ?B/s]"
      ]
     },
     "metadata": {},
     "output_type": "display_data"
    },
    {
     "data": {
      "application/vnd.jupyter.widget-view+json": {
       "model_id": "0aa4119702b04e1f8b4d94372327cb88",
       "version_major": 2,
       "version_minor": 0
      },
      "text/plain": [
       "Downloading:   0%|          | 0.00/112 [00:00<?, ?B/s]"
      ]
     },
     "metadata": {},
     "output_type": "display_data"
    },
    {
     "data": {
      "application/vnd.jupyter.widget-view+json": {
       "model_id": "bf926980ab694896a73b55dc4443f64d",
       "version_major": 2,
       "version_minor": 0
      },
      "text/plain": [
       "Downloading:   0%|          | 0.00/252 [00:00<?, ?B/s]"
      ]
     },
     "metadata": {},
     "output_type": "display_data"
    },
    {
     "data": {
      "application/vnd.jupyter.widget-view+json": {
       "model_id": "af4f09375fbd4ab6bee430e633bc6023",
       "version_major": 2,
       "version_minor": 0
      },
      "text/plain": [
       "Downloading:   0%|          | 0.00/758 [00:00<?, ?B/s]"
      ]
     },
     "metadata": {},
     "output_type": "display_data"
    }
   ],
   "source": [
    "# tokenizer = BertTokenizer.from_pretrained('bert-base-uncased')\n",
    "tokenizer = BertTokenizer.from_pretrained('ProsusAI/finbert')"
   ]
  },
  {
   "cell_type": "code",
   "execution_count": 56,
   "id": "352a7bb5",
   "metadata": {},
   "outputs": [
    {
     "data": {
      "text/plain": [
       "('/data/mmortgage/amal_workspace/multi_page_classification_preprocessing/tokens/vocab.txt',)"
      ]
     },
     "execution_count": 56,
     "metadata": {},
     "output_type": "execute_result"
    }
   ],
   "source": [
    "tokenizer.save_vocabulary(\"/data/mmortgage/amal_workspace/multi_page_classification_preprocessing/tokens\")"
   ]
  },
  {
   "cell_type": "code",
   "execution_count": null,
   "id": "c0256402",
   "metadata": {},
   "outputs": [],
   "source": [
    "# tokenizerBW = BertWordPieceTokenizer.from_pretrained(\"bert-base-uncased\")\n",
    "# # tokenized_sequenceBW = tokenizerBW.encode(sequence)"
   ]
  },
  {
   "cell_type": "code",
   "execution_count": 18,
   "id": "446106df",
   "metadata": {},
   "outputs": [
    {
     "data": {
      "text/html": [
       "<div>\n",
       "<style scoped>\n",
       "    .dataframe tbody tr th:only-of-type {\n",
       "        vertical-align: middle;\n",
       "    }\n",
       "\n",
       "    .dataframe tbody tr th {\n",
       "        vertical-align: top;\n",
       "    }\n",
       "\n",
       "    .dataframe thead th {\n",
       "        text-align: right;\n",
       "    }\n",
       "</style>\n",
       "<table border=\"1\" class=\"dataframe\">\n",
       "  <thead>\n",
       "    <tr style=\"text-align: right;\">\n",
       "      <th></th>\n",
       "      <th>ADR</th>\n",
       "      <th>text</th>\n",
       "      <th>category</th>\n",
       "      <th>type</th>\n",
       "      <th>date</th>\n",
       "      <th>ogr/aug</th>\n",
       "      <th>page#</th>\n",
       "      <th>angle</th>\n",
       "      <th>renamed category</th>\n",
       "      <th>length</th>\n",
       "    </tr>\n",
       "  </thead>\n",
       "  <tbody>\n",
       "    <tr>\n",
       "      <th>22923</th>\n",
       "      <td>ADR-2022-100004515340</td>\n",
       "      <td>PHH MORTGAGE P O BOX 5954, SPRINGFIELD, OH 45501-5954 Tel: 1-888-882-1855 Fax: 1-937-525-4210 May 12, 2022 ROBERT K WASHINGTON 2610 INDIAN TRL DR MISSOURI CITY, TX 77489-5200 SUBJECT: Account Number: 0038071999 Hazard Insurance Expiration Date: 05/01/2023 Property Address: 2610 INDIAN TRL DR MISSOURI CITY, TX 77489-5200 Dear Customer: Why We Are Sending This Letter? Enclosed is a policy that renews the lender-placed insurance policy on the account. We originally placed this policy on your property because acceptable proof of coverage was not provided. The annual premium to renew is shown on the policy. This premium will be charged to the escrow account. Under the terms of the mortgage documents, adequate insurance is required to be maintained on the property at all times. Failure to do so is a breach of the agreements of the mortgage. We obtained this policy because we did not receive proof that there was a sufficient insurance policy on the property. We have taken this action to protect our mutual interests in the property. What Needs To Be Done? Any lender-placed policy we have obtained may be cancelled at any time by providing us proof of sufficient insurance coverage. If you are able to provide proof of alternate, sufficient coverage, charges for the lender-placed coverage will be limited to the time periods for which you cannot provide proof of coverage. Any unused premium amounts will be refunded to the escrow account. If your account was previously non-escrow and you would like your account to go back to non-escrow, contact customer care and they can assist with de-escrowing your account. We strongly urge you to contact an agent or company of your choice to purchase coverage. Please send the policy to the address shown below, or fax a copy of the policy to 1-937-525-4210. You may also update your hazard coverage directly to our web site at www.MyCoverageInfo.com/mortgagefamily or send via email to MortgageFamily@MyCoverageinfo.com. PHH MORTGAGE SERVICES ITS SUCCESSORS AND/OR ASSIGNS AS THEIR INTEREST MAY APPEAR PO BOX 5954 SPRINGFIELD, OH 45501-5954 2114H4-1221</td>\n",
       "      <td>Hazard Insurance</td>\n",
       "      <td>LD</td>\n",
       "      <td>20220722123724</td>\n",
       "      <td>org</td>\n",
       "      <td>1</td>\n",
       "      <td>-0.1007</td>\n",
       "      <td>No</td>\n",
       "      <td>336</td>\n",
       "    </tr>\n",
       "    <tr>\n",
       "      <th>22924</th>\n",
       "      <td>ADR-2022-100004515340</td>\n",
       "      <td>What We Will Do? The lender-placed coverage may not provide as much coverage as insurance you may be able to purchase directly and may cost significantly more than insurance you may purchase directly because our carrier has issued this coverage without the benefit of normal underwriting guidelines. Please read the policy carefully to make sure you understand its terms and conditions. If you have information to verify that the amount of coverage should be different, please notify us in writing and include the account number on your letter. This lender-placed policy insures your house structure only. It does not protect your personal property nor does it protect you from liability against accidents that occur on your property. For example, if your house were burglarized, it would not cover the stolen property. Thank you for taking the time to help us resolve this matter. We appreciate the opportunity to serve you and look forward to meeting your mortgage needs. If you have any questions regarding this matter, please call us at 1-888-882-1855 Monday through Friday between 8:00 a.m. and 9:00 p.m. Eastern Time, and on Saturday between 8:00 a.m. and 5:00 p.m. Eastern Time, and our Customer Service Representatives will be happy to help you. Sincerely, Loan Servicing If your insurance is not currently paid from an escrow account, and you are unable to pay your insurance premium in full, please call us as soon as possible to see if we can establish an escrow account to pay the insurance premium. If you choose this option and are eligible for escrow, we would establish a monthly escrow for the payment of future insurance premiums as well as any amounts already advanced. We will need the contact information for your insurance agent or company as well as the amount of the premium currently due. It is important that you call us immediately if you need our assistance. We cannot pay the insurance premium for coverage you obtain without your cooperation. IMPORTANT MESSAGE Please note that the coverage under the Lender Placed Policy referenced in this letter will be cancelled as of the payoff date of the account. If you retain ownership in the property after payoff, we strongly advise you to obtain your own insurance policy to avoid any lapse in coverage as a result of this cancellation. Any applicable refund will be deposited into the escrow account and the net proceeds will be sent to the last mailing address on record. Texas Property Owners: COMPLAINTS REGARDING THE SERVICING OF YOUR MORTGAGE SHOULD BE SENT TO THE DEPARTMENT OF SAVINGS AND MORTGAGE LENDING, 2601 NORTH LAMAR, SUITE 201, AUSTIN, TX 78705. A TOLL-FREE CONSUMER HOTLINE IS AVAILABLE AT 877-276-5550. A complaint form and instructions may be downloaded and printed from the department's website located at www.sml.texas.gov or obtained from the department upon request by: mail to the aforementioned address, telephone through their toll-free consumer hotline listed, or email at smlinfo@sml.texas.go...</td>\n",
       "      <td>Hazard Insurance</td>\n",
       "      <td>LD</td>\n",
       "      <td>20220722123724</td>\n",
       "      <td>org</td>\n",
       "      <td>2</td>\n",
       "      <td>0.0000</td>\n",
       "      <td>No</td>\n",
       "      <td>595</td>\n",
       "    </tr>\n",
       "    <tr>\n",
       "      <th>22925</th>\n",
       "      <td>ADR-2022-100004515340</td>\n",
       "      <td>DECLARATIONS AMERICAN SECURITY INSURANCE COMPANY CERTIFICATE NUMBER: MLR21149729747 PO BOX 50355, ATLANTA, GA 30302 A Stock Insurance Company CERTIFICATE PERIOD: Issued under the provisions of EFFECTIVE DATE EFFECTIVE TIME EXPIRATION DATE Master Policy No .: 05/01/2022 12:01 am 05/01/2023 MIP-RCH-02114-00 NAMED INSURED and Mailing Address: For Company Use: PHH MORTGAGE SERVICES Bosis: Territory: 0003 ITS SUCCESSORS AND/OR ASSIGNS Class: AS THEIR INTEREST MAY APPEAR Other: FIR SFD 021140160 P O BOX 5954 SPRINGFIELD, OH 45501-5954 DESCRIBED LOCATION. The property covered by this Certificate is at the described location unless otherwise stated: 2610 INDIAN TRL DR MISSOURI CITY, TX 77489-5200 COVERAGE AND LIMITS OF LIABILITY - Coverage is provided only where a premium is shown for the coverage, subject to all conditions of this Certificate. RESIDENTIAL PROPERTY: LIMIT OF LIABILITY DEDUCTIBLES PREMIUM Coverage A - $95,890 Windstorm, Hail or Hurricane: 2% of the Limit of Liability or $1,701.00 Coverage B - 10% of Coverage A $2,000, whichever is greater. All Other Perils: $1,000 TOTAL PREMIUM $1,701.00 COMMERCIAL PROPERTY: LIMIT OF LIABILITY DEDUCTIBLES PREMIUM Building - Windstorm, Hail or Hurricane: % of the Limit of Liability or , whichever is greater. All Other Perils: TOTAL PREMIUM Optional Coverages, Assessments, Surcharges, Taxes, Fees (if applicable): TOTAL AMOUNT $1,701.00 FORMS AND ENDORSEMENTS which are made a part of this Certificate at the time of issuance: MIP 223 AS (01-12),MIP 233 (01-12),MIP 05 TX (01-12),MIP 243 TX (04-18),NOTI1083 (01-20) NT0278 (08-19),MIP 219 (02-20),MIP 239 TX (02-12) BORROWER - Name and address: ROBERT K WASHINGTON 2610 INDIAN TRL DR MISSOURI CITY, TX 77489-5200 Loan No .: 0038071999 CLAIMS: 1-800-326-2845 Issue Date: 05/12/2022 ALL OTHER INQUIRIES: 1-888-882-1855 Countersignature (where required) MIP 04 AS (01-12) Page 1 of 1 MIPO4ASR-1116</td>\n",
       "      <td>Hazard Insurance</td>\n",
       "      <td>LD</td>\n",
       "      <td>20220722123724</td>\n",
       "      <td>org</td>\n",
       "      <td>3</td>\n",
       "      <td>0.0000</td>\n",
       "      <td>No</td>\n",
       "      <td>282</td>\n",
       "    </tr>\n",
       "    <tr>\n",
       "      <th>22926</th>\n",
       "      <td>ADR-2022-100004515340</td>\n",
       "      <td>AMERICAN SECURITY INSURANCE COMPANY P.O. BOX 50355, ATLANTA, GA 30302 A Stock Insurance Company Home Office: Wilmington, DE Residential Dwelling Certificate This Certificate only covers buildings and structures. Please read your Certificate and all endorsements carefully. THIS CERTIFICATE JACKET TOGETHER WITH THE DWELLING FORM AND ENDORSEMENTS, IF ANY, ISSUED TO FORM A PART THEREOF, COMPLETES THIS CERTIFICATE. QUICK REFERENCE Beginning Beginning On Page On Page AGREEMENT 1 CONDITIONS DEFINITIONS 1 Certificate Period 5 COVERAGES Insurable Interests 5 1 OTHER COVERAGES 1 Concealment or Fraud 5 Other Structures Your Duties After Loss 1 5 Debris Removal 2 Loss Settlement 6 Loss to a Pair or Set Reasonable Repairs 2 6 Property Removed 2 Glass Replacement 6 Appraisal Collapse 2 6 Glass or Safety Glazing Material 2 Other Insurance 6 Ordinance or Law 3 Subrogation 6 PERILS INSURED AGAINST Action Against Us 7 GENERAL EXCLUSIONS Loss Payment 7 Ordinance or Law 4 Deductible 7 Earth Movement 4 Abandonment of Property 7 Water Damage 4 No Benefit to Bailee 7 Power Failure 5 Cancellation 7 Neglect 5 Non-Renewal 7 War 5 Liberalization Clause 7 5 Waiver or Change of Certificate Provisions Nuclear Hazard 8 Intentional Loss 5 Assignment 8 Weather conditions 5 Nuclear Hazard Clause 8 Acts or decisions 5 Salvage and Recoveries 8 Faulty, inadequate or defective 5 Volcanic Eruption Period 8 Premiums 8 READ YOUR CERTIFICATE CAREFULLY MIP 223 AS (01-12) MIP223A5-0212</td>\n",
       "      <td>Hazard Insurance</td>\n",
       "      <td>LD</td>\n",
       "      <td>20220722123724</td>\n",
       "      <td>org</td>\n",
       "      <td>4</td>\n",
       "      <td>0.0000</td>\n",
       "      <td>No</td>\n",
       "      <td>231</td>\n",
       "    </tr>\n",
       "    <tr>\n",
       "      <th>22927</th>\n",
       "      <td>ADR-2022-100004515340</td>\n",
       "      <td>Mortgagee's Interest Protection Residential Dwelling Certificate AGREEMENT COVERAGE A - Dwelling We will provide the insurance described in this 1. Property Covered We cover Certificate in return for the premium and compliance with all applicable provisions of this Certificate and the a. The 1-4 family dwelling on the described location shown in the Declarations, used Declarations, which is attached to and forms a part of this Certificate. principally for dwelling purposes, including structures attached to the dwelling; . Materials and supplies located on or next to the DEFINITIONS described location used to construct, alter or repair the dwelling or other structures on the In this Certificate, you and your refer to the financial institution shown as named insured in the described location; and If not otherwise covered in this Certificate, Declarations. We, us and our refer to the Company c. building equipment and outdoor equipment providing this insurance. In addition, certain words and used for the service of and located on the phrases are defined as follows: 1. Borrower refers to the person or persons who have described location. 2. Property Not Covered entered into a lien or mortgage agreement with the a. Personal property of any kind. named insured for the property shown as the b. Outdoor trees, shrubs, plants and lawns. described location in the Declarations. 2. Residential Property means the dwelling and other . Outdoor swimming pools; fences, piers, structures covered by this Certificate and shown as wharves and docks; beach or diving platforms or appurtenances; retaining walls not the described location in the Declarations. 3. Net Loan Balance means and is limited to only the constituting a part of buildings; walks, roadway; and other paved surfaces. unpaid principal balance plus earned interest as of the date of loss. . Cost of excavations, grading or filling. Ti e. Foundations of buildings, machinery, boilers or 4. Actual Cash Value means the cost of replacing the damaged or destroyed property with a comparable engines which foundations are below the surface of the ground. new property, minus depreciation and obsolescence. Described Location. The legal description, or f. Pilings, piers, pipes, flues and drains which are underground. common street address, of real property which has g. Pilings which are below the low water mark. been pledged under a valid deed of trust, mortgage h. Land, including land on which the residential document, or any other mortgage instrument as property is located. security for a loan made, assumed or serviced by an insured and upon which a building is situated. COVERAGE B - Other Structures 6. Dwelling. A building designed for use as a residence for no more than four families or a We cover other structures on the described location, mobile home. 7. Mobile Home means: set apart from the dwelling by clear space. This includes structures connected to the dwelling by only a a. A building which satisfies the...</td>\n",
       "      <td>Hazard Insurance</td>\n",
       "      <td>LD</td>\n",
       "      <td>20220722123724</td>\n",
       "      <td>org</td>\n",
       "      <td>5</td>\n",
       "      <td>0.0000</td>\n",
       "      <td>No</td>\n",
       "      <td>646</td>\n",
       "    </tr>\n",
       "  </tbody>\n",
       "</table>\n",
       "</div>"
      ],
      "text/plain": [
       "                         ADR  \\\n",
       "22923  ADR-2022-100004515340   \n",
       "22924  ADR-2022-100004515340   \n",
       "22925  ADR-2022-100004515340   \n",
       "22926  ADR-2022-100004515340   \n",
       "22927  ADR-2022-100004515340   \n",
       "\n",
       "                                                                                                                                                                                                                                                                                                                                                                                                                                                                                                                                                                                                                                                                                                                                                                                                                                                                                                                                                                                                                                                                                                                                                                                                                                                                                                                                                                                                                                                                                                                                                                                                                                                                                                                                                                                                                                                                                                                                                                                                                                                                                                                                                                                                                                                                                                                                                                                                                                                                                                                                                                                                                                                                                                                                                                                                                                                                                                                                                                                                                                                                                                                          text  \\\n",
       "22923                                                                                                                                                                                                                                                                                                                                                                                                                                                                                                                                                                                                                                                                                                                                                                                                                                                                                                                                 PHH MORTGAGE P O BOX 5954, SPRINGFIELD, OH 45501-5954 Tel: 1-888-882-1855 Fax: 1-937-525-4210 May 12, 2022 ROBERT K WASHINGTON 2610 INDIAN TRL DR MISSOURI CITY, TX 77489-5200 SUBJECT: Account Number: 0038071999 Hazard Insurance Expiration Date: 05/01/2023 Property Address: 2610 INDIAN TRL DR MISSOURI CITY, TX 77489-5200 Dear Customer: Why We Are Sending This Letter? Enclosed is a policy that renews the lender-placed insurance policy on the account. We originally placed this policy on your property because acceptable proof of coverage was not provided. The annual premium to renew is shown on the policy. This premium will be charged to the escrow account. Under the terms of the mortgage documents, adequate insurance is required to be maintained on the property at all times. Failure to do so is a breach of the agreements of the mortgage. We obtained this policy because we did not receive proof that there was a sufficient insurance policy on the property. We have taken this action to protect our mutual interests in the property. What Needs To Be Done? Any lender-placed policy we have obtained may be cancelled at any time by providing us proof of sufficient insurance coverage. If you are able to provide proof of alternate, sufficient coverage, charges for the lender-placed coverage will be limited to the time periods for which you cannot provide proof of coverage. Any unused premium amounts will be refunded to the escrow account. If your account was previously non-escrow and you would like your account to go back to non-escrow, contact customer care and they can assist with de-escrowing your account. We strongly urge you to contact an agent or company of your choice to purchase coverage. Please send the policy to the address shown below, or fax a copy of the policy to 1-937-525-4210. You may also update your hazard coverage directly to our web site at www.MyCoverageInfo.com/mortgagefamily or send via email to MortgageFamily@MyCoverageinfo.com. PHH MORTGAGE SERVICES ITS SUCCESSORS AND/OR ASSIGNS AS THEIR INTEREST MAY APPEAR PO BOX 5954 SPRINGFIELD, OH 45501-5954 2114H4-1221   \n",
       "22924   What We Will Do? The lender-placed coverage may not provide as much coverage as insurance you may be able to purchase directly and may cost significantly more than insurance you may purchase directly because our carrier has issued this coverage without the benefit of normal underwriting guidelines. Please read the policy carefully to make sure you understand its terms and conditions. If you have information to verify that the amount of coverage should be different, please notify us in writing and include the account number on your letter. This lender-placed policy insures your house structure only. It does not protect your personal property nor does it protect you from liability against accidents that occur on your property. For example, if your house were burglarized, it would not cover the stolen property. Thank you for taking the time to help us resolve this matter. We appreciate the opportunity to serve you and look forward to meeting your mortgage needs. If you have any questions regarding this matter, please call us at 1-888-882-1855 Monday through Friday between 8:00 a.m. and 9:00 p.m. Eastern Time, and on Saturday between 8:00 a.m. and 5:00 p.m. Eastern Time, and our Customer Service Representatives will be happy to help you. Sincerely, Loan Servicing If your insurance is not currently paid from an escrow account, and you are unable to pay your insurance premium in full, please call us as soon as possible to see if we can establish an escrow account to pay the insurance premium. If you choose this option and are eligible for escrow, we would establish a monthly escrow for the payment of future insurance premiums as well as any amounts already advanced. We will need the contact information for your insurance agent or company as well as the amount of the premium currently due. It is important that you call us immediately if you need our assistance. We cannot pay the insurance premium for coverage you obtain without your cooperation. IMPORTANT MESSAGE Please note that the coverage under the Lender Placed Policy referenced in this letter will be cancelled as of the payoff date of the account. If you retain ownership in the property after payoff, we strongly advise you to obtain your own insurance policy to avoid any lapse in coverage as a result of this cancellation. Any applicable refund will be deposited into the escrow account and the net proceeds will be sent to the last mailing address on record. Texas Property Owners: COMPLAINTS REGARDING THE SERVICING OF YOUR MORTGAGE SHOULD BE SENT TO THE DEPARTMENT OF SAVINGS AND MORTGAGE LENDING, 2601 NORTH LAMAR, SUITE 201, AUSTIN, TX 78705. A TOLL-FREE CONSUMER HOTLINE IS AVAILABLE AT 877-276-5550. A complaint form and instructions may be downloaded and printed from the department's website located at www.sml.texas.gov or obtained from the department upon request by: mail to the aforementioned address, telephone through their toll-free consumer hotline listed, or email at smlinfo@sml.texas.go...   \n",
       "22925                                                                                                                                                                                                                                                                                                                                                                                                                                                                                                                                                                                                                                                                                                                                                                                                                                                                                                                                                                                                                                                                                                                                        DECLARATIONS AMERICAN SECURITY INSURANCE COMPANY CERTIFICATE NUMBER: MLR21149729747 PO BOX 50355, ATLANTA, GA 30302 A Stock Insurance Company CERTIFICATE PERIOD: Issued under the provisions of EFFECTIVE DATE EFFECTIVE TIME EXPIRATION DATE Master Policy No .: 05/01/2022 12:01 am 05/01/2023 MIP-RCH-02114-00 NAMED INSURED and Mailing Address: For Company Use: PHH MORTGAGE SERVICES Bosis: Territory: 0003 ITS SUCCESSORS AND/OR ASSIGNS Class: AS THEIR INTEREST MAY APPEAR Other: FIR SFD 021140160 P O BOX 5954 SPRINGFIELD, OH 45501-5954 DESCRIBED LOCATION. The property covered by this Certificate is at the described location unless otherwise stated: 2610 INDIAN TRL DR MISSOURI CITY, TX 77489-5200 COVERAGE AND LIMITS OF LIABILITY - Coverage is provided only where a premium is shown for the coverage, subject to all conditions of this Certificate. RESIDENTIAL PROPERTY: LIMIT OF LIABILITY DEDUCTIBLES PREMIUM Coverage A - $95,890 Windstorm, Hail or Hurricane: 2% of the Limit of Liability or $1,701.00 Coverage B - 10% of Coverage A $2,000, whichever is greater. All Other Perils: $1,000 TOTAL PREMIUM $1,701.00 COMMERCIAL PROPERTY: LIMIT OF LIABILITY DEDUCTIBLES PREMIUM Building - Windstorm, Hail or Hurricane: % of the Limit of Liability or , whichever is greater. All Other Perils: TOTAL PREMIUM Optional Coverages, Assessments, Surcharges, Taxes, Fees (if applicable): TOTAL AMOUNT $1,701.00 FORMS AND ENDORSEMENTS which are made a part of this Certificate at the time of issuance: MIP 223 AS (01-12),MIP 233 (01-12),MIP 05 TX (01-12),MIP 243 TX (04-18),NOTI1083 (01-20) NT0278 (08-19),MIP 219 (02-20),MIP 239 TX (02-12) BORROWER - Name and address: ROBERT K WASHINGTON 2610 INDIAN TRL DR MISSOURI CITY, TX 77489-5200 Loan No .: 0038071999 CLAIMS: 1-800-326-2845 Issue Date: 05/12/2022 ALL OTHER INQUIRIES: 1-888-882-1855 Countersignature (where required) MIP 04 AS (01-12) Page 1 of 1 MIPO4ASR-1116   \n",
       "22926                                                                                                                                                                                                                                                                                                                                                                                                                                                                                                                                                                                                                                                                                                                                                                                                                                                                                                                                                                                                                                                                                                                                                                                                                                                                                                                                                                                                                                                                                                                                                                                               AMERICAN SECURITY INSURANCE COMPANY P.O. BOX 50355, ATLANTA, GA 30302 A Stock Insurance Company Home Office: Wilmington, DE Residential Dwelling Certificate This Certificate only covers buildings and structures. Please read your Certificate and all endorsements carefully. THIS CERTIFICATE JACKET TOGETHER WITH THE DWELLING FORM AND ENDORSEMENTS, IF ANY, ISSUED TO FORM A PART THEREOF, COMPLETES THIS CERTIFICATE. QUICK REFERENCE Beginning Beginning On Page On Page AGREEMENT 1 CONDITIONS DEFINITIONS 1 Certificate Period 5 COVERAGES Insurable Interests 5 1 OTHER COVERAGES 1 Concealment or Fraud 5 Other Structures Your Duties After Loss 1 5 Debris Removal 2 Loss Settlement 6 Loss to a Pair or Set Reasonable Repairs 2 6 Property Removed 2 Glass Replacement 6 Appraisal Collapse 2 6 Glass or Safety Glazing Material 2 Other Insurance 6 Ordinance or Law 3 Subrogation 6 PERILS INSURED AGAINST Action Against Us 7 GENERAL EXCLUSIONS Loss Payment 7 Ordinance or Law 4 Deductible 7 Earth Movement 4 Abandonment of Property 7 Water Damage 4 No Benefit to Bailee 7 Power Failure 5 Cancellation 7 Neglect 5 Non-Renewal 7 War 5 Liberalization Clause 7 5 Waiver or Change of Certificate Provisions Nuclear Hazard 8 Intentional Loss 5 Assignment 8 Weather conditions 5 Nuclear Hazard Clause 8 Acts or decisions 5 Salvage and Recoveries 8 Faulty, inadequate or defective 5 Volcanic Eruption Period 8 Premiums 8 READ YOUR CERTIFICATE CAREFULLY MIP 223 AS (01-12) MIP223A5-0212   \n",
       "22927   Mortgagee's Interest Protection Residential Dwelling Certificate AGREEMENT COVERAGE A - Dwelling We will provide the insurance described in this 1. Property Covered We cover Certificate in return for the premium and compliance with all applicable provisions of this Certificate and the a. The 1-4 family dwelling on the described location shown in the Declarations, used Declarations, which is attached to and forms a part of this Certificate. principally for dwelling purposes, including structures attached to the dwelling; . Materials and supplies located on or next to the DEFINITIONS described location used to construct, alter or repair the dwelling or other structures on the In this Certificate, you and your refer to the financial institution shown as named insured in the described location; and If not otherwise covered in this Certificate, Declarations. We, us and our refer to the Company c. building equipment and outdoor equipment providing this insurance. In addition, certain words and used for the service of and located on the phrases are defined as follows: 1. Borrower refers to the person or persons who have described location. 2. Property Not Covered entered into a lien or mortgage agreement with the a. Personal property of any kind. named insured for the property shown as the b. Outdoor trees, shrubs, plants and lawns. described location in the Declarations. 2. Residential Property means the dwelling and other . Outdoor swimming pools; fences, piers, structures covered by this Certificate and shown as wharves and docks; beach or diving platforms or appurtenances; retaining walls not the described location in the Declarations. 3. Net Loan Balance means and is limited to only the constituting a part of buildings; walks, roadway; and other paved surfaces. unpaid principal balance plus earned interest as of the date of loss. . Cost of excavations, grading or filling. Ti e. Foundations of buildings, machinery, boilers or 4. Actual Cash Value means the cost of replacing the damaged or destroyed property with a comparable engines which foundations are below the surface of the ground. new property, minus depreciation and obsolescence. Described Location. The legal description, or f. Pilings, piers, pipes, flues and drains which are underground. common street address, of real property which has g. Pilings which are below the low water mark. been pledged under a valid deed of trust, mortgage h. Land, including land on which the residential document, or any other mortgage instrument as property is located. security for a loan made, assumed or serviced by an insured and upon which a building is situated. COVERAGE B - Other Structures 6. Dwelling. A building designed for use as a residence for no more than four families or a We cover other structures on the described location, mobile home. 7. Mobile Home means: set apart from the dwelling by clear space. This includes structures connected to the dwelling by only a a. A building which satisfies the...   \n",
       "\n",
       "               category type            date ogr/aug page#   angle  \\\n",
       "22923  Hazard Insurance   LD  20220722123724     org     1 -0.1007   \n",
       "22924  Hazard Insurance   LD  20220722123724     org     2  0.0000   \n",
       "22925  Hazard Insurance   LD  20220722123724     org     3  0.0000   \n",
       "22926  Hazard Insurance   LD  20220722123724     org     4  0.0000   \n",
       "22927  Hazard Insurance   LD  20220722123724     org     5  0.0000   \n",
       "\n",
       "      renamed category  length  \n",
       "22923               No     336  \n",
       "22924               No     595  \n",
       "22925               No     282  \n",
       "22926               No     231  \n",
       "22927               No     646  "
      ]
     },
     "execution_count": 18,
     "metadata": {},
     "output_type": "execute_result"
    }
   ],
   "source": [
    "data_h = data[data[\"category\"]==\"Hazard Insurance\"][:5]\n",
    "data_h[\"length\"] = data_h[\"text\"].str.split().apply(len)\n",
    "data_h"
   ]
  },
  {
   "cell_type": "code",
   "execution_count": 24,
   "id": "7ac58eec",
   "metadata": {},
   "outputs": [],
   "source": [
    "encoded_data = tokenizer.batch_encode_plus(\n",
    "    data_h.text.values, \n",
    "    add_special_tokens=True, \n",
    "    return_attention_mask=True, \n",
    "    pad_to_max_length=True, \n",
    "    max_length=512, \n",
    "    truncation=True,\n",
    "    return_tensors='pt'\n",
    ")"
   ]
  },
  {
   "cell_type": "code",
   "execution_count": 53,
   "id": "bab44bb7",
   "metadata": {},
   "outputs": [
    {
     "data": {
      "text/plain": [
       "{'input_ids': tensor([[  101,  6887,  2232,  ...,     0,     0,     0],\n",
       "        [  101,  2054,  2057,  ...,  1997, 10995,   102],\n",
       "        [  101,  8170,  2015,  ...,  6070,  2475,   102],\n",
       "        [  101,  2137,  3036,  ...,     0,     0,     0],\n",
       "        [  101, 14344,  2063,  ...,  2029,  1037,   102]]), 'token_type_ids': tensor([[0, 0, 0,  ..., 0, 0, 0],\n",
       "        [0, 0, 0,  ..., 0, 0, 0],\n",
       "        [0, 0, 0,  ..., 0, 0, 0],\n",
       "        [0, 0, 0,  ..., 0, 0, 0],\n",
       "        [0, 0, 0,  ..., 0, 0, 0]]), 'attention_mask': tensor([[1, 1, 1,  ..., 0, 0, 0],\n",
       "        [1, 1, 1,  ..., 1, 1, 1],\n",
       "        [1, 1, 1,  ..., 1, 1, 1],\n",
       "        [1, 1, 1,  ..., 0, 0, 0],\n",
       "        [1, 1, 1,  ..., 1, 1, 1]])}"
      ]
     },
     "execution_count": 53,
     "metadata": {},
     "output_type": "execute_result"
    }
   ],
   "source": [
    "# type(encoded_data)\n",
    "encoded_data"
   ]
  },
  {
   "cell_type": "code",
   "execution_count": 26,
   "id": "540eea57",
   "metadata": {},
   "outputs": [
    {
     "data": {
      "text/plain": [
       "tensor([  101,  8170,  2015,  2137,  3036,  5427,  2194,  8196,  2193,  1024,\n",
       "        19875,  2099, 17465, 16932,  2683,  2581, 24594,  2581, 22610, 13433,\n",
       "         3482,  2753, 19481,  2629,  1010,  5865,  1010, 11721, 19988,  2692,\n",
       "         2475,  1037,  4518,  5427,  2194,  8196,  2558,  1024,  3843,  2104,\n",
       "         1996,  8910,  1997,  4621,  3058,  4621,  2051,  4654, 16781,  3058,\n",
       "         3040,  3343,  2053,  1012,  1024,  5709,  1013,  5890,  1013, 16798,\n",
       "         2475,  2260,  1024,  5890,  2572,  5709,  1013,  5890,  1013, 16798,\n",
       "         2509,  2771,  2361,  1011, 22110,  2232,  1011,  6185, 14526,  2549,\n",
       "         1011,  4002,  2315, 16021, 12165,  1998,  5653,  2075,  4769,  1024,\n",
       "         2005,  2194,  2224,  1024,  6887,  2232, 14344,  2578,  8945,  6190,\n",
       "         1024,  3700,  1024,  2199,  2509,  2049, 18530,  1998,  1013,  2030,\n",
       "        24022,  2465,  1024,  2004,  2037,  3037,  2089,  3711,  2060,  1024,\n",
       "        21554, 16420,  2094,  6185, 14526, 12740, 16048,  2692,  1052,  1051,\n",
       "         3482,  5354, 27009, 10493,  1010,  2821,  3429, 12376,  2487,  1011,\n",
       "         5354, 27009,  2649,  3295,  1012,  1996,  3200,  3139,  2011,  2023,\n",
       "         8196,  2003,  2012,  1996,  2649,  3295,  4983,  4728,  3090,  1024,\n",
       "        24441,  2692,  2796, 19817,  2140,  2852,  5284,  2103,  1010, 19067,\n",
       "         6255, 18139,  2683,  1011, 19611,  2692,  6325,  1998,  6537,  1997,\n",
       "        14000,  1011,  6325,  2003,  3024,  2069,  2073,  1037, 12882,  2003,\n",
       "         3491,  2005,  1996,  6325,  1010,  3395,  2000,  2035,  3785,  1997,\n",
       "         2023,  8196,  1012,  5647,  3200,  1024,  5787,  1997, 14000,  2139,\n",
       "         8566,  6593,  7028,  2015, 12882,  6325,  1037,  1011,  1002,  5345,\n",
       "         1010,  6486,  2692,  7266, 20654,  1010, 16889,  2030,  7064,  1024,\n",
       "         1016,  1003,  1997,  1996,  5787,  1997, 14000,  2030,  1002,  1015,\n",
       "         1010,  3963,  2487,  1012,  4002,  6325,  1038,  1011,  2184,  1003,\n",
       "         1997,  6325,  1037,  1002,  1016,  1010,  2199,  1010, 29221,  2003,\n",
       "         3618,  1012,  2035,  2060,  2566, 12146,  1024,  1002,  1015,  1010,\n",
       "         2199,  2561, 12882,  1002,  1015,  1010,  3963,  2487,  1012,  4002,\n",
       "         3293,  3200,  1024,  5787,  1997, 14000,  2139,  8566,  6593,  7028,\n",
       "         2015, 12882,  2311,  1011,  7266, 20654,  1010, 16889,  2030,  7064,\n",
       "         1024,  1003,  1997,  1996,  5787,  1997, 14000,  2030,  1010, 29221,\n",
       "         2003,  3618,  1012,  2035,  2060,  2566, 12146,  1024,  2561, 12882,\n",
       "        11887,  6325,  2015,  1010, 20794,  1010,  7505,  7507, 20800,  2015,\n",
       "         1010,  7773,  1010,  9883,  1006,  2065, 12711,  1007,  1024,  2561,\n",
       "         3815,  1002,  1015,  1010,  3963,  2487,  1012,  4002,  3596,  1998,\n",
       "        20380,  2015,  2029,  2024,  2081,  1037,  2112,  1997,  2023,  8196,\n",
       "         2012,  1996,  2051,  1997, 26354, 26620,  1024,  2771,  2361, 20802,\n",
       "         2004,  1006,  5890,  1011,  2260,  1007,  1010,  2771,  2361, 22115,\n",
       "         1006,  5890,  1011,  2260,  1007,  1010,  2771,  2361,  5709, 19067,\n",
       "         1006,  5890,  1011,  2260,  1007,  1010,  2771,  2361, 22884, 19067,\n",
       "         1006,  5840,  1011,  2324,  1007,  1010,  2025,  2072, 10790,  2620,\n",
       "         2509,  1006,  5890,  1011,  2322,  1007, 23961,  2692, 22907,  2620,\n",
       "         1006,  5511,  1011,  2539,  1007,  1010,  2771,  2361, 20636,  1006,\n",
       "         6185,  1011,  2322,  1007,  1010,  2771,  2361, 23688, 19067,  1006,\n",
       "         6185,  1011,  2260,  1007, 17781,  2121,  1011,  2171,  1998,  4769,\n",
       "         1024,  2728,  1047,  2899, 24441,  2692,  2796, 19817,  2140,  2852,\n",
       "         5284,  2103,  1010, 19067,  6255, 18139,  2683,  1011, 19611,  2692,\n",
       "         5414,  2053,  1012,  1024,  4002, 22025,  2692,  2581, 16147,  2683,\n",
       "         2683,  4447,  1024,  1015,  1011,  5385,  1011, 28188,  1011, 26871,\n",
       "         2629,  3277,  3058,  1024,  5709,  1013,  2260,  1013, 16798,  2475,\n",
       "         2035,  2060, 27050,  1024,  1015,  1011,  6070,  2620,  1011,  6070,\n",
       "         2475,   102])"
      ]
     },
     "execution_count": 26,
     "metadata": {},
     "output_type": "execute_result"
    }
   ],
   "source": [
    "encoded_data[\"input_ids\"][2]#==100"
   ]
  },
  {
   "cell_type": "code",
   "execution_count": null,
   "id": "b27ac99f",
   "metadata": {},
   "outputs": [
    {
     "name": "stderr",
     "output_type": "stream",
     "text": [
      "306343it [41:12, 136.98it/s]"
     ]
    }
   ],
   "source": [
    "token_len = []\n",
    "for i, row in tqdm(data.iterrows()):\n",
    "    text = row[1]\n",
    "    base_bert_tokens = tokenizer.tokenize(text)\n",
    "    token_len.append(len(base_bert_tokens))\n",
    "#     break\n",
    "    \n",
    "\n",
    "len(token_len) \n",
    "# print(token_len)\n",
    "# cnt=0\n",
    "# for tup in zip(base_bert_tokens):\n",
    "#     print('{:<12} '.format(tup[0]))\n",
    "#     cnt+=1\n",
    "#     if cnt>=512:\n",
    "#         break"
   ]
  },
  {
   "cell_type": "code",
   "execution_count": 42,
   "id": "542974f3",
   "metadata": {},
   "outputs": [
    {
     "data": {
      "text/html": [
       "<div>\n",
       "<style scoped>\n",
       "    .dataframe tbody tr th:only-of-type {\n",
       "        vertical-align: middle;\n",
       "    }\n",
       "\n",
       "    .dataframe tbody tr th {\n",
       "        vertical-align: top;\n",
       "    }\n",
       "\n",
       "    .dataframe thead th {\n",
       "        text-align: right;\n",
       "    }\n",
       "</style>\n",
       "<table border=\"1\" class=\"dataframe\">\n",
       "  <thead>\n",
       "    <tr style=\"text-align: right;\">\n",
       "      <th></th>\n",
       "      <th>col</th>\n",
       "    </tr>\n",
       "  </thead>\n",
       "  <tbody>\n",
       "    <tr>\n",
       "      <th>count</th>\n",
       "      <td>312843.000000</td>\n",
       "    </tr>\n",
       "    <tr>\n",
       "      <th>mean</th>\n",
       "      <td>671.715531</td>\n",
       "    </tr>\n",
       "    <tr>\n",
       "      <th>std</th>\n",
       "      <td>489.760179</td>\n",
       "    </tr>\n",
       "    <tr>\n",
       "      <th>min</th>\n",
       "      <td>1.000000</td>\n",
       "    </tr>\n",
       "    <tr>\n",
       "      <th>25%</th>\n",
       "      <td>346.000000</td>\n",
       "    </tr>\n",
       "    <tr>\n",
       "      <th>50%</th>\n",
       "      <td>566.000000</td>\n",
       "    </tr>\n",
       "    <tr>\n",
       "      <th>75%</th>\n",
       "      <td>892.000000</td>\n",
       "    </tr>\n",
       "    <tr>\n",
       "      <th>max</th>\n",
       "      <td>8417.000000</td>\n",
       "    </tr>\n",
       "  </tbody>\n",
       "</table>\n",
       "</div>"
      ],
      "text/plain": [
       "                 col\n",
       "count  312843.000000\n",
       "mean      671.715531\n",
       "std       489.760179\n",
       "min         1.000000\n",
       "25%       346.000000\n",
       "50%       566.000000\n",
       "75%       892.000000\n",
       "max      8417.000000"
      ]
     },
     "execution_count": 42,
     "metadata": {},
     "output_type": "execute_result"
    }
   ],
   "source": [
    "df = pd.DataFrame({'col':token_len})\n",
    "df.describe()"
   ]
  },
  {
   "cell_type": "markdown",
   "id": "7db88598",
   "metadata": {},
   "source": [
    "### Findings\n",
    "1. On an average, BERT classification is reading and classifying based on 80% of OCR text\n",
    "2. For more than 50 percentile of OCR text, max 512 token limit is exceeding\n",
    "3. Based on min/max, data cleaning is required"
   ]
  },
  {
   "cell_type": "code",
   "execution_count": 50,
   "id": "a648a4ac",
   "metadata": {},
   "outputs": [
    {
     "data": {
      "text/plain": [
       "515.0"
      ]
     },
     "execution_count": 50,
     "metadata": {},
     "output_type": "execute_result"
    }
   ],
   "source": [
    "np.percentile(token_len, 45)"
   ]
  },
  {
   "cell_type": "code",
   "execution_count": 52,
   "id": "314b21ed",
   "metadata": {},
   "outputs": [
    {
     "data": {
      "text/plain": [
       "(0, 650]        182424\n",
       "(650, 700]       12566\n",
       "(700, 10000]    117853\n",
       "dtype: int64"
      ]
     },
     "execution_count": 52,
     "metadata": {},
     "output_type": "execute_result"
    }
   ],
   "source": [
    "out = pd.cut(token_len, bins=[0,650,700,10000])\n",
    "out.value_counts().sort_index()"
   ]
  },
  {
   "cell_type": "code",
   "execution_count": null,
   "id": "80b0abce",
   "metadata": {},
   "outputs": [],
   "source": [
    "encoded_data_train = tokenizer.batch_encode_plus(\n",
    "    df[df.data_type=='train'].text.values, \n",
    "    add_special_tokens=True, \n",
    "    return_attention_mask=True, \n",
    "    pad_to_max_length=True, \n",
    "    max_length=512, \n",
    "    truncation=True,\n",
    "    return_tensors='pt'\n",
    ")\n",
    "\n",
    "encoded_data_val = tokenizer.batch_encode_plus(\n",
    "    df[df.data_type=='val'].text.values, \n",
    "    add_special_tokens=True, \n",
    "    return_attention_mask=True, \n",
    "    pad_to_max_length=True, \n",
    "    max_length=512,\n",
    "    truncation=True,\n",
    "    return_tensors='pt'\n",
    ")"
   ]
  },
  {
   "cell_type": "code",
   "execution_count": null,
   "id": "277dad32",
   "metadata": {},
   "outputs": [],
   "source": [
    "input_ids_train = encoded_data_train['input_ids']\n",
    "attention_masks_train = encoded_data_train['attention_mask']\n",
    "labels_train = torch.tensor(df[df.data_type=='train'].label.values)\n",
    "\n",
    "input_ids_val = encoded_data_val['input_ids']\n",
    "attention_masks_val = encoded_data_val['attention_mask']\n",
    "labels_val = torch.tensor(df[df.data_type=='val'].label.values)"
   ]
  },
  {
   "cell_type": "code",
   "execution_count": null,
   "id": "252ad2d2",
   "metadata": {},
   "outputs": [],
   "source": [
    "dataset_train = TensorDataset(input_ids_train, attention_masks_train, labels_train)\n",
    "dataset_val = TensorDataset(input_ids_val, attention_masks_val, labels_val)"
   ]
  },
  {
   "cell_type": "code",
   "execution_count": null,
   "id": "59692c45",
   "metadata": {},
   "outputs": [],
   "source": [
    "batch_size=32\n",
    "dataloader_train = DataLoader(dataset_train, \n",
    "                              shuffle=True,\n",
    "                              num_workers=0, \n",
    "                              batch_size=batch_size)\n",
    "\n",
    "dataloader_validation = DataLoader(dataset_val, \n",
    "                                   shuffle=False,\n",
    "                                   num_workers=0, \n",
    "                                   batch_size=batch_size)"
   ]
  },
  {
   "cell_type": "code",
   "execution_count": null,
   "id": "19c6a2c4",
   "metadata": {},
   "outputs": [],
   "source": [
    "len(dataloader_train)"
   ]
  },
  {
   "cell_type": "code",
   "execution_count": null,
   "id": "871ed309",
   "metadata": {},
   "outputs": [],
   "source": [
    "len(dataloader_train)*32"
   ]
  },
  {
   "cell_type": "code",
   "execution_count": null,
   "id": "4f436f5a",
   "metadata": {},
   "outputs": [],
   "source": [
    "from torch import nn\n",
    "from transformers import BertModel\n",
    "\n",
    "class BertClassifier(nn.Module):\n",
    "\n",
    "    def __init__(self, \n",
    "                 dropout=0.1, \n",
    "                 BERTconfig=False, \n",
    "                 attention_heads=12, \n",
    "                 hidden_layers=12, \n",
    "                 numclass=1,\n",
    "                 hidden_dropout_prob=0.1,\n",
    "                 hidden_act='gelu',\n",
    "                 position_embedding_type='absolute'):\n",
    "        \n",
    "        #self.attention_heads = attention_heads\n",
    "        super(BertClassifier, self).__init__()\n",
    "        \n",
    "        if BERTconfig:\n",
    "            configuration = BertConfig(num_attention_heads= attention_heads, \n",
    "                                       num_hidden_layers= hidden_layers)   \n",
    "        else:\n",
    "            configuration = BertConfig()\n",
    "        #self.bert = BertModel.from_pretrained('bert-base-uncased', output_attentions=attention)\n",
    "        #print(configuration)\n",
    "        self.bert = BertModel(configuration)\n",
    "        self.dropout = nn.Dropout(dropout)\n",
    "        self.linear = nn.Linear(768, numclass, bias=True)\n",
    "\n",
    "    def forward(self, input_id, mask):\n",
    "\n",
    "        _, pooled_output = self.bert(input_ids= input_id, attention_mask=mask,return_dict=False)\n",
    "        dropout_output = self.dropout(pooled_output)\n",
    "        linear_output = self.linear(dropout_output)\n",
    "\n",
    "        return linear_output"
   ]
  },
  {
   "cell_type": "code",
   "execution_count": null,
   "id": "c86f4858",
   "metadata": {},
   "outputs": [],
   "source": [
    "label_dict"
   ]
  },
  {
   "cell_type": "code",
   "execution_count": null,
   "id": "2a21c832",
   "metadata": {
    "scrolled": true
   },
   "outputs": [],
   "source": [
    "ATTENTION = 12\n",
    "HIDDEN_LAYER = 1\n",
    "CLASSES = len(label_dict)\n",
    "\n",
    "\n",
    "model = BertClassifier(dropout=0.3, \n",
    "                       BERTconfig=True, \n",
    "                       attention_heads=ATTENTION,\n",
    "                       hidden_layers=HIDDEN_LAYER,\n",
    "                       numclass= CLASSES,\n",
    "                       hidden_dropout_prob=0.3,\n",
    "                       position_embedding_type='absolute')\n",
    "\n",
    "model.to(device)\n",
    "model.train()"
   ]
  },
  {
   "cell_type": "code",
   "execution_count": null,
   "id": "0a3e6adb",
   "metadata": {},
   "outputs": [],
   "source": [
    "EPOCH = 2\n",
    "\n",
    "save_model = 250\n",
    "\n",
    "criterion = nn.CrossEntropyLoss(weight=classweight.to(device), reduction='mean')\n",
    "\n",
    "optimizer = AdamW(model.parameters(),\n",
    "                  lr=1e-5, \n",
    "                  eps=1e-8,\n",
    "                  no_deprecation_warning=True)\n",
    "                  \n",
    "\n",
    "scheduler = get_linear_schedule_with_warmup(optimizer, \n",
    "                                            num_warmup_steps=250,\n",
    "                                            num_training_steps=len(dataloader_train)*EPOCH)\n",
    "\n",
    "\n",
    "logs = []\n",
    "i=0\n",
    "\n",
    "for epoch in range(EPOCH):\n",
    "    \n",
    "    print('epoch--- ',epoch+1)\n",
    "    \n",
    "    for train_input in tqdm(dataloader_train):\n",
    "        i=i+1\n",
    "        model.zero_grad()\n",
    "        input_id = train_input[0].to(device)\n",
    "        mask = train_input[1].to(device)\n",
    "        train_label = train_input[2].to(device)\n",
    "        output = model(input_id, mask)\n",
    "        batch_loss = criterion(output, train_label)\n",
    "        batch_loss.backward()\n",
    "        optimizer.step()\n",
    "        scheduler.step()\n",
    "        \n",
    "        if(i%save_model==0):\n",
    "            label_train =  torch.tensor([], dtype=torch.uint8).to(device)\n",
    "            pred_train = torch.tensor([], dtype=torch.uint8).to(device)\n",
    "            total_loss_train = 0\n",
    "\n",
    "            for train_eval in dataloader_train:\n",
    "                input_id = train_eval[0].to(device)\n",
    "                mask = train_eval[1].to(device)\n",
    "                train_label = train_eval[2].to(device)\n",
    "                output = model(input_id, mask)\n",
    "                batch_loss = criterion(output, train_label)\n",
    "                total_loss_train += batch_loss.item()\n",
    "                label_train = torch.cat((label_train, train_label), 0)\n",
    "                pred_train = torch.cat((pred_train, output.argmax(dim=1)), 0)\n",
    "\n",
    "            label_train = label_train.detach().cpu().numpy()\n",
    "            pred_train = pred_train.detach().cpu().numpy()\n",
    "            total_acc_train = accuracy_score(label_train, pred_train)\n",
    "            total_f1_train = f1_score(label_train, pred_train, average='weighted')\n",
    "            total_loss_train = total_loss_train/(len(dataloader_train)*batch_size)\n",
    "            \n",
    "\n",
    "\n",
    "            label_val =  torch.tensor([], dtype=torch.uint8).to(device)\n",
    "            pred_val = torch.tensor([], dtype=torch.uint8).to(device)\n",
    "            total_loss_val = 0\n",
    "\n",
    "            for val_input in dataloader_validation:\n",
    "                input_id = val_input[0].to(device)\n",
    "                mask = val_input[1].to(device)\n",
    "                val_label = val_input[2].to(device)\n",
    "                output = model(input_id, mask)\n",
    "                batch_loss = criterion(output, val_label)\n",
    "                total_loss_val += batch_loss.item()\n",
    "                label_val = torch.cat((label_val, val_label), 0)\n",
    "                pred_val = torch.cat((pred_val, output.argmax(dim=1)), 0)\n",
    "\n",
    "            label_val = label_val.detach().cpu().numpy()\n",
    "            pred_val = pred_val.detach().cpu().numpy()\n",
    "            total_acc_val = accuracy_score(label_val, pred_val)\n",
    "            total_f1_val = f1_score(label_val, pred_val, average='weighted')\n",
    "            total_loss_val = total_loss_val/(len(dataloader_validation)*batch_size)\n",
    "            \n",
    "            print('train_accuracy: ', total_acc_train, ', train_f1: ', total_f1_train, ', train_loss: ', total_loss_train)\n",
    "            print('val_accuracy: ', total_acc_val, ',  val_f1: ', total_f1_val, ', val_loss: ', total_loss_val)\n",
    "\n",
    "            torch.save(model.state_dict(), \n",
    "                       f'/mnt/bert_models/BERT_encoder{HIDDEN_LAYER}_attention{ATTENTION}_epoch{i}.model')\n",
    "\n",
    "            logs.append({'epoch': i,\n",
    "                     'train_accuracy': total_acc_train,\n",
    "                     'train_f1': total_f1_train,\n",
    "                     'train_loss': total_loss_train,\n",
    "                     'val_accuracy': total_acc_val,\n",
    "                     'val_f1': total_f1_val,\n",
    "                     'val_loss': total_loss_val})"
   ]
  },
  {
   "cell_type": "code",
   "execution_count": null,
   "id": "ff004a59",
   "metadata": {},
   "outputs": [],
   "source": [
    "log = pd.DataFrame(logs)\n",
    "log['val_loss'] = log['val_loss'].round(3)\n",
    "log['train_loss'] = log['train_loss'].round(3)\n",
    "log['train_f1'] = log['train_f1'].round(2)\n",
    "log['val_f1'] = log['val_f1'].round(2)\n",
    "#log.index = log.epoch\n",
    "#del log['epoch']\n",
    "log"
   ]
  },
  {
   "cell_type": "code",
   "execution_count": null,
   "id": "08ae393f",
   "metadata": {},
   "outputs": [],
   "source": [
    "import matplotlib.pyplot as plt\n",
    "\n",
    "fig,ax = plt.subplots(figsize=(20,10))\n",
    "\n",
    "ax.plot(log.epoch, log.train_f1, color=\"red\")\n",
    "ax.plot(log.epoch, log.val_f1, color=\"green\")\n",
    "\n",
    "# set x-axis label\n",
    "ax.set_xlabel(\"iterations\", fontsize = 14)\n",
    "\n",
    "# set y-axis label\n",
    "ax.set_ylabel(\"F1\", fontsize=14)\n",
    "\n",
    "ax.set_xticks(log.epoch.values)\n",
    "\n",
    "ax2=ax.twinx()\n",
    "ax2.plot(log.epoch, log.train_loss,color=\"red\")\n",
    "ax2.plot(log.epoch, log.val_loss,color=\"green\")\n",
    "\n",
    "ax2.set_ylabel(\"LOSS\", fontsize=14)\n",
    "plt.grid(color = 'green', linestyle = '--', linewidth = 0.5)\n",
    "plt.show()"
   ]
  },
  {
   "cell_type": "code",
   "execution_count": null,
   "id": "ee45ef44",
   "metadata": {},
   "outputs": [],
   "source": [
    "plt.figure(figsize=(20,10))\n",
    "#plt.plot(log.epoch, log.train_accuracy, label= 'train_accuracy')\n",
    "plt.plot(log.epoch, log.train_f1, label= 'train_f1')\n",
    "#plt.plot(log.epoch, log.val_accuracy, label= 'val_accuracy')\n",
    "plt.plot(log.epoch, log.val_f1, label='val_f1')\n",
    "plt.legend(loc=\"upper left\")\n",
    "plt.xticks(log.epoch, rotation=90)\n",
    "plt.grid(True)\n",
    "plt.show()"
   ]
  },
  {
   "cell_type": "code",
   "execution_count": null,
   "id": "d68fc4c0",
   "metadata": {},
   "outputs": [],
   "source": [
    "plt.figure(figsize=(20,10))\n",
    "plt.plot(log.epoch, log.train_loss, label='train_loss')\n",
    "plt.plot(log.epoch, log.val_loss, label='val_loss')\n",
    "plt.legend(loc=\"upper right\")\n",
    "plt.xticks(log.epoch, rotation=90)\n",
    "plt.grid(True)\n",
    "plt.show()"
   ]
  },
  {
   "cell_type": "code",
   "execution_count": null,
   "id": "381939f1",
   "metadata": {
    "scrolled": true
   },
   "outputs": [],
   "source": [
    "'''EPOCH = 5\n",
    "\n",
    "criterion = nn.CrossEntropyLoss()\n",
    "\n",
    "optimizer = AdamW(model.parameters(),\n",
    "                  lr=1e-5, \n",
    "                  eps=1e-8,\n",
    "                  no_deprecation_warning=True)\n",
    "                  \n",
    "\n",
    "scheduler = get_linear_schedule_with_warmup(optimizer, \n",
    "                                            num_warmup_steps=500,\n",
    "                                            num_training_steps=len(dataloader_train)*EPOCH)\n",
    "\n",
    "logs = []\n",
    "\n",
    "for epoch in range(EPOCH):\n",
    "    \n",
    "    print('epoch--- ',epoch+1)\n",
    "    total_loss_train = 0\n",
    "    label_train =  torch.tensor([], dtype=torch.uint8).to(device)\n",
    "    pred_train = torch.tensor([], dtype=torch.uint8).to(device)\n",
    "\n",
    "    for train_input in tqdm(dataloader_train):\n",
    "        model.zero_grad()\n",
    "        input_id = train_input[0].to(device)\n",
    "        mask = train_input[1].to(device)\n",
    "        train_label = train_input[2].to(device)\n",
    "        output = model(input_id, mask)\n",
    "        label_train = torch.cat((label_train, train_label), 0)\n",
    "        batch_loss = criterion(output, train_label)\n",
    "        total_loss_train += batch_loss.item()\n",
    "        pred_train = torch.cat((pred_train, output.argmax(dim=1)), 0)\n",
    "        batch_loss.backward()\n",
    "        optimizer.step()\n",
    "        scheduler.step()\n",
    "        #break\n",
    "    \n",
    "    label_train = label_train.detach().cpu().numpy()\n",
    "    pred_train = pred_train.detach().cpu().numpy()\n",
    "    total_acc_train = accuracy_score(label_train, pred_train)\n",
    "    total_f1_train = f1_score(label_train, pred_train, average='weighted')\n",
    "    total_loss_train = total_loss_train/(len(dataloader_train)*batch_size)\n",
    "\n",
    "    label_val =  torch.tensor([], dtype=torch.uint8).to(device)\n",
    "    pred_val = torch.tensor([], dtype=torch.uint8).to(device)\n",
    "    total_loss_val = 0\n",
    "\n",
    "    with torch.no_grad():\n",
    "        for val_input in tqdm(dataloader_validation):\n",
    "            input_id = val_input[0].to(device)\n",
    "            mask = val_input[1].to(device)\n",
    "            val_label = val_input[2].to(device)\n",
    "            output = model(input_id, mask)\n",
    "            label_val = torch.cat((label_val, val_label), 0)\n",
    "            batch_loss = criterion(output, val_label)\n",
    "            total_loss_val += batch_loss.item()\n",
    "            pred_val = torch.cat((pred_val, output.argmax(dim=1)), 0)\n",
    "            #break\n",
    "    \n",
    "    label_val = label_val.detach().cpu().numpy()\n",
    "    pred_val = pred_val.detach().cpu().numpy()\n",
    "    total_acc_val = accuracy_score(label_val, pred_val)\n",
    "    total_f1_val = f1_score(label_val, pred_val, average='weighted')\n",
    "    total_loss_val = total_loss_val/(len(dataloader_validation)*batch_size)\n",
    "    \n",
    "    torch.save(model.state_dict(), f'./model/BERT_encoder{HIDDEN_LAYER}_attention{ATTENTION}_epoch{epoch+1}.model')\n",
    "    \n",
    "    print('train_accuracy: ', total_acc_train, ', train_f1: ', total_f1_train, ', train_loss: ', total_loss_train)\n",
    "    print('val_accuracy: ', total_acc_val, ',  val_f1: ', total_f1_val, ', val_loss: ', total_loss_val)\n",
    "    print('\\n')\n",
    "    \n",
    "    logs.append({'epoch': epoch+1,\n",
    "                 'train_accuracy': total_acc_train,\n",
    "                 'train_f1': total_f1_train,\n",
    "                 'train_loss': total_loss_train,\n",
    "                 'val_accuracy': total_acc_val,\n",
    "                 'val_f1': total_f1_val,\n",
    "                 'val_loss': total_loss_val})'''"
   ]
  },
  {
   "cell_type": "code",
   "execution_count": null,
   "id": "39c38db4",
   "metadata": {},
   "outputs": [],
   "source": [
    "label_dict"
   ]
  },
  {
   "cell_type": "markdown",
   "id": "1f5acf13",
   "metadata": {},
   "source": [
    "### Evaluation"
   ]
  },
  {
   "cell_type": "code",
   "execution_count": null,
   "id": "133860e9",
   "metadata": {},
   "outputs": [],
   "source": [
    "#test['label'] = test.new_category.replace(label_dict)\n",
    "test.head(2)"
   ]
  },
  {
   "cell_type": "code",
   "execution_count": null,
   "id": "5b08a833",
   "metadata": {},
   "outputs": [],
   "source": [
    "test['new_category'].value_counts()"
   ]
  },
  {
   "cell_type": "code",
   "execution_count": null,
   "id": "264b4f7a",
   "metadata": {},
   "outputs": [],
   "source": [
    "def BERTEncode(df, size, shuffle=False):\n",
    "    encoded_data = tokenizer.batch_encode_plus(\n",
    "        df.text.values, \n",
    "        add_special_tokens=True, \n",
    "        return_attention_mask=True, \n",
    "        padding='max_length', \n",
    "        max_length=512, \n",
    "        truncation=True,\n",
    "        return_tensors='pt')\n",
    "    input_ids = encoded_data['input_ids']\n",
    "    attention_masks = encoded_data['attention_mask']\n",
    "    labels = torch.tensor(df.label.values)\n",
    "    tensordataset = TensorDataset(input_ids, attention_masks, labels)\n",
    "    dataloader = DataLoader(tensordataset,\n",
    "                            shuffle=shuffle,\n",
    "                            num_workers=0,\n",
    "                            batch_size=size)\n",
    "    return dataloader"
   ]
  },
  {
   "cell_type": "code",
   "execution_count": null,
   "id": "ac214b36",
   "metadata": {},
   "outputs": [],
   "source": [
    "tokenizer = BertTokenizer.from_pretrained('bert-base-uncased')\n",
    "dataloader_test = BERTEncode(test, 32)"
   ]
  },
  {
   "cell_type": "code",
   "execution_count": null,
   "id": "c31c1f70",
   "metadata": {},
   "outputs": [],
   "source": [
    "ATTENTION = 12\n",
    "HIDDEN_LAYER = 1\n",
    "CLASSES = len(label_dict)\n",
    "\n",
    "model = BertClassifier(dropout=0.2, \n",
    "                       BERTconfig=True, \n",
    "                       attention_heads=ATTENTION,\n",
    "                       hidden_layers=HIDDEN_LAYER,\n",
    "                       numclass= CLASSES,\n",
    "                       hidden_dropout_prob=0.1,\n",
    "                       position_embedding_type='absolute')\n",
    "#model = BertClassifier(BERTconfig=False, numclass= CLASSES)\n",
    "\n",
    "model.to(device)\n",
    "\n",
    "model.load_state_dict(torch.load('/mnt/bert_models/BERT_encoder1_attention12_epoch3750.model', map_location=torch.device('cuda')))\n",
    "model.eval()"
   ]
  },
  {
   "cell_type": "code",
   "execution_count": null,
   "id": "1a24f223",
   "metadata": {},
   "outputs": [],
   "source": [
    "def validate(dataloader, model):\n",
    "    actual =  torch.tensor([], dtype=torch.uint8).to(device)\n",
    "    predicted = torch.tensor([], dtype=torch.uint8).to(device)\n",
    "    cr = []\n",
    "\n",
    "    for input in tqdm(dataloader):\n",
    "        input_id = input[0].to(device)\n",
    "        mask = input[1].to(device)\n",
    "        labels = input[2].to(device)\n",
    "        actual = torch.cat((actual, labels), 0)\n",
    "        with torch.no_grad():\n",
    "            output = model(input_id, mask)\n",
    "        predicted = torch.cat((predicted, output.argmax(dim=1)), 0)\n",
    "        for logits in output:\n",
    "            score = torch.nn.functional.softmax(logits, dim=0)\n",
    "            cr.append(np.float64(score.max(dim=0)[0].detach().cpu().numpy()))\n",
    "    \n",
    "    actual = actual.detach().cpu().numpy()\n",
    "    predicted = predicted.detach().cpu().numpy()\n",
    "    \n",
    "    total_acc_test = accuracy_score(actual, predicted)\n",
    "    total_f1_test = f1_score(actual, predicted, average='weighted')\n",
    "    print('Test Accuracy:', round(total_acc_test,2))\n",
    "    print('Test f1:', round(total_f1_test,2))\n",
    "    return (actual, predicted, cr)"
   ]
  },
  {
   "cell_type": "code",
   "execution_count": null,
   "id": "8ad92fd6",
   "metadata": {},
   "outputs": [],
   "source": [
    "actual, predicted, cr =validate(dataloader_test, model)"
   ]
  },
  {
   "cell_type": "code",
   "execution_count": null,
   "id": "8d1b32c8",
   "metadata": {},
   "outputs": [],
   "source": [
    "label_dict_inv=dict()\n",
    "for label in label_dict:\n",
    "    label_dict_inv[label_dict[label]]=label\n",
    "label_dict_inv "
   ]
  },
  {
   "cell_type": "code",
   "execution_count": null,
   "id": "3c448026",
   "metadata": {},
   "outputs": [],
   "source": [
    "checkfor = range(len(label_dict))\n",
    "#checkfor = [0]\n",
    "final_predicted = []\n",
    "    \n",
    "classes = []\n",
    "for check in checkfor:\n",
    "    total = 0\n",
    "    correct = 0\n",
    "    notclassified = 0\n",
    "    score = []\n",
    "    for a,p, c in zip(actual, predicted, cr):\n",
    "             \n",
    "        if a == check:\n",
    "            total+=1\n",
    "            if (p == check):\n",
    "                correct+=1\n",
    "            elif (p!=check):\n",
    "                notclassified+=1\n",
    "                score.append(c)\n",
    "                if(check==1):\n",
    "                    classes.append(p)\n",
    "                \n",
    "    if total!=0:\n",
    "        acc = round(correct/total,2)\n",
    "        print('accuracy for {}: {}/{}={}'.format(label_dict_inv[check],correct,total,acc))\n",
    "        print('notclassified {}'.format(notclassified))\n",
    "        if notclassified!=0:\n",
    "            print('notclassified score for {}'.format(np.median(score)))\n",
    "    print('\\n')"
   ]
  },
  {
   "cell_type": "code",
   "execution_count": null,
   "id": "215151b6",
   "metadata": {},
   "outputs": [],
   "source": [
    "np.unique(classes, return_counts=True)"
   ]
  },
  {
   "cell_type": "code",
   "execution_count": null,
   "id": "f4e0177b",
   "metadata": {},
   "outputs": [],
   "source": []
  },
  {
   "cell_type": "code",
   "execution_count": null,
   "id": "18b885c9",
   "metadata": {},
   "outputs": [],
   "source": []
  },
  {
   "cell_type": "markdown",
   "id": "0cb75ec7",
   "metadata": {},
   "source": [
    "### GLOBAL_VALIDATION"
   ]
  },
  {
   "cell_type": "code",
   "execution_count": null,
   "id": "18d270e8",
   "metadata": {
    "scrolled": true
   },
   "outputs": [],
   "source": [
    "global_validate = pd.read_csv('./global_validate.csv')\n",
    "global_validate.head(2)"
   ]
  },
  {
   "cell_type": "code",
   "execution_count": null,
   "id": "744cce6e",
   "metadata": {},
   "outputs": [],
   "source": [
    "#global_validate = global_validate[global_validate['new_text_format']=='new']"
   ]
  },
  {
   "cell_type": "code",
   "execution_count": null,
   "id": "08ea29ec",
   "metadata": {},
   "outputs": [],
   "source": [
    "global_validate['category'].value_counts()"
   ]
  },
  {
   "cell_type": "code",
   "execution_count": null,
   "id": "9e42d377",
   "metadata": {},
   "outputs": [],
   "source": [
    "#global_validate.drop(global_validate[global_validate['category']=='Tax Return'].index, inplace=True)"
   ]
  },
  {
   "cell_type": "code",
   "execution_count": null,
   "id": "6bad99b7",
   "metadata": {},
   "outputs": [],
   "source": [
    "count=0\n",
    "index=[]\n",
    "for i,row in global_validate.iterrows():\n",
    "    if row['ADR'] in data['ADR'].values.tolist():\n",
    "        if row['text'] in data['text'][data['ADR']==row['ADR']].values.tolist():\n",
    "            count+=1\n",
    "            index.append(i)\n",
    "count"
   ]
  },
  {
   "cell_type": "code",
   "execution_count": null,
   "id": "ad6430ce",
   "metadata": {},
   "outputs": [],
   "source": [
    "#del global_validate['new_category']\n",
    "#global_validate.drop(index=index, inplace=True)\n",
    "global_validate.shape"
   ]
  },
  {
   "cell_type": "code",
   "execution_count": null,
   "id": "79c187e6",
   "metadata": {},
   "outputs": [],
   "source": [
    "#global_validate['category'].value_counts()"
   ]
  },
  {
   "cell_type": "code",
   "execution_count": null,
   "id": "93ab5258",
   "metadata": {},
   "outputs": [],
   "source": [
    "global_validate.to_csv('./global_validate.csv', header=True, index=False)"
   ]
  },
  {
   "cell_type": "code",
   "execution_count": null,
   "id": "5dc7ab26",
   "metadata": {},
   "outputs": [],
   "source": [
    "temp = []\n",
    "cats = ['Retirement Account Statement(s)',\n",
    "        'Mortgage Statement',\n",
    "        'Bank Statement',\n",
    "        'Purchase Agreement',\n",
    "        'Rental Agreements(s)',\n",
    "        'Hazard Insurance',\n",
    "        'Divorce Decree / Child Support',\n",
    "        'Bankruptcy Papers']\n",
    "\n",
    "# cats = ['Retirement Account Statement(s)', \n",
    "#         'Mortgage Statement',\n",
    "#         'Bank Statement']\n",
    "\n",
    "for category in global_validate['category']:\n",
    "    if category not in cats:\n",
    "        temp.append('others')\n",
    "    else:\n",
    "        temp.append(category)\n",
    "global_validate['new_category'] = temp\n",
    "global_validate.head(2)"
   ]
  },
  {
   "cell_type": "code",
   "execution_count": null,
   "id": "98cf69e4",
   "metadata": {},
   "outputs": [],
   "source": [
    "global_validate['new_category'].value_counts()"
   ]
  },
  {
   "cell_type": "code",
   "execution_count": null,
   "id": "2ca1330e",
   "metadata": {},
   "outputs": [],
   "source": [
    "global_validate['label'] = global_validate.new_category.replace(label_dict)\n",
    "global_validate.head(1)"
   ]
  },
  {
   "cell_type": "code",
   "execution_count": null,
   "id": "8881ee29",
   "metadata": {},
   "outputs": [],
   "source": [
    "global_validate['text']= [str(text) for text in global_validate['text']]"
   ]
  },
  {
   "cell_type": "code",
   "execution_count": null,
   "id": "3c423606",
   "metadata": {},
   "outputs": [],
   "source": [
    "def BERTEncode(df, size, shuffle=False):\n",
    "    encoded_data = tokenizer.batch_encode_plus(\n",
    "        df['new_format_text'].values, \n",
    "        add_special_tokens=True, \n",
    "        return_attention_mask=True, \n",
    "        padding='max_length', \n",
    "        max_length=512, \n",
    "        truncation=True,\n",
    "        return_tensors='pt')\n",
    "    input_ids = encoded_data['input_ids']\n",
    "    attention_masks = encoded_data['attention_mask']\n",
    "    labels = torch.tensor(df.label.values)\n",
    "    tensordataset = TensorDataset(input_ids, attention_masks, labels)\n",
    "    dataloader = DataLoader(tensordataset,\n",
    "                            shuffle=shuffle,\n",
    "                            num_workers=0,\n",
    "                            batch_size=size)\n",
    "    return dataloader"
   ]
  },
  {
   "cell_type": "code",
   "execution_count": null,
   "id": "c202ecc6",
   "metadata": {},
   "outputs": [],
   "source": [
    "dataloader = BERTEncode(global_validate, 32, False)"
   ]
  },
  {
   "cell_type": "code",
   "execution_count": null,
   "id": "4b47de2a",
   "metadata": {},
   "outputs": [],
   "source": []
  },
  {
   "cell_type": "code",
   "execution_count": null,
   "id": "f3dc2a8e",
   "metadata": {},
   "outputs": [],
   "source": [
    "ATTENTION = 12\n",
    "HIDDEN_LAYER = 1\n",
    "CLASSES = len(label_dict)\n",
    "\n",
    "\n",
    "model = BertClassifier(dropout=0.2, \n",
    "                       BERTconfig=True, \n",
    "                       attention_heads=ATTENTION,\n",
    "                       hidden_layers=HIDDEN_LAYER,\n",
    "                       numclass= CLASSES,\n",
    "                       hidden_dropout_prob=0.1,\n",
    "                       position_embedding_type='absolute')\n",
    "\n",
    "model.to(device)\n",
    "model.load_state_dict(torch.load('/mnt/model/BERT_encoder1_attention12_epoch3000.model', map_location=torch.device('cuda')))\n",
    "model.eval()"
   ]
  },
  {
   "cell_type": "code",
   "execution_count": null,
   "id": "b68830f8",
   "metadata": {},
   "outputs": [],
   "source": [
    "actual, predicted, cr = validate(dataloader, model)"
   ]
  },
  {
   "cell_type": "code",
   "execution_count": null,
   "id": "1b3d6cdd",
   "metadata": {},
   "outputs": [],
   "source": [
    "global_validate.shape"
   ]
  },
  {
   "cell_type": "code",
   "execution_count": null,
   "id": "ef5f5d34",
   "metadata": {},
   "outputs": [],
   "source": [
    "label_dict_inv=dict()\n",
    "for label in label_dict:\n",
    "    label_dict_inv[label_dict[label]]=label\n",
    "label_dict_inv "
   ]
  },
  {
   "cell_type": "code",
   "execution_count": null,
   "id": "e412186b",
   "metadata": {},
   "outputs": [],
   "source": [
    "label_dict"
   ]
  },
  {
   "cell_type": "code",
   "execution_count": null,
   "id": "7cdd5da8",
   "metadata": {},
   "outputs": [],
   "source": []
  },
  {
   "cell_type": "code",
   "execution_count": null,
   "id": "f6901f0b",
   "metadata": {},
   "outputs": [],
   "source": [
    "threshholds = range(0,92,2)\n",
    "checkfor = range(len(label_dict))\n",
    "\n",
    "accuracy=[]\n",
    "notclassified = []\n",
    "for thresh in threshholds:\n",
    "    \n",
    "    final_predicted=[]\n",
    "    for a,p,c in zip(actual, predicted, cr):\n",
    "        if c>(thresh/100):\n",
    "            final_predicted.append(p)\n",
    "        else:\n",
    "            final_predicted.append(0)\n",
    "    \n",
    "    acc = 0\n",
    "    incorrect = 0\n",
    "    for check in checkfor:\n",
    "        total = 0\n",
    "        correct = 0\n",
    "        for a,p,c in zip(actual, final_predicted, cr):\n",
    "            if a == check:\n",
    "                total+=1\n",
    "                if (p == check):\n",
    "                    correct+=1\n",
    "                elif (p!=check):\n",
    "                    incorrect+=1\n",
    "        if(total!=0):\n",
    "            acc = acc+round(correct/total,2)\n",
    "    #accuracy.append(acc/len(checkfor))\n",
    "    accuracy.append(acc/len(global_validate['new_category'].unique()))\n",
    "    notclassified.append(incorrect)"
   ]
  },
  {
   "cell_type": "code",
   "execution_count": null,
   "id": "8d8f90d1",
   "metadata": {},
   "outputs": [],
   "source": [
    "fig,ax = plt.subplots(figsize=(20,10))\n",
    "\n",
    "ax.plot(threshholds,\n",
    "        accuracy,\n",
    "        color=\"red\", \n",
    "        marker=\"o\")\n",
    "# set x-axis label\n",
    "ax.set_xlabel(\"threshold\", fontsize = 14)\n",
    "# set y-axis label\n",
    "ax.set_ylabel(\"accuracy\",\n",
    "              color=\"red\",\n",
    "              fontsize=14)\n",
    "\n",
    "ax.set_xticks(list(threshholds))\n",
    "ax2=ax.twinx()\n",
    "ax2.plot(threshholds, notclassified,color=\"blue\",marker=\"o\")\n",
    "ax2.set_ylabel(\"notclassified\",color=\"blue\",fontsize=14)\n",
    "plt.grid(color = 'green', linestyle = '--', linewidth = 0.5)\n",
    "plt.show()"
   ]
  },
  {
   "cell_type": "code",
   "execution_count": null,
   "id": "cc87cad3",
   "metadata": {},
   "outputs": [],
   "source": [
    "checkfor = range(len(label_dict))\n",
    "#checkfor = [0]\n",
    "final_predicted = []\n",
    "\n",
    "for a,p, c in zip(actual, predicted, cr):\n",
    "    if c>0.90:\n",
    "        final_predicted.append(p)\n",
    "    else:\n",
    "        final_predicted.append(0)\n",
    "    \n",
    "\n",
    "for check in checkfor:\n",
    "    total = 0\n",
    "    correct = 0\n",
    "    notclassified = 0\n",
    "    score = []\n",
    "    for a,p, c in zip(actual, final_predicted, cr):\n",
    "             \n",
    "        if a == check:\n",
    "            total+=1\n",
    "            if (p == check):\n",
    "                correct+=1\n",
    "            #elif ((p!=check)&(c<0.90)):\n",
    "            #    correct+=1\n",
    "            #elif ((p!=check)&(c>0.90)):\n",
    "            #    notclassified+=1\n",
    "            elif (p!=check):\n",
    "                notclassified+=1\n",
    "                score.append(c)\n",
    "                \n",
    "    if total!=0:\n",
    "        acc = round(correct/total,2)\n",
    "        print('accuracy for {}: {}/{}={}'.format(label_dict_inv[check],correct,total,acc))\n",
    "        print('notclassified {}'.format(notclassified))\n",
    "        if notclassified!=0:\n",
    "            print('notclassified score for {}'.format(np.median(score)))\n",
    "    print('\\n')"
   ]
  },
  {
   "cell_type": "code",
   "execution_count": null,
   "id": "0004374b",
   "metadata": {},
   "outputs": [],
   "source": [
    "global_validate['predlabel'] = list(final_predicted)\n",
    "global_validate['predicted'] = [label_dict_inv[i] for i in final_predicted]\n",
    "global_validate['cr'] = list(cr)\n",
    "#global_validate.head(2)"
   ]
  },
  {
   "cell_type": "code",
   "execution_count": null,
   "id": "96cc57b3",
   "metadata": {},
   "outputs": [],
   "source": [
    "global_validate['category'][(global_validate['new_category']=='others')&\n",
    "                            (global_validate['predicted']!='others')].value_counts()"
   ]
  },
  {
   "cell_type": "code",
   "execution_count": null,
   "id": "8b1fdc95",
   "metadata": {},
   "outputs": [],
   "source": [
    "global_validate['new_category'].value_counts()"
   ]
  },
  {
   "cell_type": "code",
   "execution_count": null,
   "id": "aca68654",
   "metadata": {},
   "outputs": [],
   "source": [
    "global_validate[(global_validate['label']==0)&(global_validate['predlabel']!=0)].shape"
   ]
  },
  {
   "cell_type": "code",
   "execution_count": null,
   "id": "f7c67c11",
   "metadata": {},
   "outputs": [],
   "source": [
    "global_validate['new_category'].value_counts()"
   ]
  },
  {
   "cell_type": "code",
   "execution_count": null,
   "id": "e310f7ca",
   "metadata": {},
   "outputs": [],
   "source": [
    "global_validate.shape"
   ]
  },
  {
   "cell_type": "code",
   "execution_count": null,
   "id": "d9da9f19",
   "metadata": {},
   "outputs": [],
   "source": []
  },
  {
   "cell_type": "markdown",
   "id": "2f066eab",
   "metadata": {},
   "source": [
    "### after deployment validation"
   ]
  },
  {
   "cell_type": "code",
   "execution_count": null,
   "id": "75bd09a1",
   "metadata": {},
   "outputs": [],
   "source": [
    "global_validate = pd.read_csv('/data/mmortgage/amal_workspace/multi_page_classification_preprocessing/domain_testing/BERT Testing_10.08.2022_Results.csv')\n",
    "global_validate.head(1)"
   ]
  },
  {
   "cell_type": "code",
   "execution_count": null,
   "id": "b10c5797",
   "metadata": {},
   "outputs": [],
   "source": [
    "# count=0\n",
    "# index=[]\n",
    "# for i,adr in enumerate(global_validate['ADR']):\n",
    "#     if adr in data['ADR'].values.tolist():\n",
    "#         count+=1\n",
    "#         index.append(i)\n",
    "# global_validate.drop(index=index, inplace=True)\n",
    "global_validate.shape"
   ]
  },
  {
   "cell_type": "code",
   "execution_count": null,
   "id": "bce20211",
   "metadata": {},
   "outputs": [],
   "source": [
    "label = {\n",
    "    'others': 0,\n",
    "    'Retirement Account Statement(s)': 1, \n",
    "    'Mortgage Statement': 2, \n",
    "    'Bank Statement': 3, \n",
    "    'Purchase Agreement': 4, \n",
    "    'Rental Agreements(s)': 5,\n",
    "    'Divorce Decree / Child Support': 6,\n",
    "    'Hazard Insurance': 7,\n",
    "    'Bankruptcy Papers': 8\n",
    "}"
   ]
  },
  {
   "cell_type": "code",
   "execution_count": null,
   "id": "b156571d",
   "metadata": {},
   "outputs": [],
   "source": [
    "label_inv=dict()\n",
    "for lab in label:\n",
    "    label_inv[label[lab]]=lab\n",
    "label_inv "
   ]
  },
  {
   "cell_type": "code",
   "execution_count": null,
   "id": "e14baaf7",
   "metadata": {},
   "outputs": [],
   "source": [
    "temp = []\n",
    "\n",
    "cats = list(label.keys())\n",
    "\n",
    "for category in global_validate['Actual Classification']:\n",
    "    if category not in cats:\n",
    "        temp.append('others')\n",
    "    else:\n",
    "        temp.append(category)\n",
    "global_validate['new_category'] = temp"
   ]
  },
  {
   "cell_type": "code",
   "execution_count": null,
   "id": "8dc6335f",
   "metadata": {},
   "outputs": [],
   "source": [
    "global_validate['label'] = global_validate.new_category.replace(label)\n",
    "global_validate.head(2)"
   ]
  },
  {
   "cell_type": "code",
   "execution_count": null,
   "id": "7abd17de",
   "metadata": {},
   "outputs": [],
   "source": [
    "global_validate['new_category'].value_counts()"
   ]
  },
  {
   "cell_type": "code",
   "execution_count": null,
   "id": "b316478d",
   "metadata": {},
   "outputs": [],
   "source": [
    "tokenizer = BertTokenizer.from_pretrained('bert-base-uncased')"
   ]
  },
  {
   "cell_type": "code",
   "execution_count": null,
   "id": "49379949",
   "metadata": {},
   "outputs": [],
   "source": [
    "from torch import nn\n",
    "from transformers import BertModel\n",
    "\n",
    "class BertClassifier(nn.Module):\n",
    "\n",
    "    def __init__(self, \n",
    "                 dropout=0.1, \n",
    "                 BERTconfig=False, \n",
    "                 attention_heads=12, \n",
    "                 hidden_layers=12, \n",
    "                 numclass=1,\n",
    "                 hidden_dropout_prob=0.1,\n",
    "                 hidden_act='gelu',\n",
    "                 position_embedding_type='absolute'):\n",
    "        \n",
    "        #self.attention_heads = attention_heads\n",
    "        super(BertClassifier, self).__init__()\n",
    "        \n",
    "        if BERTconfig:\n",
    "            configuration = BertConfig(num_attention_heads= attention_heads, \n",
    "                                       num_hidden_layers= hidden_layers)   \n",
    "        else:\n",
    "            configuration = BertConfig()\n",
    "        #self.bert = BertModel.from_pretrained('bert-base-uncased', output_attentions=attention)\n",
    "        #print(configuration)\n",
    "        self.bert = BertModel(configuration)\n",
    "        self.dropout = nn.Dropout(dropout)\n",
    "        self.linear = nn.Linear(768, numclass, bias=True)\n",
    "\n",
    "    def forward(self, input_id, mask):\n",
    "\n",
    "        _, pooled_output = self.bert(input_ids= input_id, attention_mask=mask,return_dict=False)\n",
    "        dropout_output = self.dropout(pooled_output)\n",
    "        linear_output = self.linear(dropout_output)\n",
    "\n",
    "        return linear_output"
   ]
  },
  {
   "cell_type": "code",
   "execution_count": null,
   "id": "6c753bf9",
   "metadata": {},
   "outputs": [],
   "source": [
    "import configparser\n",
    "import ast\n",
    "\n",
    "device = torch.device('cuda')\n",
    "\n",
    "configs = configparser.ConfigParser()\n",
    "configs.read('./config.ini')\n",
    "labels = []\n",
    "BERT_MODELS = []\n",
    "THRESHOLDS=[]\n",
    "GARBAGE_REMOVAL=[]\n",
    "\n",
    "for config in configs.sections():\n",
    "    label_ = ast.literal_eval(configs[config].get('categoryMAP'))\n",
    "    labels.append(label_)\n",
    "    THRESHOLDS.append(float(configs[config].get('cr_thresh')))\n",
    "    GARBAGE_REMOVAL.append(bool(configs[config].get('garbageremoval')))\n",
    "    HIDDEN_LAYERS = int(configs[config].get('hidden_layers'))\n",
    "    ATTENTIONS = int(configs[config].get('attentions'))\n",
    "    CLASSES = len(label_)\n",
    "    MODEL_FOLDER = configs[config].get('modelfolder')\n",
    "    model = BertClassifier(BERTconfig=True, \n",
    "                           attention_heads=ATTENTIONS, \n",
    "                           hidden_layers=HIDDEN_LAYERS, \n",
    "                           numclass= CLASSES)\n",
    "    model.to(device)\n",
    "    model.load_state_dict(torch.load('./model/{}/BERT.model'.format(MODEL_FOLDER), map_location=torch.device('cuda')))\n",
    "    model.eval()\n",
    "    BERT_MODELS.append(model)"
   ]
  },
  {
   "cell_type": "code",
   "execution_count": null,
   "id": "e2c82a69",
   "metadata": {},
   "outputs": [],
   "source": [
    "remove_words = set(stopwords.words('english') + list(string.punctuation))\n",
    "def predict(model, text, labels, thresh, grabageremoval):\n",
    "    \n",
    "    if grabageremoval:\n",
    "        text = re.sub(r'[~^0-9]', '', str(text))\n",
    "        wordlist = [word for word in word_tokenize(text.lower()) if not word in remove_words]\n",
    "        text = (\" \").join(wordlist)\n",
    "    \n",
    "    encoded_data = tokenizer.encode_plus(\n",
    "            str(text), \n",
    "            add_special_tokens=True, \n",
    "            return_attention_mask=True, \n",
    "            padding='max_length', \n",
    "            max_length=512, \n",
    "            truncation=True,\n",
    "            return_tensors='pt')\n",
    "    \n",
    "    input_ids_text = encoded_data['input_ids'].to(device)\n",
    "    attention_masks_text = encoded_data['attention_mask'].to(device)\n",
    "\n",
    "    with  torch.no_grad(): \n",
    "        outputs = model(input_ids_text, attention_masks_text)\n",
    "        \n",
    "    scores = torch.nn.functional.softmax(outputs.detach().cpu(), dim=1).numpy()[0]\n",
    "    \n",
    "    if np.max(scores)>thresh:\n",
    "        return (labels[np.argmax(scores)],np.max(scores))\n",
    "    else:\n",
    "        return ('others', np.max(scores))"
   ]
  },
  {
   "cell_type": "code",
   "execution_count": null,
   "id": "38fee5d4",
   "metadata": {},
   "outputs": [],
   "source": [
    "txts = ['LibertyGuard Deluxe Homeowner Policy Declarations Liberty Mutual Personal Insurance Company Liberty Mutual. INSURANCE FAX: ATTN: POLICY NUMBER: H3V-251-492955-70 NAME & ADDRESS Charles Corbett Dolores McKeehan 403 Poplar Ridge Rd Chapmansboro, TN 37035-5334 RESIDENCE PREMISES INSURED 4127 Meadow View Cir Pleasant View, TN 37146-8198 THESE DECLARATIONS EFFECTIVE 12/21/2021 Same as Residence POLICY PERIOD 12/21/2021 through 12/21/2022 RESIDENCE PREMISES 403 Poplar Ridge Rd Chapmmsboro, TN 37035-5334 SECTIONI AND II: COVERAGES AND LIMITS UNDER YOUR LIBERTY GUARD HOMEOWNERS POLICY I: COVERAGE A - YOUR DWELLING COVERAGE B - OTHER STRUCTURES ON RESIDENCE PREMISES COVERAGE C - PERSONAL PROPERTY COVERAGE D - LOSS OF USE OF YOUR RESIDENCE PREMISES $ 280,500 $ 28,050 $ 210,380 Actual Loss Sustained II: COVERAGE E - PERSONAL LIABILITY (EACH OCCURRENCE) COVERAGE F - MEDICAL PAYMENTS TO OTHERS (EACH PERSON) $ 300,000 5,000 DEDUCTIBLE: LOSSES COVERED UNDER SECTION I ARE SUBJECT TO A DEDUCTIBLE OF 1% Wind/Hail (if applicable) 1% NET PREMIUM: $1,359.00 PAID IN FULL NO Replacement Cost Coverage X Yes No Expanded Replacement Cost [X] 20% No Functional Replacement Roof Replacement Cost Coverage Yes [X] No Mortgagee 1 HIGHLANDS RESIDENTIAL MORTGAGE, LTD. Loan # 7018195910 Issoe/atime C/O Conlar P.O. Box 202028 Florence, SC 29502 Jans mathe Market President Secretary Countersigned by: Date: December 09, 2021']"
   ]
  },
  {
   "cell_type": "code",
   "execution_count": null,
   "id": "53af016a",
   "metadata": {},
   "outputs": [],
   "source": [
    "from concurrent.futures import ThreadPoolExecutor\n",
    "import time\n",
    "\n",
    "start_time = time.time()\n",
    "\n",
    "pred_label = []\n",
    "i=0\n",
    "#for txt in global_validate['text'].values:\n",
    "for txt in txts:\n",
    "#for txt in zip(global_validate['text'].values, global_validate['Ref. No.'].values, global_validate['text'].values:\n",
    "    i=i+1\n",
    "    print(i)\n",
    "    with ThreadPoolExecutor() as executor:\n",
    "        predictions = executor.map(predict, \n",
    "                                   BERT_MODELS, \n",
    "                                   [txt]*len(labels), \n",
    "                                   labels, \n",
    "                                   THRESHOLDS,\n",
    "                                   GARBAGE_REMOVAL)\n",
    "    predictions = list(predictions)\n",
    "    print(predictions)\n",
    "    if(predictions[0][0]=='focused'):\n",
    "        classifications = list(filter(lambda x: x[0]!='others', predictions[1:]))\n",
    "        if len(classifications)==0:\n",
    "            final_class = sorted(predictions[1:],key=lambda x: x[1], reverse=True)[0]\n",
    "        else:\n",
    "            final_class = sorted(classifications,key=lambda x: x[1], reverse=True)[0]\n",
    "\n",
    "        '''if final_class[1]>0.90:\n",
    "            final_class = final_class\n",
    "        else:\n",
    "            final_class = ('others',final_class[1])'''\n",
    "    else:\n",
    "        final_class = ('others',predictions[0][1])\n",
    "    pred_label.append(label[final_class[0]])\n",
    "    print(final_class)\n",
    "    print('\\n')\n",
    "    \n",
    "print(\"--- %s seconds ---\" % (time.time() - start_time))"
   ]
  },
  {
   "cell_type": "code",
   "execution_count": null,
   "id": "2dab963d",
   "metadata": {},
   "outputs": [],
   "source": [
    "label"
   ]
  },
  {
   "cell_type": "code",
   "execution_count": null,
   "id": "32466001",
   "metadata": {},
   "outputs": [],
   "source": [
    "acc = accuracy_score(global_validate['label'].values, np.array(pred_label))\n",
    "f1 = f1_score(global_validate['label'].values, np.array(pred_label), average='weighted')\n",
    "acc,f1"
   ]
  },
  {
   "cell_type": "code",
   "execution_count": null,
   "id": "e3b0d705",
   "metadata": {},
   "outputs": [],
   "source": [
    "label_inv"
   ]
  },
  {
   "cell_type": "code",
   "execution_count": null,
   "id": "9cadc621",
   "metadata": {},
   "outputs": [],
   "source": [
    "range(len(label_inv))"
   ]
  },
  {
   "cell_type": "code",
   "execution_count": null,
   "id": "7822be7a",
   "metadata": {},
   "outputs": [],
   "source": [
    "checkfor = range(len(label_inv))\n",
    "for check in checkfor:\n",
    "    total = 0\n",
    "    correct = 0\n",
    "    notclassified = 0\n",
    "    score = []\n",
    "    for a,p in zip(global_validate['label'].values, np.array(pred_label)):\n",
    "             \n",
    "        if a == check:\n",
    "            total+=1\n",
    "            if (p == check):\n",
    "                correct+=1\n",
    "            elif (p!=check):\n",
    "                notclassified+=1\n",
    "                \n",
    "    if total!=0:\n",
    "        acc = round(correct/total,2)\n",
    "        print('accuracy for {}: {}/{}={}'.format(label_inv[check],correct,total,acc))\n",
    "        #print('notclassified {}'.format(notclassified))\n",
    "        print('\\n')"
   ]
  },
  {
   "cell_type": "code",
   "execution_count": null,
   "id": "17972034",
   "metadata": {},
   "outputs": [],
   "source": [
    "global_validate['pred_label'] = pred_label\n",
    "global_validate.head(1)"
   ]
  },
  {
   "cell_type": "code",
   "execution_count": null,
   "id": "dd8e537c",
   "metadata": {},
   "outputs": [],
   "source": [
    "global_validate['pred_category'] = global_validate['pred_label'].replace(label_inv )\n",
    "global_validate.head(1)"
   ]
  },
  {
   "cell_type": "code",
   "execution_count": null,
   "id": "db7f7df9",
   "metadata": {},
   "outputs": [],
   "source": [
    "global_validate['new_category'].values"
   ]
  },
  {
   "cell_type": "code",
   "execution_count": null,
   "id": "43795201",
   "metadata": {},
   "outputs": [],
   "source": [
    "temp = []\n",
    "for i,j in zip(global_validate['new_category'].values, global_validate['pred_category'].values):\n",
    "    if i==j:\n",
    "        temp.append('PASS')\n",
    "    else:\n",
    "        temp.append('FAIL')\n",
    "global_validate['local_P/F']= temp"
   ]
  },
  {
   "cell_type": "code",
   "execution_count": null,
   "id": "6f4e1298",
   "metadata": {},
   "outputs": [],
   "source": [
    "global_validate.to_csv('./valid.csv', header=True, index=False)"
   ]
  },
  {
   "cell_type": "code",
   "execution_count": null,
   "id": "eb837451",
   "metadata": {},
   "outputs": [],
   "source": [
    "global_validate[(global_validate['label']==0)&\n",
    "                            (global_validate['pred_label']!=0)].shape"
   ]
  },
  {
   "cell_type": "code",
   "execution_count": null,
   "id": "fea93914",
   "metadata": {},
   "outputs": [],
   "source": [
    "bank \n",
    "morgage \n",
    "Retirement"
   ]
  },
  {
   "cell_type": "code",
   "execution_count": null,
   "id": "59c7df42",
   "metadata": {},
   "outputs": [],
   "source": [
    "Purchase\n",
    "Rental"
   ]
  },
  {
   "cell_type": "code",
   "execution_count": null,
   "id": "8705aaf5",
   "metadata": {},
   "outputs": [],
   "source": [
    "tax return\n",
    "k1\n",
    "w2\n",
    "paystub"
   ]
  },
  {
   "cell_type": "code",
   "execution_count": null,
   "id": "9c1747b1",
   "metadata": {},
   "outputs": [],
   "source": []
  },
  {
   "cell_type": "code",
   "execution_count": null,
   "id": "147fadb5",
   "metadata": {},
   "outputs": [],
   "source": [
    "import nlpaug.augmenter.sentence as nas\n",
    "import nlpaug.augmenter.word as naw\n",
    "import nlpaug.augmenter.char as nac"
   ]
  },
  {
   "cell_type": "code",
   "execution_count": null,
   "id": "257eade8",
   "metadata": {},
   "outputs": [],
   "source": [
    "augc= nac.OcrAug() \n",
    "'''aug = naw.ContextualWordEmbsAug(model_path='bert-base-uncased', \n",
    "                                model_type='bert',\n",
    "                                action=\"insert\", \n",
    "                                aug_p=0.80)'''\n",
    "                                \n",
    "#augs = nas.ContextualWordEmbsForSentenceAug(model_path='gpt2', top_p=0.5, batch_size=4)\n",
    "#randomSentAug = nas.random.RandomSentAug(mode='neighbor', action='swap') <---"
   ]
  },
  {
   "cell_type": "code",
   "execution_count": null,
   "id": "5e213ff7",
   "metadata": {},
   "outputs": [],
   "source": [
    "txt = [data['text'][1],data['text'][0]]\n",
    "augmented_data = augc.augment(txt)\n",
    "#augmented_data = randomWordAug.augment(txt)"
   ]
  },
  {
   "cell_type": "code",
   "execution_count": null,
   "id": "2efe79ed",
   "metadata": {},
   "outputs": [],
   "source": [
    "txt"
   ]
  },
  {
   "cell_type": "code",
   "execution_count": null,
   "id": "4ff0dc5e",
   "metadata": {},
   "outputs": [],
   "source": [
    "augmented_data"
   ]
  },
  {
   "cell_type": "code",
   "execution_count": null,
   "id": "44ec9720",
   "metadata": {},
   "outputs": [],
   "source": []
  },
  {
   "cell_type": "code",
   "execution_count": null,
   "id": "642c8d6a",
   "metadata": {},
   "outputs": [],
   "source": []
  },
  {
   "cell_type": "code",
   "execution_count": null,
   "id": "535f1f97",
   "metadata": {},
   "outputs": [],
   "source": []
  }
 ],
 "metadata": {
  "kernelspec": {
   "display_name": "classification_service",
   "language": "python",
   "name": "classification_service"
  },
  "language_info": {
   "codemirror_mode": {
    "name": "ipython",
    "version": 3
   },
   "file_extension": ".py",
   "mimetype": "text/x-python",
   "name": "python",
   "nbconvert_exporter": "python",
   "pygments_lexer": "ipython3",
   "version": "3.8.0"
  }
 },
 "nbformat": 4,
 "nbformat_minor": 5
}
