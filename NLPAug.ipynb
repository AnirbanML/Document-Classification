{
 "cells": [
  {
   "cell_type": "code",
   "execution_count": 1,
   "id": "9ecc3855",
   "metadata": {},
   "outputs": [],
   "source": [
    "import nlpaug.augmenter.sentence as nas\n",
    "import nlpaug.augmenter.word as naw\n",
    "import nlpaug.augmenter.char as nac\n",
    "import pandas as pd"
   ]
  },
  {
   "cell_type": "code",
   "execution_count": 2,
   "id": "0c5fad4e",
   "metadata": {},
   "outputs": [],
   "source": [
    "pd.options.display.max_colwidth = 3000\n",
    "pd.options.display.max_rows = 3000"
   ]
  },
  {
   "cell_type": "code",
   "execution_count": 3,
   "id": "f8d5f7e1",
   "metadata": {},
   "outputs": [
    {
     "data": {
      "text/html": [
       "<div>\n",
       "<style scoped>\n",
       "    .dataframe tbody tr th:only-of-type {\n",
       "        vertical-align: middle;\n",
       "    }\n",
       "\n",
       "    .dataframe tbody tr th {\n",
       "        vertical-align: top;\n",
       "    }\n",
       "\n",
       "    .dataframe thead th {\n",
       "        text-align: right;\n",
       "    }\n",
       "</style>\n",
       "<table border=\"1\" class=\"dataframe\">\n",
       "  <thead>\n",
       "    <tr style=\"text-align: right;\">\n",
       "      <th></th>\n",
       "      <th>ADR</th>\n",
       "      <th>text</th>\n",
       "      <th>category</th>\n",
       "      <th>type</th>\n",
       "      <th>date</th>\n",
       "      <th>org/aug</th>\n",
       "    </tr>\n",
       "  </thead>\n",
       "  <tbody>\n",
       "    <tr>\n",
       "      <th>0</th>\n",
       "      <td>ADR-2022-100004022857</td>\n",
       "      <td># Lee, Terrilynn, Marie 000029128 I=0000 29128 1 AV 0.423 TERRILYNN MARIE LEE 524 S ACADEMY ST MEDINA NY 14103 This letter is a summary of benefits you currently receive from the Department of Veterans Affairs (VA). We are providing this letter to disabled Veterans to use in applying for benefits such as housing entitlements, free or reduced state park annual memberships, state or local property or vehicle tax relief, civil service preference, or any other program or entitlement in which verification of VA benefits is required. Please safeguard this important document. This letter replaces VA Form 20-5455, and is considered an official record of your VA entitlement. -- America is Grateful to You for Your Service -- Our records contain the following information: Personal Claim Information: Your VA claim number is: 103 66 6110 You are the Veteran Military Information: Your character(s) of discharge and service date(s) include: Air Force, Honorable, 25-Jun-1986 - 25-Jun-1995 (You may have additional periods of service not listed above) VA Benefits Information: Service-connected disability: Yes Your combined service-connected evaluation is: 100 PERCENT The effective date of the last change to your current award was: 01-DEC-2020 Your current monthly award amount is: $3,146.42 0.570 oz 596133-002-0/3946703 0029128 0116509 |=000000 Are you considered to be totally and permanently disabled due to your service-connected disabilities: Yes You should contact your state or local office of Veterans' affairs for information on any tax, license, or fee-related benefits for which you may be eligible. State offices of Veterans' affairs are available at http://www.va.gov/statedva.htm. Need Additional Information or Verification? If you have any questions about this letter or need additional verification of VA benefits, please call us at 1-800-827-1000. If you use a Telecommunications Device for the Deaf (TDD), the federal relay number is 711. Send electronic inquiries through the Internet at https://iris.custhelp.va.gov/. Sincerely yours, Regional Office Director Enclosure(s): What Things Affect Your Rights To Payment NE201221 MAIL WWCZX50 AS OF $50+ SET R FOR DETAILS</td>\n",
       "      <td>Award Letter(s)</td>\n",
       "      <td>LD</td>\n",
       "      <td>20220711135206</td>\n",
       "      <td>org</td>\n",
       "    </tr>\n",
       "    <tr>\n",
       "      <th>1</th>\n",
       "      <td>ADR-2022-100004025366</td>\n",
       "      <td>BeBenefits A Service of the Department of Veterans Affairs and the Dashboard v My Gateway to Benefit Information Department of Defense Apply Manage Learn National Resource Directory Employment Center Contact Q Search For feature and outage events, refer to the Outage Calendar link at the bottom of the page. To ensure your security and privacy, when using a shared or public computer, make sure you always log out of VA/DoD eBenefits and then close all browser windows when finished accessing the site. Dashboard Disabilities My Profile Total Combined Disability Add Disabilities Personal Information You have a 90% final degree of 90% Submit a claim to make any Representative disability. This percentage determines the amount of benefit updates to the disabilities that you Disabilities pay you will receive. believe are related to your military service. Dependents How is this calculated Apply Now. My Documents My Claims &amp; Appeals Work in Process Rated Disabilities Historical Claims Historical Appeals Disability Rating Decision Related To Effective Date My Benefits &amp; Payments posttraumatic stress disorder 70% Service Connected PTSD - Personal 01/27/2021 (PTSD), major depressive disorder, Benefits and alcohol use disorder (also Trauma claimed as sleep disturbances) Payment History eating disorders Not Service Connected Messages migraine 50% Service Connected 10/19/2021 Account Activity Pending Disabilities You have no Pending Disabilities to display at this time.</td>\n",
       "      <td>Award Letter(s)</td>\n",
       "      <td>LD</td>\n",
       "      <td>20220711135206</td>\n",
       "      <td>org</td>\n",
       "    </tr>\n",
       "  </tbody>\n",
       "</table>\n",
       "</div>"
      ],
      "text/plain": [
       "                     ADR  \\\n",
       "0  ADR-2022-100004022857   \n",
       "1  ADR-2022-100004025366   \n",
       "\n",
       "                                                                                                                                                                                                                                                                                                                                                                                                                                                                                                                                                                                                                                                                                                                                                                                                                                                                                                                                                                                                                                                                                                                                                                                                                                                                                                                                                                                                                                                                                                                                                                                                                                                                                                                                                                                                                                                                                                                                                                                                                                                                                                                                                                                                                                                                            text  \\\n",
       "0  # Lee, Terrilynn, Marie 000029128 I=0000 29128 1 AV 0.423 TERRILYNN MARIE LEE 524 S ACADEMY ST MEDINA NY 14103 This letter is a summary of benefits you currently receive from the Department of Veterans Affairs (VA). We are providing this letter to disabled Veterans to use in applying for benefits such as housing entitlements, free or reduced state park annual memberships, state or local property or vehicle tax relief, civil service preference, or any other program or entitlement in which verification of VA benefits is required. Please safeguard this important document. This letter replaces VA Form 20-5455, and is considered an official record of your VA entitlement. -- America is Grateful to You for Your Service -- Our records contain the following information: Personal Claim Information: Your VA claim number is: 103 66 6110 You are the Veteran Military Information: Your character(s) of discharge and service date(s) include: Air Force, Honorable, 25-Jun-1986 - 25-Jun-1995 (You may have additional periods of service not listed above) VA Benefits Information: Service-connected disability: Yes Your combined service-connected evaluation is: 100 PERCENT The effective date of the last change to your current award was: 01-DEC-2020 Your current monthly award amount is: $3,146.42 0.570 oz 596133-002-0/3946703 0029128 0116509 |=000000 Are you considered to be totally and permanently disabled due to your service-connected disabilities: Yes You should contact your state or local office of Veterans' affairs for information on any tax, license, or fee-related benefits for which you may be eligible. State offices of Veterans' affairs are available at http://www.va.gov/statedva.htm. Need Additional Information or Verification? If you have any questions about this letter or need additional verification of VA benefits, please call us at 1-800-827-1000. If you use a Telecommunications Device for the Deaf (TDD), the federal relay number is 711. Send electronic inquiries through the Internet at https://iris.custhelp.va.gov/. Sincerely yours, Regional Office Director Enclosure(s): What Things Affect Your Rights To Payment NE201221 MAIL WWCZX50 AS OF $50+ SET R FOR DETAILS    \n",
       "1                                                                                                                                                                                                                                                                                                                                                                                                                                                                                                                                                                                                                                                                                                                                         BeBenefits A Service of the Department of Veterans Affairs and the Dashboard v My Gateway to Benefit Information Department of Defense Apply Manage Learn National Resource Directory Employment Center Contact Q Search For feature and outage events, refer to the Outage Calendar link at the bottom of the page. To ensure your security and privacy, when using a shared or public computer, make sure you always log out of VA/DoD eBenefits and then close all browser windows when finished accessing the site. Dashboard Disabilities My Profile Total Combined Disability Add Disabilities Personal Information You have a 90% final degree of 90% Submit a claim to make any Representative disability. This percentage determines the amount of benefit updates to the disabilities that you Disabilities pay you will receive. believe are related to your military service. Dependents How is this calculated Apply Now. My Documents My Claims & Appeals Work in Process Rated Disabilities Historical Claims Historical Appeals Disability Rating Decision Related To Effective Date My Benefits & Payments posttraumatic stress disorder 70% Service Connected PTSD - Personal 01/27/2021 (PTSD), major depressive disorder, Benefits and alcohol use disorder (also Trauma claimed as sleep disturbances) Payment History eating disorders Not Service Connected Messages migraine 50% Service Connected 10/19/2021 Account Activity Pending Disabilities You have no Pending Disabilities to display at this time.    \n",
       "\n",
       "          category type            date org/aug  \n",
       "0  Award Letter(s)   LD  20220711135206     org  \n",
       "1  Award Letter(s)   LD  20220711135206     org  "
      ]
     },
     "execution_count": 3,
     "metadata": {},
     "output_type": "execute_result"
    }
   ],
   "source": [
    "data = pd.read_csv('./master_data.csv')\n",
    "data.head(2)"
   ]
  },
  {
   "cell_type": "code",
   "execution_count": null,
   "id": "b68ba3e4",
   "metadata": {},
   "outputs": [],
   "source": [
    "ocrAug= nac.OcrAug() \n",
    "\n",
    "'''bertWordEmbsAug= naw.ContextualWordEmbsAug(model_path='distilroberta-base', \n",
    "                                model_type='bert',\n",
    "                                action=\"insert\", \n",
    "                                aug_p=0.8,\n",
    "                                device='cuda')'''\n",
    "\n",
    "spellingAug = naw.SpellingAug(aug_p=0.3)\n",
    "\n",
    "randomSentAug = nas.random.RandomSentAug(mode='neighbor', action='swap')"
   ]
  },
  {
   "cell_type": "code",
   "execution_count": null,
   "id": "1b47210d",
   "metadata": {},
   "outputs": [],
   "source": [
    "def ocrAugument(text):\n",
    "    return ocrAug.augment(text, num_thread=6)\n",
    "\n",
    "# def wordEmbsAugument(text):\n",
    "#     return bertWordEmbsAug.augment(text)\n",
    "\n",
    "def swapSentAugument(text):\n",
    "    return randomSentAug.augment(text, num_thread=6)\n",
    "\n",
    "def wordSpellingAug(txt):\n",
    "    return spellingAug.augment(txt, num_thread=6)"
   ]
  },
  {
   "cell_type": "code",
   "execution_count": null,
   "id": "f5a3fde3",
   "metadata": {},
   "outputs": [],
   "source": [
    "ocrAug = ocrAugument(list(data['text'].values))\n",
    "# ocrAug = ocrAugument(list(data['text'][data['new_category']=='others'].values))\n",
    "len(ocrAug)"
   ]
  },
  {
   "cell_type": "code",
   "execution_count": null,
   "id": "9e19d48f",
   "metadata": {},
   "outputs": [],
   "source": [
    "spellAug = wordSpellingAug(list(data['text'].values))\n",
    "len(spellAug)"
   ]
  },
  {
   "cell_type": "code",
   "execution_count": null,
   "id": "5086a13d",
   "metadata": {},
   "outputs": [],
   "source": [
    "swapSentAug = swapSentAugument(list(data['text'].values))\n",
    "len(swapSentAug)"
   ]
  },
  {
   "cell_type": "code",
   "execution_count": null,
   "id": "261b0a2f",
   "metadata": {},
   "outputs": [],
   "source": [
    "def addAugText(df, augText):\n",
    "    tempDf = pd.DataFrame(columns=['ADR', 'text', 'type', 'date', 'org/aug'])\n",
    "    tempDf['ADR'] = df['ADR']\n",
    "    tempDf['text'] = np.squeeze(augText) \n",
    "    tempDf['category'] = df['category']\n",
    "    tempDf['type'] = df['type']\n",
    "    tempDf['date'] = df['date']\n",
    "    tempDf['org/aug'] = \"aug\"\n",
    "    return tempDf"
   ]
  },
  {
   "cell_type": "code",
   "execution_count": null,
   "id": "51d07273",
   "metadata": {},
   "outputs": [],
   "source": [
    "ocrAugDf = addAugText(data, ocrAug)\n",
    "#wordEmbsAugDf = addAugText(data, wordEmbsAug)\n",
    "spellAugDf = addAugText(data, spellAug)\n",
    "swapSentAugDf = addAugText(data, swapSentAug)"
   ]
  },
  {
   "cell_type": "code",
   "execution_count": null,
   "id": "8e094f6c",
   "metadata": {},
   "outputs": [],
   "source": [
    "dataAug = pd.concat([data,ocrAugDf,spellAugDf,swapSentAugDf])\n",
    "dataAug.shape"
   ]
  },
  {
   "cell_type": "code",
   "execution_count": null,
   "id": "df867ff6",
   "metadata": {},
   "outputs": [],
   "source": [
    "dataAug.to_csv('./master_data_AUG.csv', header=True, index=False)"
   ]
  }
 ],
 "metadata": {
  "kernelspec": {
   "display_name": "classification_service",
   "language": "python",
   "name": "classification_service"
  },
  "language_info": {
   "codemirror_mode": {
    "name": "ipython",
    "version": 3
   },
   "file_extension": ".py",
   "mimetype": "text/x-python",
   "name": "python",
   "nbconvert_exporter": "python",
   "pygments_lexer": "ipython3",
   "version": "3.8.0"
  }
 },
 "nbformat": 4,
 "nbformat_minor": 5
}
