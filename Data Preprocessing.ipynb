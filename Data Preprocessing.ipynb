{
 "cells": [
  {
   "cell_type": "code",
   "execution_count": 2,
   "id": "c36e849c",
   "metadata": {},
   "outputs": [],
   "source": [
    "import pandas as pd"
   ]
  },
  {
   "cell_type": "code",
   "execution_count": 3,
   "id": "dae2db29",
   "metadata": {},
   "outputs": [
    {
     "data": {
      "text/plain": [
       "Index(['ADR Processed Date', 'QC Date', 'QC Checker', 'Loan Number', 'Channel',\n",
       "       'ADR REFERENCE NUMBER', 'Total #PageADR', 'PAGE NO', 'Total #PageDOC',\n",
       "       'BPO', 'STATUS', 'SINGLE DOC', 'PAGE_GROUP', 'Average CR',\n",
       "       'SYSTEM CLASSIFIED VALUE', 'QC VALUE', '#Pages Classification FAIL',\n",
       "       'CLASSIFICATION@ DOC LEVEL', 'COLLATION QC@ Doc Level',\n",
       "       'FATAL OVERALL QC@ DOC LEVEL', 'SUB CLASSIFY QC@ Doc Level',\n",
       "       'SUB CLASSIFY OUTPUT', 'Sub Classify Data Elements Fail',\n",
       "       'ROTATION QC @ Pg Level', '#Pages Rotation FAIL',\n",
       "       'NON FATALOVERALL QC @ DOC LEVEL', 'OVERALL QC@ DOC LEVEL',\n",
       "       'Employer Name'],\n",
       "      dtype='object')"
      ]
     },
     "execution_count": 3,
     "metadata": {},
     "output_type": "execute_result"
    }
   ],
   "source": [
    "df = pd.read_excel('./xl/devorce.ods', sheet_name='Divorce_Decree', engine='odf')\n",
    "#df = pd.read_excel('./xl/AwardLetter_RetirementAccount_Mortgage.xlsx', sheet_name='Report Base')\n",
    "df.columns"
   ]
  },
  {
   "cell_type": "code",
   "execution_count": 4,
   "id": "abb47264",
   "metadata": {},
   "outputs": [
    {
     "data": {
      "text/plain": [
       "array(['Divorce Decree', 'Income Calculation Sheet',\n",
       "       'Divorce Decree, Award Letter(s)'], dtype=object)"
      ]
     },
     "execution_count": 4,
     "metadata": {},
     "output_type": "execute_result"
    }
   ],
   "source": [
    "df['QC VALUE'].unique()"
   ]
  },
  {
   "cell_type": "code",
   "execution_count": 10,
   "id": "1ca56eb9",
   "metadata": {},
   "outputs": [
    {
     "data": {
      "text/plain": [
       "(52, 3)"
      ]
     },
     "execution_count": 10,
     "metadata": {},
     "output_type": "execute_result"
    }
   ],
   "source": [
    "#df = df[(df['Total #Page\\nADR']==1)&(df['FATAL OVERALL QC \\n@ DOC LEVEL']=='PASS')]\n",
    "#df = df[(df['Total #PageADR']==1)&(df['FATAL OVERALL QC@ DOC LEVEL']=='PASS')]\n",
    "df = df[(df['FATAL OVERALL QC@ DOC LEVEL']=='PASS')]\n",
    "#df = df[df['FATAL OVERALL QC \\n@ DOC LEVEL']=='PASS']\n",
    "df = df[['ADR REFERENCE NUMBER', 'PAGE NO', 'QC VALUE']]\n",
    "df.shape"
   ]
  },
  {
   "cell_type": "code",
   "execution_count": null,
   "id": "1c785379",
   "metadata": {},
   "outputs": [],
   "source": []
  },
  {
   "cell_type": "code",
   "execution_count": 11,
   "id": "6b8c9960",
   "metadata": {},
   "outputs": [
    {
     "data": {
      "text/html": [
       "<div>\n",
       "<style scoped>\n",
       "    .dataframe tbody tr th:only-of-type {\n",
       "        vertical-align: middle;\n",
       "    }\n",
       "\n",
       "    .dataframe tbody tr th {\n",
       "        vertical-align: top;\n",
       "    }\n",
       "\n",
       "    .dataframe thead th {\n",
       "        text-align: right;\n",
       "    }\n",
       "</style>\n",
       "<table border=\"1\" class=\"dataframe\">\n",
       "  <thead>\n",
       "    <tr style=\"text-align: right;\">\n",
       "      <th></th>\n",
       "      <th>ADR REFERENCE NUMBER</th>\n",
       "      <th>PAGE NO</th>\n",
       "      <th>QC VALUE</th>\n",
       "    </tr>\n",
       "  </thead>\n",
       "  <tbody>\n",
       "    <tr>\n",
       "      <th>0</th>\n",
       "      <td>ADR-2022-100004193898</td>\n",
       "      <td>1</td>\n",
       "      <td>Divorce Decree</td>\n",
       "    </tr>\n",
       "    <tr>\n",
       "      <th>1</th>\n",
       "      <td>ADR-2022-200004191765</td>\n",
       "      <td>1</td>\n",
       "      <td>Divorce Decree</td>\n",
       "    </tr>\n",
       "    <tr>\n",
       "      <th>2</th>\n",
       "      <td>ADR-2022-200004194826</td>\n",
       "      <td>1</td>\n",
       "      <td>Divorce Decree</td>\n",
       "    </tr>\n",
       "    <tr>\n",
       "      <th>3</th>\n",
       "      <td>ADR-2022-200004196885</td>\n",
       "      <td>1</td>\n",
       "      <td>Divorce Decree</td>\n",
       "    </tr>\n",
       "    <tr>\n",
       "      <th>4</th>\n",
       "      <td>ADR-2022-100004193649</td>\n",
       "      <td>1,2</td>\n",
       "      <td>Divorce Decree</td>\n",
       "    </tr>\n",
       "  </tbody>\n",
       "</table>\n",
       "</div>"
      ],
      "text/plain": [
       "    ADR REFERENCE NUMBER PAGE NO        QC VALUE\n",
       "0  ADR-2022-100004193898       1  Divorce Decree\n",
       "1  ADR-2022-200004191765       1  Divorce Decree\n",
       "2  ADR-2022-200004194826       1  Divorce Decree\n",
       "3  ADR-2022-200004196885       1  Divorce Decree\n",
       "4  ADR-2022-100004193649     1,2  Divorce Decree"
      ]
     },
     "execution_count": 11,
     "metadata": {},
     "output_type": "execute_result"
    }
   ],
   "source": [
    "df.head()"
   ]
  },
  {
   "cell_type": "code",
   "execution_count": 12,
   "id": "53174d31",
   "metadata": {},
   "outputs": [
    {
     "data": {
      "text/plain": [
       "Divorce Decree    52\n",
       "Name: QC VALUE, dtype: int64"
      ]
     },
     "execution_count": 12,
     "metadata": {},
     "output_type": "execute_result"
    }
   ],
   "source": [
    "df['QC VALUE'].value_counts()"
   ]
  },
  {
   "cell_type": "code",
   "execution_count": 13,
   "id": "9a9336c3",
   "metadata": {},
   "outputs": [],
   "source": [
    "df.to_csv('./divorce.csv', header=True, index=False)"
   ]
  },
  {
   "cell_type": "code",
   "execution_count": null,
   "id": "1fdcb6d5",
   "metadata": {},
   "outputs": [],
   "source": []
  },
  {
   "cell_type": "code",
   "execution_count": null,
   "id": "737b84e1",
   "metadata": {},
   "outputs": [],
   "source": []
  }
 ],
 "metadata": {
  "kernelspec": {
   "display_name": "classification_service",
   "language": "python",
   "name": "classification_service"
  },
  "language_info": {
   "codemirror_mode": {
    "name": "ipython",
    "version": 3
   },
   "file_extension": ".py",
   "mimetype": "text/x-python",
   "name": "python",
   "nbconvert_exporter": "python",
   "pygments_lexer": "ipython3",
   "version": "3.8.0"
  }
 },
 "nbformat": 4,
 "nbformat_minor": 5
}
