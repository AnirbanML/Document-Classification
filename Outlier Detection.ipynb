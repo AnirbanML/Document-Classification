{
 "cells": [
  {
   "cell_type": "code",
   "execution_count": 1,
   "id": "5ff90900",
   "metadata": {},
   "outputs": [],
   "source": [
    "from sklearn.feature_extraction.text import HashingVectorizer\n",
    "from sklearn.base import TransformerMixin\n",
    "from sklearn.pipeline import Pipeline\n",
    "from sklearn.svm import OneClassSVM\n",
    "from sklearn.ensemble import IsolationForest\n",
    "from transformers import BertTokenizer\n",
    "from nltk.corpus import stopwords\n",
    "from sklearn.metrics import accuracy_score\n",
    "from sklearn.metrics import confusion_matrix \n",
    "from sklearn.metrics import classification_report \n",
    "from nltk.stem.porter import PorterStemmer\n",
    "import pandas as pd\n",
    "import spacy\n",
    "from spacy.lang.en import English\n",
    "import string\n",
    "from sklearn import utils\n",
    "import random\n",
    "import nltk\n",
    "import numpy as np\n",
    "import swifter\n",
    "from sklearn.metrics import accuracy_score, f1_score, roc_auc_score\n",
    "from sklearn.metrics import classification_report\n",
    "from gensim.models.doc2vec import Doc2Vec, TaggedDocument\n",
    "import gensim\n",
    "import multiprocessing"
   ]
  },
  {
   "cell_type": "code",
   "execution_count": 2,
   "id": "b6877e30",
   "metadata": {},
   "outputs": [],
   "source": [
    "pd.options.display.max_colwidth = 3000\n",
    "pd.options.display.max_rows = 3000"
   ]
  },
  {
   "cell_type": "code",
   "execution_count": 3,
   "id": "4b909293",
   "metadata": {},
   "outputs": [],
   "source": [
    "nlp = spacy.load(\"en_core_web_sm\")\n",
    "remove_words = set(stopwords.words('english') + list(string.punctuation))\n",
    "\n",
    "def tokenizeText(text):\n",
    "    text = nlp(str(text))\n",
    "    tokens=[]\n",
    "    for tok in text:\n",
    "        tokens.append(tok.lemma_.lower().strip())\n",
    "\n",
    "    tokens = [tok for tok in tokens if tok.lower() not in remove_words]\n",
    "    tokens = [tok for tok in tokens if len(tok) >= 3]\n",
    "    tokens = [tok for tok in tokens if tok.isalpha()]\n",
    "    tokenized_Text = (\" \").join(tokens)\n",
    "    return tokenized_Text"
   ]
  },
  {
   "cell_type": "code",
   "execution_count": 4,
   "id": "d37aa69c",
   "metadata": {},
   "outputs": [
    {
     "data": {
      "text/plain": [
       "'return service representation printed document please send payment address mortgage statement box freedom mortgage dallas statement date contact information phone customer care monday friday saturday find web christopher ikaikaokalani miggins keaunui unit loan number ewa beach payment due date amount due payment receive late fee charge property address keaunui ewa beach account information explanation amount due principal outstanding principal defer balance interest escrow impound taxes insurance interest rate regular monthly payment prepayment penalty total fees charges escrow balance overdue payment unapplied funds unpaid late charges optional products total amount due transaction activity transaction date interest pay transaction transaction interest principal escrow late charges fees optional unapplied description date effective date amount pay pay pay pay paid insurance funds payment important notice extent obligation discharged bankruptcy subject automatic stay provide confirmed plan communication regulatory compliance informational purpose constitute demand payment attempt impose personal liability obligation past payment breakdown important messages pay last paid year month date principal interest escrow taxes insurance fee late charges partial payment unapplied total partial payment fund receive less full periodic payment may apply account promptly return hold non interest bearing account enough fund receive apply full periodic payment balance represent know amount due printing amount list include optional product applicable statement delinquent balance may represent full date reinstatement balance reinstatement obligation please contact regard additional information provide back statement detach return bottom portion payment amount due freedom mortgage due loan number christopher ikaikaokalani miggins late fee charge additional principal additional escrow late charge freedom mortgage print box pasadena total amount enclose ttatfdttadtttttfffataafadfdadtddtftdafddafdadftafdtfffdddtfadtddd make check payable freedom mortgage intern change mailing address contact information check complete form back'"
      ]
     },
     "execution_count": 4,
     "metadata": {},
     "output_type": "execute_result"
    }
   ],
   "source": [
    "txt = \"FOR RETURN SERVICE ONLY REPRESENTATION OF PRINTED DOCUMENT PLEASE DO NOT SEND PAYMENTS TO THIS ADDRESS Mortgage Statement P.O. BOX 619063 FREEDOM MORTGAGE' DALLAS, TX 75261-9063 Statement Date 07/07/22 Contact Information Phone: 1-855-690-5900 7-807-75148-0015287-002-000-010-000-000 Customer Care: Monday - Friday 8:00 a.m. - 10:00 p.m. ET Saturday 9:00 a.m. - 6:00 p.m. ET Find us on the web at: www.freedommortgage.com CHRISTOPHER IKAIKAOKALANI MIGGINS 91-1001 KEAUNUI DR UNIT 390 Loan Number 0120122569 EWA BEACH HI 96706-6346 Payment Due Date 08/01/22 $2,617.50 Amount Due** If payment is received after 08/16/22, $104.70 late fee will be charged. Property Address: 91-1001 KEAUNUI DR #390 EWA BEACH HI 96706 Account Information Explanation of Amount Due Principal $1,277.04 Outstanding Principal $611,417.60 Deferred Balance $0.00 Interest $1,146.41 Escrow/Impound (for Taxes and/or Insurance) $194.05 Interest Rate 2.250% Regular Monthly Payment $2,617.50 Prepayment Penalty No Total Fees & Charges $.00 Escrow Balance $914.66 Overdue Payment $.00 Unapplied Funds $0.00 Unpaid Late Charges $.00 Other/Optional Products $.00 Total Amount Due** $2,617.50 Transaction Activity (06/11/22 - 07/07/22) Transaction Date Interest Paid Transaction Transaction Interest Principal Escrow Late Charges Fees Optional Unapplied Description To Date Effective Date Amount Paid Paid Paid Paid Paid Insurance Funds Payment 07/07/22 07/01/22 07/07/22 $2,617.50 $1,148.80 $1,274.65 $194.05 $0.00 $0.00 $0.00 $0.00 IMPORTANT NOTICE: TO THE EXTENT YOUR OBLIGATION HAS BEEN DISCHARGED IN BANKRUPTCY, IS SUBJECT TO THE AUTOMATIC STAY OR IS PROVIDED FOR IN A CONFIRMED PLAN, THIS COMMUNICATION IS FOR REGULATORY COMPLIANCE AND/OR INFORMATIONAL PURPOSES ONLY, AND DOES NOT CONSTITUTE A DEMAND FOR PAYMENT OR AN ATTEMPT TO IMPOSE PERSONAL LIABILITY FOR SUCH OBLIGATION. Past Payments Breakdown Important Messages Paid Last Paid Year Month to Date Principal $1,274.65 $8,872.64 Interest $1,148.80 $8,091.51 Escrow (Taxes and Insurance) $194.05 $1,323.30 Fees** $0.00 $0.00 Late Charges $0.00 $0.00 Partial Payment Unapplied* $0.00 $0.00 Total $2,617.50 $18,287.45 *Partial Payments: Any funds received that are less than a full periodic payment may be applied to your account, promptly returned to you, or held in a non-interest bearing account until enough funds are received to apply to a full periodic payment. **This balance represents the known Amount Due as of the printing of this **Amounts listed here will include other/optional products, if applicable. statement. If you are delinquent, this balance may not represent full to-date reinstatement balance at 1-855-690-5900. reinstatement of your obligation. Please contact us regarding your up- Additional information is provided on the back of the statement. DETACH AND RETURN BOTTOM PORTION WITH YOUR PAYMENT Amount Due FREEDOM MORTGAGE' Due By 08/01/22: $2,617.50 LOAN NUMBER: 0120122569 CHRISTOPHER IKAIKAOKALANI MIGGINS $104.70 late fee will be charged after 08/16/22 Additional Principal $ . Additional Escrow $ . Late Charge $ FREEDOM MORTGAGE . print P.O. BOX 7230 e PASADENA CA 91109-7230 Total Amount Enclosed $ . TTATFDTTADTTTTTFFFATAAFADFDADTDDTFTDAFDDAFDADFTAFDTFFFDDDTFADTDDD et R Make check payable to Freedom Mortgage Intern To change mailing address and/or contact information, check here and complete form on back. \"\n",
    "tokenizeText(txt)"
   ]
  },
  {
   "cell_type": "code",
   "execution_count": 508,
   "id": "afcf0b2e",
   "metadata": {},
   "outputs": [
    {
     "data": {
      "text/plain": [
       "(238401, 9)"
      ]
     },
     "execution_count": 508,
     "metadata": {},
     "output_type": "execute_result"
    }
   ],
   "source": [
    "data = pd.read_csv('./oldnew.csv', low_memory=False)\n",
    "data.shape"
   ]
  },
  {
   "cell_type": "code",
   "execution_count": 509,
   "id": "cf4ef54e",
   "metadata": {},
   "outputs": [
    {
     "data": {
      "text/html": [
       "<div>\n",
       "<style scoped>\n",
       "    .dataframe tbody tr th:only-of-type {\n",
       "        vertical-align: middle;\n",
       "    }\n",
       "\n",
       "    .dataframe tbody tr th {\n",
       "        vertical-align: top;\n",
       "    }\n",
       "\n",
       "    .dataframe thead th {\n",
       "        text-align: right;\n",
       "    }\n",
       "</style>\n",
       "<table border=\"1\" class=\"dataframe\">\n",
       "  <thead>\n",
       "    <tr style=\"text-align: right;\">\n",
       "      <th></th>\n",
       "      <th>ADR</th>\n",
       "      <th>text</th>\n",
       "      <th>category</th>\n",
       "      <th>type</th>\n",
       "      <th>date</th>\n",
       "      <th>org/aug</th>\n",
       "      <th>page#</th>\n",
       "      <th>angle</th>\n",
       "      <th>renamed category</th>\n",
       "    </tr>\n",
       "  </thead>\n",
       "  <tbody>\n",
       "    <tr>\n",
       "      <th>0</th>\n",
       "      <td>ADR-2022-100004473184</td>\n",
       "      <td>loanDepot Branch: 102 - Cerritos Branch - Cer...</td>\n",
       "      <td>Setup Submission Form</td>\n",
       "      <td>LD</td>\n",
       "      <td>20220722123724</td>\n",
       "      <td>org</td>\n",
       "      <td>1</td>\n",
       "      <td>0.0</td>\n",
       "      <td>No</td>\n",
       "    </tr>\n",
       "  </tbody>\n",
       "</table>\n",
       "</div>"
      ],
      "text/plain": [
       "                     ADR                                               text  \\\n",
       "0  ADR-2022-100004473184   loanDepot Branch: 102 - Cerritos Branch - Cer...   \n",
       "\n",
       "                category type            date org/aug page#  angle  \\\n",
       "0  Setup Submission Form   LD  20220722123724     org     1    0.0   \n",
       "\n",
       "  renamed category  \n",
       "0               No  "
      ]
     },
     "execution_count": 509,
     "metadata": {},
     "output_type": "execute_result"
    }
   ],
   "source": [
    "data.head(1)"
   ]
  },
  {
   "cell_type": "code",
   "execution_count": 522,
   "id": "d03037d9",
   "metadata": {},
   "outputs": [
    {
     "data": {
      "text/plain": [
       "array([20220805060258, 20220804073822, 20220803052526, 20220803052202,\n",
       "       20220801061131, 20220729062912, 20220727051802, 20220725095443,\n",
       "       20220722194504, 20220722194403, 20220722194254, 20220722194154,\n",
       "       20220722183556, 20220722123724, 20220722122940, 20220722122607,\n",
       "       20220722120009, 20220713101239, 20220711172905, 20220711164234,\n",
       "       20220704092931])"
      ]
     },
     "execution_count": 522,
     "metadata": {},
     "output_type": "execute_result"
    }
   ],
   "source": [
    "data['date'].sort_values(ascending=False).unique()"
   ]
  },
  {
   "cell_type": "code",
   "execution_count": null,
   "id": "1e940afb",
   "metadata": {},
   "outputs": [],
   "source": [
    "ld_data = data[data['type']=='LD']\n",
    "ld_data.shape"
   ]
  },
  {
   "cell_type": "code",
   "execution_count": null,
   "id": "4049329d",
   "metadata": {},
   "outputs": [],
   "source": [
    "nmic_data = data[data['type']=='NMIC']\n",
    "nmic_data.shape"
   ]
  },
  {
   "cell_type": "code",
   "execution_count": null,
   "id": "1a80f76d",
   "metadata": {},
   "outputs": [],
   "source": [
    "mappings = {'Assets - Source of funds': 'Bank Statement',\n",
    " 'Bank Statement': 'Bank Statement',\n",
    " 'Bank Statement(s)': 'Bank Statement',\n",
    " 'BK Papers': 'Bankruptcy Papers',\n",
    " 'Child Support/Alimony Agreement': 'Divorce Decree / Child Support',\n",
    " 'Construction Agreement/Contract': 'Purchase Agreement',\n",
    " 'Contractor Bids': 'Purchase Agreement',\n",
    " 'Contractor Docs': 'Purchase Agreement',\n",
    " 'Divorce Decree': 'Divorce Decree / Child Support',\n",
    " 'Earnest Money Deposit': 'Purchase Agreement',\n",
    " 'Gift Funds': 'Bank Statement',\n",
    " 'Hazard Insurance Contact Information': 'Hazard Insurance',\n",
    " 'Hazard Insurance Dec Page - Final': 'Hazard Insurance',\n",
    " 'Hazard Insurance Dec Page - Incomplete': 'Hazard Insurance',\n",
    " 'Hazard Insurance Dec Page - Initial': 'Hazard Insurance',\n",
    " 'Hazard Insurance Dec Page - Insufficient Coverage': 'Hazard Insurance',\n",
    " 'Hazard Insurance Declaration': 'Hazard Insurance',\n",
    " 'Insurance - Cost Estimator': 'Hazard Insurance',\n",
    " 'Insurance - Hazard Checklist': 'Hazard Insurance',\n",
    " 'Insurance - Proof Paid': 'Hazard Insurance',\n",
    " 'Insurance Dec Page, Other': 'Hazard Insurance',\n",
    " 'Insurance Document - Other': 'Hazard Insurance',\n",
    " 'Investment Account Statements': 'Retirement Account Statement(s)',\n",
    " 'Mortgage Statement': 'Mortgage Statement',\n",
    " 'Mortgage Statement of Inspection of Subject Property': 'Mortgage Statement',\n",
    " 'Mortgage Statement/Coupon, 1st': 'Mortgage Statement',\n",
    " 'Mortgage Statement/Coupon, 2nd': 'Mortgage Statement',\n",
    " 'Other Property 1st Mtg Stmt': 'Mortgage Statement',\n",
    " 'Other Property 2nd Mtg Stmt': 'Mortgage Statement',\n",
    " 'Purchase Agreement': 'Purchase Agreement',\n",
    " 'Purchase Agreement Addendum': 'Purchase Agreement',\n",
    " 'Purchase Document Other': 'Purchase Agreement',\n",
    " 'Rental Agreements(s)': 'Rental Agreements(s)',\n",
    " 'Retirement Account Statement(s)': 'Retirement Account Statement(s)',\n",
    " 'Sales Checklist': 'Purchase Agreement',\n",
    " 'Sales Contract and Addendums': 'Purchase Agreement',\n",
    " 'Sales Contract/Purchase Agreement': 'Purchase Agreement',\n",
    " 'Sales Forms': 'Purchase Agreement',\n",
    " 'Sales Stips': 'Purchase Agreement',\n",
    " 'Divorce Decree / Child Support': 'Divorce Decree / Child Support'}"
   ]
  },
  {
   "cell_type": "code",
   "execution_count": null,
   "id": "3a3e9022",
   "metadata": {},
   "outputs": [],
   "source": [
    "ld_data['category'] = ld_data['category'].replace(mappings)\n",
    "ld_data['category'].value_counts()"
   ]
  },
  {
   "cell_type": "code",
   "execution_count": null,
   "id": "a190c079",
   "metadata": {},
   "outputs": [],
   "source": [
    "nmic_data['category'] = nmic_data['category'].replace(mappings)\n",
    "nmic_data['category'].value_counts()"
   ]
  },
  {
   "cell_type": "code",
   "execution_count": null,
   "id": "69f119cb",
   "metadata": {},
   "outputs": [],
   "source": [
    "n = ld_data[ld_data['category']=='Tax Return - Personal'].index.tolist()\n",
    "ld_data.drop(index= random.sample(n, 60000), inplace=True)\n",
    "ld_data['category'].value_counts()"
   ]
  },
  {
   "cell_type": "code",
   "execution_count": null,
   "id": "f217dedc",
   "metadata": {},
   "outputs": [],
   "source": [
    "ld_data['token'] = ld_data['text'].swifter.apply(tokenizeText)"
   ]
  },
  {
   "cell_type": "code",
   "execution_count": null,
   "id": "22dd683a",
   "metadata": {},
   "outputs": [],
   "source": [
    "ld_data.to_csv('./ld_tokens.csv', header=True, index=False)"
   ]
  },
  {
   "cell_type": "code",
   "execution_count": null,
   "id": "ba2a4164",
   "metadata": {},
   "outputs": [],
   "source": [
    "nmic_data['token'] = nmic_data['text'].swifter.apply(tokenizeText)"
   ]
  },
  {
   "cell_type": "code",
   "execution_count": null,
   "id": "e91d64e6",
   "metadata": {},
   "outputs": [],
   "source": [
    "nmic_data.to_csv('./nmic_tokens.csv', header=True, index=False)"
   ]
  },
  {
   "cell_type": "code",
   "execution_count": null,
   "id": "2efc6dfd",
   "metadata": {},
   "outputs": [],
   "source": []
  },
  {
   "cell_type": "code",
   "execution_count": null,
   "id": "4493e070",
   "metadata": {},
   "outputs": [],
   "source": []
  },
  {
   "cell_type": "code",
   "execution_count": 321,
   "id": "b379fd41",
   "metadata": {},
   "outputs": [
    {
     "name": "stdout",
     "output_type": "stream",
     "text": [
      "(143628, 10)\n"
     ]
    },
    {
     "name": "stderr",
     "output_type": "stream",
     "text": [
      "/tmp/ipykernel_16631/975678988.py:1: DtypeWarning: Columns (6) have mixed types. Specify dtype option on import or set low_memory=False.\n",
      "  ld = pd.read_csv('./ld_tokens.csv')\n"
     ]
    },
    {
     "data": {
      "text/html": [
       "<div>\n",
       "<style scoped>\n",
       "    .dataframe tbody tr th:only-of-type {\n",
       "        vertical-align: middle;\n",
       "    }\n",
       "\n",
       "    .dataframe tbody tr th {\n",
       "        vertical-align: top;\n",
       "    }\n",
       "\n",
       "    .dataframe thead th {\n",
       "        text-align: right;\n",
       "    }\n",
       "</style>\n",
       "<table border=\"1\" class=\"dataframe\">\n",
       "  <thead>\n",
       "    <tr style=\"text-align: right;\">\n",
       "      <th></th>\n",
       "      <th>ADR</th>\n",
       "      <th>text</th>\n",
       "      <th>category</th>\n",
       "      <th>type</th>\n",
       "      <th>date</th>\n",
       "      <th>org/aug</th>\n",
       "      <th>page#</th>\n",
       "      <th>angle</th>\n",
       "      <th>renamed category</th>\n",
       "      <th>token</th>\n",
       "    </tr>\n",
       "  </thead>\n",
       "  <tbody>\n",
       "    <tr>\n",
       "      <th>0</th>\n",
       "      <td>ADR-2022-100004473184</td>\n",
       "      <td>loanDepot Branch: 102 - Cerritos Branch - Cer...</td>\n",
       "      <td>Setup Submission Form</td>\n",
       "      <td>LD</td>\n",
       "      <td>20220722123724</td>\n",
       "      <td>org</td>\n",
       "      <td>1</td>\n",
       "      <td>0.0</td>\n",
       "      <td>No</td>\n",
       "      <td>loandepot branch cerritos branch cerritos nmls...</td>\n",
       "    </tr>\n",
       "  </tbody>\n",
       "</table>\n",
       "</div>"
      ],
      "text/plain": [
       "                     ADR                                               text  \\\n",
       "0  ADR-2022-100004473184   loanDepot Branch: 102 - Cerritos Branch - Cer...   \n",
       "\n",
       "                category type            date org/aug page#  angle  \\\n",
       "0  Setup Submission Form   LD  20220722123724     org     1    0.0   \n",
       "\n",
       "  renamed category                                              token  \n",
       "0               No  loandepot branch cerritos branch cerritos nmls...  "
      ]
     },
     "execution_count": 321,
     "metadata": {},
     "output_type": "execute_result"
    }
   ],
   "source": [
    "ld = pd.read_csv('./ld_tokens.csv')\n",
    "del ld['gensim token']\n",
    "del ld['new_category']\n",
    "print(ld.shape)\n",
    "ld.head(1)"
   ]
  },
  {
   "cell_type": "code",
   "execution_count": 322,
   "id": "ee4e2e11",
   "metadata": {},
   "outputs": [
    {
     "name": "stdout",
     "output_type": "stream",
     "text": [
      "(34773, 10)\n"
     ]
    },
    {
     "data": {
      "text/html": [
       "<div>\n",
       "<style scoped>\n",
       "    .dataframe tbody tr th:only-of-type {\n",
       "        vertical-align: middle;\n",
       "    }\n",
       "\n",
       "    .dataframe tbody tr th {\n",
       "        vertical-align: top;\n",
       "    }\n",
       "\n",
       "    .dataframe thead th {\n",
       "        text-align: right;\n",
       "    }\n",
       "</style>\n",
       "<table border=\"1\" class=\"dataframe\">\n",
       "  <thead>\n",
       "    <tr style=\"text-align: right;\">\n",
       "      <th></th>\n",
       "      <th>ADR</th>\n",
       "      <th>text</th>\n",
       "      <th>category</th>\n",
       "      <th>type</th>\n",
       "      <th>date</th>\n",
       "      <th>org/aug</th>\n",
       "      <th>page#</th>\n",
       "      <th>angle</th>\n",
       "      <th>renamed category</th>\n",
       "      <th>token</th>\n",
       "    </tr>\n",
       "  </thead>\n",
       "  <tbody>\n",
       "    <tr>\n",
       "      <th>0</th>\n",
       "      <td>ADR-2022-200000368860</td>\n",
       "      <td>Move In Worksheet Use this worksheet when ent...</td>\n",
       "      <td>Rental Agreements(s)</td>\n",
       "      <td>NMIC</td>\n",
       "      <td>20220722194504</td>\n",
       "      <td>org</td>\n",
       "      <td>134</td>\n",
       "      <td>0.0</td>\n",
       "      <td>No</td>\n",
       "      <td>move worksheet use worksheet enter move lease ...</td>\n",
       "    </tr>\n",
       "  </tbody>\n",
       "</table>\n",
       "</div>"
      ],
      "text/plain": [
       "                     ADR                                               text  \\\n",
       "0  ADR-2022-200000368860   Move In Worksheet Use this worksheet when ent...   \n",
       "\n",
       "               category  type            date org/aug  page#  angle  \\\n",
       "0  Rental Agreements(s)  NMIC  20220722194504     org    134    0.0   \n",
       "\n",
       "  renamed category                                              token  \n",
       "0               No  move worksheet use worksheet enter move lease ...  "
      ]
     },
     "execution_count": 322,
     "metadata": {},
     "output_type": "execute_result"
    }
   ],
   "source": [
    "nmic = pd.read_csv('./nmic_tokens.csv')\n",
    "print(nmic.shape)\n",
    "nmic.head(1)"
   ]
  },
  {
   "cell_type": "code",
   "execution_count": 323,
   "id": "7c19566c",
   "metadata": {},
   "outputs": [
    {
     "data": {
      "text/html": [
       "<div>\n",
       "<style scoped>\n",
       "    .dataframe tbody tr th:only-of-type {\n",
       "        vertical-align: middle;\n",
       "    }\n",
       "\n",
       "    .dataframe tbody tr th {\n",
       "        vertical-align: top;\n",
       "    }\n",
       "\n",
       "    .dataframe thead th {\n",
       "        text-align: right;\n",
       "    }\n",
       "</style>\n",
       "<table border=\"1\" class=\"dataframe\">\n",
       "  <thead>\n",
       "    <tr style=\"text-align: right;\">\n",
       "      <th></th>\n",
       "      <th>ADR</th>\n",
       "      <th>text</th>\n",
       "      <th>category</th>\n",
       "      <th>type</th>\n",
       "      <th>date</th>\n",
       "      <th>org/aug</th>\n",
       "      <th>page#</th>\n",
       "      <th>angle</th>\n",
       "      <th>renamed category</th>\n",
       "      <th>token</th>\n",
       "    </tr>\n",
       "  </thead>\n",
       "  <tbody>\n",
       "    <tr>\n",
       "      <th>0</th>\n",
       "      <td>ADR-2022-100004473184</td>\n",
       "      <td>loanDepot Branch: 102 - Cerritos Branch - Cer...</td>\n",
       "      <td>Setup Submission Form</td>\n",
       "      <td>LD</td>\n",
       "      <td>20220722123724</td>\n",
       "      <td>org</td>\n",
       "      <td>1</td>\n",
       "      <td>0.0</td>\n",
       "      <td>No</td>\n",
       "      <td>loandepot branch cerritos branch cerritos nmls...</td>\n",
       "    </tr>\n",
       "  </tbody>\n",
       "</table>\n",
       "</div>"
      ],
      "text/plain": [
       "                     ADR                                               text  \\\n",
       "0  ADR-2022-100004473184   loanDepot Branch: 102 - Cerritos Branch - Cer...   \n",
       "\n",
       "                category type            date org/aug page#  angle  \\\n",
       "0  Setup Submission Form   LD  20220722123724     org     1    0.0   \n",
       "\n",
       "  renamed category                                              token  \n",
       "0               No  loandepot branch cerritos branch cerritos nmls...  "
      ]
     },
     "execution_count": 323,
     "metadata": {},
     "output_type": "execute_result"
    }
   ],
   "source": [
    "df = pd.concat([ld,nmic])\n",
    "#df= ld\n",
    "df.head(1)"
   ]
  },
  {
   "cell_type": "code",
   "execution_count": 324,
   "id": "e227ebdf",
   "metadata": {},
   "outputs": [
    {
     "data": {
      "text/plain": [
       "(178401, 10)"
      ]
     },
     "execution_count": 324,
     "metadata": {},
     "output_type": "execute_result"
    }
   ],
   "source": [
    "df.shape"
   ]
  },
  {
   "cell_type": "code",
   "execution_count": 325,
   "id": "e542cc0a",
   "metadata": {},
   "outputs": [
    {
     "data": {
      "text/plain": [
       "ADR                    0\n",
       "text                 976\n",
       "category               0\n",
       "type                   0\n",
       "date                   0\n",
       "org/aug                0\n",
       "page#                  0\n",
       "angle                  7\n",
       "renamed category    5404\n",
       "token               1423\n",
       "dtype: int64"
      ]
     },
     "execution_count": 325,
     "metadata": {},
     "output_type": "execute_result"
    }
   ],
   "source": [
    "df.isnull().sum()"
   ]
  },
  {
   "cell_type": "code",
   "execution_count": 326,
   "id": "83ac2737",
   "metadata": {},
   "outputs": [
    {
     "data": {
      "text/plain": [
       "ADR                    0\n",
       "text                   0\n",
       "category               0\n",
       "type                   0\n",
       "date                   0\n",
       "org/aug                0\n",
       "page#                  0\n",
       "angle                  0\n",
       "renamed category    5184\n",
       "token                  0\n",
       "dtype: int64"
      ]
     },
     "execution_count": 326,
     "metadata": {},
     "output_type": "execute_result"
    }
   ],
   "source": [
    "df.dropna(subset= ['token'], inplace=True)\n",
    "df.isnull().sum()"
   ]
  },
  {
   "cell_type": "code",
   "execution_count": 327,
   "id": "8b666e5b",
   "metadata": {},
   "outputs": [],
   "source": [
    "from sentence_transformers import SentenceTransformer\n",
    "sentence_model = SentenceTransformer('all-MiniLM-L6-v2')"
   ]
  },
  {
   "cell_type": "code",
   "execution_count": 328,
   "id": "de16edd7",
   "metadata": {},
   "outputs": [],
   "source": [
    "sentences = df['text'].values\n",
    "embeddings = sentence_model.encode(sentences)"
   ]
  },
  {
   "cell_type": "code",
   "execution_count": 329,
   "id": "50c1701d",
   "metadata": {},
   "outputs": [
    {
     "data": {
      "text/html": [
       "<div>\n",
       "<style scoped>\n",
       "    .dataframe tbody tr th:only-of-type {\n",
       "        vertical-align: middle;\n",
       "    }\n",
       "\n",
       "    .dataframe tbody tr th {\n",
       "        vertical-align: top;\n",
       "    }\n",
       "\n",
       "    .dataframe thead th {\n",
       "        text-align: right;\n",
       "    }\n",
       "</style>\n",
       "<table border=\"1\" class=\"dataframe\">\n",
       "  <thead>\n",
       "    <tr style=\"text-align: right;\">\n",
       "      <th></th>\n",
       "      <th>ADR</th>\n",
       "      <th>text</th>\n",
       "      <th>category</th>\n",
       "      <th>type</th>\n",
       "      <th>date</th>\n",
       "      <th>org/aug</th>\n",
       "      <th>page#</th>\n",
       "      <th>angle</th>\n",
       "      <th>renamed category</th>\n",
       "      <th>token</th>\n",
       "      <th>sent_embeddings</th>\n",
       "    </tr>\n",
       "  </thead>\n",
       "  <tbody>\n",
       "    <tr>\n",
       "      <th>0</th>\n",
       "      <td>ADR-2022-100004473184</td>\n",
       "      <td>loanDepot Branch: 102 - Cerritos Branch - Cer...</td>\n",
       "      <td>Setup Submission Form</td>\n",
       "      <td>LD</td>\n",
       "      <td>20220722123724</td>\n",
       "      <td>org</td>\n",
       "      <td>1</td>\n",
       "      <td>0.0</td>\n",
       "      <td>No</td>\n",
       "      <td>loandepot branch cerritos branch cerritos nmls...</td>\n",
       "      <td>[-0.044310666620731354, 0.05275221914052963, -...</td>\n",
       "    </tr>\n",
       "  </tbody>\n",
       "</table>\n",
       "</div>"
      ],
      "text/plain": [
       "                     ADR                                               text  \\\n",
       "0  ADR-2022-100004473184   loanDepot Branch: 102 - Cerritos Branch - Cer...   \n",
       "\n",
       "                category type            date org/aug page#  angle  \\\n",
       "0  Setup Submission Form   LD  20220722123724     org     1    0.0   \n",
       "\n",
       "  renamed category                                              token  \\\n",
       "0               No  loandepot branch cerritos branch cerritos nmls...   \n",
       "\n",
       "                                     sent_embeddings  \n",
       "0  [-0.044310666620731354, 0.05275221914052963, -...  "
      ]
     },
     "execution_count": 329,
     "metadata": {},
     "output_type": "execute_result"
    }
   ],
   "source": [
    "df['sent_embeddings'] = embeddings.tolist()\n",
    "df.head(1)"
   ]
  },
  {
   "cell_type": "code",
   "execution_count": 330,
   "id": "626643e5",
   "metadata": {},
   "outputs": [
    {
     "data": {
      "text/plain": [
       "(176978, 11)"
      ]
     },
     "execution_count": 330,
     "metadata": {},
     "output_type": "execute_result"
    }
   ],
   "source": [
    "df.shape"
   ]
  },
  {
   "cell_type": "code",
   "execution_count": 331,
   "id": "e8a8eeb3",
   "metadata": {},
   "outputs": [],
   "source": [
    "# sentences = nmic['text'].values\n",
    "# embeddings = sentence_model.encode(sentences)"
   ]
  },
  {
   "cell_type": "code",
   "execution_count": 332,
   "id": "85a783dd",
   "metadata": {},
   "outputs": [],
   "source": [
    "# nmic['sent_embeddings'] = embeddings.tolist()\n",
    "# nmic.head(1)"
   ]
  },
  {
   "cell_type": "code",
   "execution_count": 334,
   "id": "63594f60",
   "metadata": {},
   "outputs": [],
   "source": [
    "#nmic.shape"
   ]
  },
  {
   "cell_type": "code",
   "execution_count": 336,
   "id": "457c4a6b",
   "metadata": {},
   "outputs": [],
   "source": [
    "cats = ['Retirement Account Statement(s)',\n",
    "        'Mortgage Statement',\n",
    "        'Bank Statement',\n",
    "        'Purchase Agreement',\n",
    "        'Rental Agreements(s)',\n",
    "        'Hazard Insurance',\n",
    "        'Divorce Decree / Child Support',\n",
    "        'Bankruptcy Papers']\n",
    "\n",
    "# cats = ['Hazard Insurance',\n",
    "#         'Divorce Decree / Child Support',\n",
    "#         'Bankruptcy Papers']\n",
    "        \n",
    "temp = []      \n",
    "for category in df['category']:\n",
    "    if category not in cats:\n",
    "        temp.append('others')\n",
    "    else:\n",
    "        temp.append('focused')\n",
    "df['new_category'] = temp\n",
    "\n",
    "# temp = []      \n",
    "# for category in nmic['category']:\n",
    "#     if category not in cats:\n",
    "#         temp.append('others')\n",
    "#     else:\n",
    "#         temp.append('focused')\n",
    "# nmic['new_category'] = temp"
   ]
  },
  {
   "cell_type": "code",
   "execution_count": 337,
   "id": "afb8f647",
   "metadata": {},
   "outputs": [],
   "source": [
    "# train = df\n",
    "# train['new_category'].value_counts()"
   ]
  },
  {
   "cell_type": "code",
   "execution_count": 338,
   "id": "c79550de",
   "metadata": {},
   "outputs": [],
   "source": [
    "# test = nmic\n",
    "# test['new_category'].value_counts()"
   ]
  },
  {
   "cell_type": "code",
   "execution_count": 339,
   "id": "1c08c34e",
   "metadata": {},
   "outputs": [
    {
     "data": {
      "text/plain": [
       "(141582, 12)"
      ]
     },
     "execution_count": 339,
     "metadata": {},
     "output_type": "execute_result"
    }
   ],
   "source": [
    "train = df.sample(frac=0.80, random_state=200)\n",
    "train.shape"
   ]
  },
  {
   "cell_type": "code",
   "execution_count": 340,
   "id": "9db17872",
   "metadata": {},
   "outputs": [
    {
     "data": {
      "text/plain": [
       "(24321, 12)"
      ]
     },
     "execution_count": 340,
     "metadata": {},
     "output_type": "execute_result"
    }
   ],
   "source": [
    "test = df.drop(train.index).reset_index(drop=True)\n",
    "test.shape"
   ]
  },
  {
   "cell_type": "code",
   "execution_count": 341,
   "id": "3afbb8a3",
   "metadata": {},
   "outputs": [
    {
     "data": {
      "text/plain": [
       "others     79979\n",
       "focused    61603\n",
       "Name: new_category, dtype: int64"
      ]
     },
     "execution_count": 341,
     "metadata": {},
     "output_type": "execute_result"
    }
   ],
   "source": [
    "train['new_category'].value_counts()"
   ]
  },
  {
   "cell_type": "code",
   "execution_count": 342,
   "id": "f6d87a2b",
   "metadata": {},
   "outputs": [
    {
     "data": {
      "text/plain": [
       "others     13750\n",
       "focused    10571\n",
       "Name: new_category, dtype: int64"
      ]
     },
     "execution_count": 342,
     "metadata": {},
     "output_type": "execute_result"
    }
   ],
   "source": [
    "test['new_category'].value_counts()"
   ]
  },
  {
   "cell_type": "code",
   "execution_count": 343,
   "id": "98986480",
   "metadata": {},
   "outputs": [],
   "source": [
    "from sklearn.linear_model import (RidgeClassifier,\n",
    "                                  Ridge,\n",
    "                                  SGDClassifier,\n",
    "                                 LogisticRegression)\n",
    "from sklearn.neighbors import KNeighborsClassifier, LocalOutlierFactor\n",
    "from sklearn.ensemble import (AdaBoostClassifier,\n",
    "                              ExtraTreesClassifier,\n",
    "                              RandomForestClassifier,\n",
    "                              GradientBoostingClassifier,\n",
    "                              BaggingClassifier)\n",
    "from sklearn.tree import DecisionTreeClassifier\n",
    "from sklearn.svm import SVC\n",
    "from xgboost import XGBClassifier\n",
    "from sklearn.naive_bayes import BernoulliNB\n",
    "from sklearn.multiclass import OneVsRestClassifier\n",
    "from sklearn.metrics import roc_curve, auc\n",
    "from sklearn.preprocessing import label_binarize\n",
    "import matplotlib.pyplot as plt"
   ]
  },
  {
   "cell_type": "code",
   "execution_count": 344,
   "id": "0b5efde7",
   "metadata": {},
   "outputs": [],
   "source": [
    "# models = [('Logistic_Classifier',LogisticRegression()),\n",
    "#           ('KNN_Classifier',KNeighborsClassifier()),\n",
    "#           ('DecisionTree_Classifier', DecisionTreeClassifier()),\n",
    "#           ('RandomForest_Classifier', RandomForestClassifier()),\n",
    "#           ('GradientBoosting_Classifier', GradientBoostingClassifier()),\n",
    "#           ('Bagging_Classifier', BaggingClassifier()),\n",
    "#           ('XGBClassifier', XGBClassifier())]"
   ]
  },
  {
   "cell_type": "code",
   "execution_count": 345,
   "id": "1249b251",
   "metadata": {},
   "outputs": [
    {
     "data": {
      "text/plain": [
       "(array([0, 1]), array([79979, 61603]))"
      ]
     },
     "execution_count": 345,
     "metadata": {},
     "output_type": "execute_result"
    }
   ],
   "source": [
    "actual_train = train['new_category'].replace({'others': 0, 'focused':1}).values\n",
    "np.unique(actual_train, return_counts=True)"
   ]
  },
  {
   "cell_type": "code",
   "execution_count": 346,
   "id": "f47da12a",
   "metadata": {},
   "outputs": [
    {
     "data": {
      "text/plain": [
       "(array([0, 1]), array([13750, 10571]))"
      ]
     },
     "execution_count": 346,
     "metadata": {},
     "output_type": "execute_result"
    }
   ],
   "source": [
    "actual_test = test['new_category'].replace({'others': 0, 'focused':1}).values\n",
    "np.unique(actual_test, return_counts=True)"
   ]
  },
  {
   "cell_type": "code",
   "execution_count": 347,
   "id": "b6c9ec2c",
   "metadata": {},
   "outputs": [],
   "source": [
    "# for i, j in models:\n",
    "#     j.fit(train['sent_embeddings'].values.tolist(), actual_train)\n",
    "#     ypred = j.predict(test['sent_embeddings'].values.tolist())\n",
    "#     print(i, \n",
    "#           ': f1-> ', np.round(f1_score(actual_test, ypred),2), \n",
    "#           ', Accuracy-> ', np.round(accuracy_score(actual_test, ypred),2),\n",
    "#           ', ROC_AUC-> ', np.round(roc_auc_score(actual_test, \n",
    "#                                                  j.predict_proba(np.round(test['sent_embeddings'].values.tolist(),2))[:,0]),2))"
   ]
  },
  {
   "cell_type": "markdown",
   "id": "e235e367",
   "metadata": {},
   "source": [
    "### ExtratreeClassifier"
   ]
  },
  {
   "cell_type": "code",
   "execution_count": 559,
   "id": "c61e0efe",
   "metadata": {},
   "outputs": [
    {
     "name": "stdout",
     "output_type": "stream",
     "text": [
      "              precision    recall  f1-score   support\n",
      "\n",
      "           0       0.94      0.82      0.88     79979\n",
      "           1       0.80      0.94      0.86     61603\n",
      "\n",
      "    accuracy                           0.87    141582\n",
      "   macro avg       0.87      0.88      0.87    141582\n",
      "weighted avg       0.88      0.87      0.87    141582\n",
      "\n"
     ]
    }
   ],
   "source": [
    "model = ExtraTreesClassifier(n_estimators=500, ccp_alpha=0.004, max_features='log2', class_weight='balanced')\n",
    "model.fit(train['sent_embeddings'].values.tolist(), actual_train)\n",
    "predicted = model.predict(train['sent_embeddings'].values.tolist())\n",
    "print(classification_report(actual_train, predicted))"
   ]
  },
  {
   "cell_type": "code",
   "execution_count": 560,
   "id": "81e400b4",
   "metadata": {},
   "outputs": [
    {
     "name": "stdout",
     "output_type": "stream",
     "text": [
      "              precision    recall  f1-score   support\n",
      "\n",
      "           0       0.95      0.89      0.92     13750\n",
      "           1       0.87      0.94      0.90     10571\n",
      "\n",
      "    accuracy                           0.91     24321\n",
      "   macro avg       0.91      0.91      0.91     24321\n",
      "weighted avg       0.91      0.91      0.91     24321\n",
      "\n"
     ]
    }
   ],
   "source": [
    "predicted = model.predict(test['sent_embeddings'].values.tolist())\n",
    "print(classification_report(actual_test, predicted))"
   ]
  },
  {
   "cell_type": "code",
   "execution_count": 561,
   "id": "fef8d519",
   "metadata": {},
   "outputs": [
    {
     "data": {
      "text/plain": [
       "0.9098310102380659"
      ]
     },
     "execution_count": 561,
     "metadata": {},
     "output_type": "execute_result"
    }
   ],
   "source": [
    "accuracy_score(actual_test, predicted)"
   ]
  },
  {
   "cell_type": "code",
   "execution_count": 562,
   "id": "e8391acf",
   "metadata": {},
   "outputs": [
    {
     "data": {
      "text/plain": [
       "0.9002955217094796"
      ]
     },
     "execution_count": 562,
     "metadata": {},
     "output_type": "execute_result"
    }
   ],
   "source": [
    "f1_score(actual_test, predicted)"
   ]
  },
  {
   "cell_type": "code",
   "execution_count": 563,
   "id": "4049bb6e",
   "metadata": {},
   "outputs": [
    {
     "data": {
      "text/plain": [
       "0.029124221497923132"
      ]
     },
     "execution_count": 563,
     "metadata": {},
     "output_type": "execute_result"
    }
   ],
   "source": [
    "roc_auc_score(actual_test, model.predict_proba(np.round(test['sent_embeddings'].values.tolist(),2))[:,0])"
   ]
  },
  {
   "cell_type": "code",
   "execution_count": 564,
   "id": "d5fd8499",
   "metadata": {},
   "outputs": [
    {
     "data": {
      "text/plain": [
       "0.9708757785020768"
      ]
     },
     "execution_count": 564,
     "metadata": {},
     "output_type": "execute_result"
    }
   ],
   "source": [
    "roc_auc_score(actual_test, model.predict_proba(np.round(test['sent_embeddings'].values.tolist(),2))[:,1])"
   ]
  },
  {
   "cell_type": "markdown",
   "id": "36820afc",
   "metadata": {},
   "source": [
    "### DecisionTree"
   ]
  },
  {
   "cell_type": "code",
   "execution_count": 156,
   "id": "2a19b5f4",
   "metadata": {},
   "outputs": [],
   "source": [
    "model = DecisionTreeClassifier()\n",
    "model.fit(train['sent_embeddings'].values.tolist(), actual_train)\n",
    "predicted = model.predict(train['sent_embeddings'].values.tolist())"
   ]
  },
  {
   "cell_type": "code",
   "execution_count": 157,
   "id": "d19eac1e",
   "metadata": {},
   "outputs": [
    {
     "name": "stdout",
     "output_type": "stream",
     "text": [
      "              precision    recall  f1-score   support\n",
      "\n",
      "           0       1.00      1.00      1.00     79822\n",
      "           1       1.00      1.00      1.00     61760\n",
      "\n",
      "    accuracy                           1.00    141582\n",
      "   macro avg       1.00      1.00      1.00    141582\n",
      "weighted avg       1.00      1.00      1.00    141582\n",
      "\n"
     ]
    }
   ],
   "source": [
    "print(classification_report(actual_train, predicted))"
   ]
  },
  {
   "cell_type": "code",
   "execution_count": 158,
   "id": "41888b63",
   "metadata": {},
   "outputs": [
    {
     "name": "stdout",
     "output_type": "stream",
     "text": [
      "              precision    recall  f1-score   support\n",
      "\n",
      "           0       0.96      0.96      0.96     13919\n",
      "           1       0.95      0.94      0.95     10397\n",
      "\n",
      "    accuracy                           0.96     24316\n",
      "   macro avg       0.96      0.95      0.95     24316\n",
      "weighted avg       0.96      0.96      0.96     24316\n",
      "\n"
     ]
    }
   ],
   "source": [
    "predicted = model.predict(test['sent_embeddings'].values.tolist())\n",
    "print(classification_report(actual_test, predicted))"
   ]
  },
  {
   "cell_type": "code",
   "execution_count": 159,
   "id": "49180a7f",
   "metadata": {},
   "outputs": [
    {
     "data": {
      "text/plain": [
       "0.9554202993913473"
      ]
     },
     "execution_count": 159,
     "metadata": {},
     "output_type": "execute_result"
    }
   ],
   "source": [
    "accuracy_score(actual_test, predicted)"
   ]
  },
  {
   "cell_type": "code",
   "execution_count": 160,
   "id": "32dd16e9",
   "metadata": {},
   "outputs": [
    {
     "data": {
      "text/plain": [
       "0.9476024748646558"
      ]
     },
     "execution_count": 160,
     "metadata": {},
     "output_type": "execute_result"
    }
   ],
   "source": [
    "f1_score(actual_test, predicted)"
   ]
  },
  {
   "cell_type": "code",
   "execution_count": 161,
   "id": "2337e734",
   "metadata": {},
   "outputs": [
    {
     "data": {
      "text/plain": [
       "0.9356085014133525"
      ]
     },
     "execution_count": 161,
     "metadata": {},
     "output_type": "execute_result"
    }
   ],
   "source": [
    "auc= roc_auc_score(actual_test, model.predict_proba(np.round(test['sent_embeddings'].values.tolist(),2))[:,1])\n",
    "auc"
   ]
  },
  {
   "cell_type": "code",
   "execution_count": 162,
   "id": "45732b04",
   "metadata": {},
   "outputs": [],
   "source": [
    "path = model.cost_complexity_pruning_path(train['sent_embeddings'].values.tolist(), actual_train)\n",
    "ccp_alphas, impurities = path.ccp_alphas, path.impurities"
   ]
  },
  {
   "cell_type": "code",
   "execution_count": 163,
   "id": "2f33daf0",
   "metadata": {},
   "outputs": [
    {
     "data": {
      "text/plain": [
       "Text(0.5, 1.0, 'Total Impurity vs effective alpha for training set')"
      ]
     },
     "execution_count": 163,
     "metadata": {},
     "output_type": "execute_result"
    },
    {
     "data": {
      "image/png": "[encoded data removed]",
      "text/plain": [
       "<Figure size 432x288 with 1 Axes>"
      ]
     },
     "metadata": {
      "needs_background": "light"
     },
     "output_type": "display_data"
    }
   ],
   "source": [
    "fig, ax = plt.subplots()\n",
    "ax.plot(ccp_alphas[:-1], impurities[:-1], marker=\"o\", drawstyle=\"steps-post\")\n",
    "ax.set_xlabel(\"effective alpha\")\n",
    "ax.set_ylabel(\"total impurity of leaves\")\n",
    "ax.set_title(\"Total Impurity vs effective alpha for training set\")"
   ]
  },
  {
   "cell_type": "code",
   "execution_count": 164,
   "id": "6fb11b05",
   "metadata": {},
   "outputs": [
    {
     "data": {
      "text/plain": [
       "array([0.   , 0.001, 0.002, 0.003, 0.004, 0.005, 0.007, 0.01 , 0.017,\n",
       "       0.024, 0.039, 0.094])"
      ]
     },
     "execution_count": 164,
     "metadata": {},
     "output_type": "execute_result"
    }
   ],
   "source": [
    "temp = []\n",
    "for i in ccp_alphas:\n",
    "    temp.append(np.round(i,3))\n",
    "np.unique(temp)"
   ]
  },
  {
   "cell_type": "code",
   "execution_count": 165,
   "id": "86c2df3c",
   "metadata": {},
   "outputs": [
    {
     "data": {
      "text/plain": [
       "12"
      ]
     },
     "execution_count": 165,
     "metadata": {},
     "output_type": "execute_result"
    }
   ],
   "source": [
    "len(np.unique(temp))"
   ]
  },
  {
   "cell_type": "code",
   "execution_count": 166,
   "id": "016503f4",
   "metadata": {},
   "outputs": [],
   "source": [
    "clfs = []\n",
    "for ccp_alpha in np.unique(temp):\n",
    "    clf = DecisionTreeClassifier(random_state=0, ccp_alpha=ccp_alpha)\n",
    "    clf.fit(train['sent_embeddings'].values.tolist(), actual_train)\n",
    "    clfs.append(clf)"
   ]
  },
  {
   "cell_type": "code",
   "execution_count": 176,
   "id": "7f3ddff5",
   "metadata": {},
   "outputs": [],
   "source": [
    "# train_scores = [clf.score(train['sent_embeddings'].values.tolist(), actual_train) for clf in clfs]\n",
    "# test_scores = [clf.score(test['sent_embeddings'].values.tolist(), actual_test) for clf in clfs]"
   ]
  },
  {
   "cell_type": "code",
   "execution_count": 226,
   "id": "2d602948",
   "metadata": {},
   "outputs": [],
   "source": [
    "train_scores = [f1_score(actual_train, clf.predict(train['sent_embeddings'].values.tolist())) for clf in clfs]\n",
    "test_scores = [f1_score(actual_test, clf.predict(test['sent_embeddings'].values.tolist())) for clf in clfs]"
   ]
  },
  {
   "cell_type": "code",
   "execution_count": 237,
   "id": "64c90905",
   "metadata": {},
   "outputs": [
    {
     "data": {
      "image/png": "[encoded data removed]",
      "text/plain": [
       "<Figure size 1080x576 with 1 Axes>"
      ]
     },
     "metadata": {
      "needs_background": "light"
     },
     "output_type": "display_data"
    }
   ],
   "source": [
    "fig, ax = plt.subplots(figsize=(15, 8))\n",
    "ax.set_xlabel(\"alpha\")\n",
    "ax.set_ylabel(\"accuracy\")\n",
    "ax.set_title(\"Accuracy vs alpha for training and testing sets\")\n",
    "ax.plot(np.unique(temp), train_scores, marker=\"o\", label=\"train\", drawstyle=\"steps-post\")\n",
    "ax.plot(np.unique(temp), test_scores, marker=\"o\", label=\"test\", drawstyle=\"steps-post\")\n",
    "ax.legend()\n",
    "plt.show()"
   ]
  },
  {
   "cell_type": "code",
   "execution_count": 250,
   "id": "ec477f85",
   "metadata": {},
   "outputs": [],
   "source": [
    "model = DecisionTreeClassifier(ccp_alpha=0.004)\n",
    "model.fit(train['sent_embeddings'].values.tolist(), actual_train)\n",
    "predicted = model.predict(train['sent_embeddings'].values.tolist())"
   ]
  },
  {
   "cell_type": "code",
   "execution_count": 251,
   "id": "8e99e5b7",
   "metadata": {},
   "outputs": [
    {
     "name": "stdout",
     "output_type": "stream",
     "text": [
      "              precision    recall  f1-score   support\n",
      "\n",
      "           0       0.88      0.74      0.81     79822\n",
      "           1       0.72      0.87      0.79     61760\n",
      "\n",
      "    accuracy                           0.80    141582\n",
      "   macro avg       0.80      0.81      0.80    141582\n",
      "weighted avg       0.81      0.80      0.80    141582\n",
      "\n"
     ]
    }
   ],
   "source": [
    "print(classification_report(actual_train, predicted))"
   ]
  },
  {
   "cell_type": "code",
   "execution_count": 252,
   "id": "2ba3d57f",
   "metadata": {},
   "outputs": [
    {
     "name": "stdout",
     "output_type": "stream",
     "text": [
      "              precision    recall  f1-score   support\n",
      "\n",
      "           0       0.89      0.79      0.84     13919\n",
      "           1       0.75      0.87      0.81     10397\n",
      "\n",
      "    accuracy                           0.82     24316\n",
      "   macro avg       0.82      0.83      0.82     24316\n",
      "weighted avg       0.83      0.82      0.82     24316\n",
      "\n"
     ]
    }
   ],
   "source": [
    "predicted = model.predict(test['sent_embeddings'].values.tolist())\n",
    "print(classification_report(actual_test, predicted))"
   ]
  },
  {
   "cell_type": "code",
   "execution_count": 253,
   "id": "7ee5c41a",
   "metadata": {},
   "outputs": [
    {
     "data": {
      "text/plain": [
       "0.8229560783023524"
      ]
     },
     "execution_count": 253,
     "metadata": {},
     "output_type": "execute_result"
    }
   ],
   "source": [
    "accuracy_score(actual_test, predicted)"
   ]
  },
  {
   "cell_type": "code",
   "execution_count": 254,
   "id": "a0aa6611",
   "metadata": {},
   "outputs": [
    {
     "data": {
      "text/plain": [
       "0.8078382359505424"
      ]
     },
     "execution_count": 254,
     "metadata": {},
     "output_type": "execute_result"
    }
   ],
   "source": [
    "f1_score(actual_test, predicted)"
   ]
  },
  {
   "cell_type": "code",
   "execution_count": 255,
   "id": "e1eabb07",
   "metadata": {},
   "outputs": [
    {
     "data": {
      "text/plain": [
       "0.10680849573601973"
      ]
     },
     "execution_count": 255,
     "metadata": {},
     "output_type": "execute_result"
    }
   ],
   "source": [
    "roc_auc_score(actual_test, model.predict_proba(np.round(test['sent_embeddings'].values.tolist(),2))[:,0])"
   ]
  },
  {
   "cell_type": "code",
   "execution_count": 263,
   "id": "0d5401c5",
   "metadata": {},
   "outputs": [
    {
     "data": {
      "text/plain": [
       "['./model_other/decision_tree/model.pkl']"
      ]
     },
     "execution_count": 263,
     "metadata": {},
     "output_type": "execute_result"
    }
   ],
   "source": [
    "import joblib\n",
    "joblib.dump(model, './model_other/decision_tree/model.pkl')"
   ]
  },
  {
   "cell_type": "code",
   "execution_count": 488,
   "id": "feb2bbf6",
   "metadata": {},
   "outputs": [],
   "source": [
    "md = joblib.load('./model_other/decision_tree/model.pkl')"
   ]
  },
  {
   "cell_type": "code",
   "execution_count": null,
   "id": "42f6cc87",
   "metadata": {},
   "outputs": [],
   "source": []
  },
  {
   "cell_type": "code",
   "execution_count": null,
   "id": "f5484987",
   "metadata": {},
   "outputs": [],
   "source": []
  },
  {
   "cell_type": "code",
   "execution_count": null,
   "id": "865ce28e",
   "metadata": {},
   "outputs": [],
   "source": []
  },
  {
   "cell_type": "code",
   "execution_count": null,
   "id": "75361246",
   "metadata": {},
   "outputs": [],
   "source": []
  },
  {
   "cell_type": "code",
   "execution_count": null,
   "id": "bdd3d4a1",
   "metadata": {},
   "outputs": [],
   "source": []
  },
  {
   "cell_type": "code",
   "execution_count": null,
   "id": "63bb4f61",
   "metadata": {},
   "outputs": [],
   "source": []
  },
  {
   "cell_type": "code",
   "execution_count": null,
   "id": "34fa8f05",
   "metadata": {},
   "outputs": [],
   "source": []
  },
  {
   "cell_type": "code",
   "execution_count": null,
   "id": "ccac96e5",
   "metadata": {},
   "outputs": [],
   "source": []
  },
  {
   "cell_type": "markdown",
   "id": "e9ba6837",
   "metadata": {},
   "source": [
    "### on test data"
   ]
  },
  {
   "cell_type": "code",
   "execution_count": 542,
   "id": "8bc66a5b",
   "metadata": {},
   "outputs": [
    {
     "data": {
      "text/html": [
       "<div>\n",
       "<style scoped>\n",
       "    .dataframe tbody tr th:only-of-type {\n",
       "        vertical-align: middle;\n",
       "    }\n",
       "\n",
       "    .dataframe tbody tr th {\n",
       "        vertical-align: top;\n",
       "    }\n",
       "\n",
       "    .dataframe thead th {\n",
       "        text-align: right;\n",
       "    }\n",
       "</style>\n",
       "<table border=\"1\" class=\"dataframe\">\n",
       "  <thead>\n",
       "    <tr style=\"text-align: right;\">\n",
       "      <th></th>\n",
       "      <th>Ref. No.</th>\n",
       "      <th>Page No.</th>\n",
       "      <th>System Classification (Python Decision)</th>\n",
       "      <th>Actual Classification</th>\n",
       "      <th>Status P/F</th>\n",
       "      <th>Comments</th>\n",
       "      <th>text</th>\n",
       "      <th>angle</th>\n",
       "    </tr>\n",
       "  </thead>\n",
       "  <tbody>\n",
       "    <tr>\n",
       "      <th>0</th>\n",
       "      <td>ADR-2022-200000369155</td>\n",
       "      <td>18</td>\n",
       "      <td>Bank Statement</td>\n",
       "      <td>Hazard Insurance</td>\n",
       "      <td>Fail</td>\n",
       "      <td>NaN</td>\n",
       "      <td>(THIS PAGE INTENTIONALLY LEFT BLANK) 1991 Rev. 6-05 51030-0605 Page 2 of 2 Page 16 of 21</td>\n",
       "      <td>0.0</td>\n",
       "    </tr>\n",
       "  </tbody>\n",
       "</table>\n",
       "</div>"
      ],
      "text/plain": [
       "                Ref. No.  Page No. System Classification (Python Decision)  \\\n",
       "0  ADR-2022-200000369155        18                          Bank Statement   \n",
       "\n",
       "  Actual Classification Status P/F Comments  \\\n",
       "0      Hazard Insurance       Fail      NaN   \n",
       "\n",
       "                                                                                        text  \\\n",
       "0   (THIS PAGE INTENTIONALLY LEFT BLANK) 1991 Rev. 6-05 51030-0605 Page 2 of 2 Page 16 of 21   \n",
       "\n",
       "   angle  \n",
       "0    0.0  "
      ]
     },
     "execution_count": 542,
     "metadata": {},
     "output_type": "execute_result"
    }
   ],
   "source": [
    "global_validate = pd.read_csv('/data/mmortgage/amal_workspace/multi_page_classification_preprocessing/domain_testing/BERT Testing_10.08.2022_Results.csv')\n",
    "global_validate.head(1)"
   ]
  },
  {
   "cell_type": "code",
   "execution_count": 543,
   "id": "87de28ad",
   "metadata": {},
   "outputs": [
    {
     "data": {
      "text/plain": [
       "(3089, 8)"
      ]
     },
     "execution_count": 543,
     "metadata": {},
     "output_type": "execute_result"
    }
   ],
   "source": [
    "global_validate.shape"
   ]
  },
  {
   "cell_type": "code",
   "execution_count": 544,
   "id": "347cf3ea",
   "metadata": {},
   "outputs": [
    {
     "data": {
      "text/plain": [
       "Index(['Ref. No.', 'Page No.', 'System Classification (Python Decision)',\n",
       "       'Actual Classification', 'Status P/F', 'Comments', 'text', 'angle'],\n",
       "      dtype='object')"
      ]
     },
     "execution_count": 544,
     "metadata": {},
     "output_type": "execute_result"
    }
   ],
   "source": [
    "global_validate.columns"
   ]
  },
  {
   "cell_type": "code",
   "execution_count": 530,
   "id": "ef33f444",
   "metadata": {},
   "outputs": [
    {
     "data": {
      "text/html": [
       "<div>\n",
       "<style scoped>\n",
       "    .dataframe tbody tr th:only-of-type {\n",
       "        vertical-align: middle;\n",
       "    }\n",
       "\n",
       "    .dataframe tbody tr th {\n",
       "        vertical-align: top;\n",
       "    }\n",
       "\n",
       "    .dataframe thead th {\n",
       "        text-align: right;\n",
       "    }\n",
       "</style>\n",
       "<table border=\"1\" class=\"dataframe\">\n",
       "  <thead>\n",
       "    <tr style=\"text-align: right;\">\n",
       "      <th></th>\n",
       "      <th>ADR</th>\n",
       "      <th>text</th>\n",
       "      <th>category</th>\n",
       "      <th>type</th>\n",
       "      <th>date</th>\n",
       "      <th>ogr/aug</th>\n",
       "      <th>page#</th>\n",
       "      <th>angle</th>\n",
       "      <th>renamed category</th>\n",
       "    </tr>\n",
       "  </thead>\n",
       "  <tbody>\n",
       "    <tr>\n",
       "      <th>869919</th>\n",
       "      <td>ADR-2022-100004625637</td>\n",
       "      <td>California USA DRIVER LICENSE CLASS C DL E2256650 EXP 11/03/2022 END NONE LN SORENSEN FN JONATHAN WALTER 1006 ASPEN ST SANTA ANA, CA 92706 DOB 11/03/1991 RSTR CORR LENS 11031991 DONOR SEX M HAIR BRN EYES BLU HGT 5'-11\" WGT 210 lb ISS DD 09/27/201954221/DDFD/22 09/27/2019</td>\n",
       "      <td>Driver's License</td>\n",
       "      <td>LD</td>\n",
       "      <td>20220817104723</td>\n",
       "      <td>org</td>\n",
       "      <td>1</td>\n",
       "      <td>90.5048</td>\n",
       "      <td>NaN</td>\n",
       "    </tr>\n",
       "  </tbody>\n",
       "</table>\n",
       "</div>"
      ],
      "text/plain": [
       "                          ADR  \\\n",
       "869919  ADR-2022-100004625637   \n",
       "\n",
       "                                                                                                                                                                                                                                                                                    text  \\\n",
       "869919   California USA DRIVER LICENSE CLASS C DL E2256650 EXP 11/03/2022 END NONE LN SORENSEN FN JONATHAN WALTER 1006 ASPEN ST SANTA ANA, CA 92706 DOB 11/03/1991 RSTR CORR LENS 11031991 DONOR SEX M HAIR BRN EYES BLU HGT 5'-11\" WGT 210 lb ISS DD 09/27/201954221/DDFD/22 09/27/2019   \n",
       "\n",
       "                category type            date ogr/aug page#    angle  \\\n",
       "869919  Driver's License   LD  20220817104723     org     1  90.5048   \n",
       "\n",
       "       renamed category  \n",
       "869919              NaN  "
      ]
     },
     "execution_count": 530,
     "metadata": {},
     "output_type": "execute_result"
    }
   ],
   "source": [
    "ext.head(1)"
   ]
  },
  {
   "cell_type": "code",
   "execution_count": 531,
   "id": "cdd83f47",
   "metadata": {},
   "outputs": [],
   "source": [
    "del ext['ogr/aug']\n",
    "del ext['renamed category']"
   ]
  },
  {
   "cell_type": "code",
   "execution_count": 532,
   "id": "59e82a65",
   "metadata": {},
   "outputs": [],
   "source": [
    "del ext['type']"
   ]
  },
  {
   "cell_type": "code",
   "execution_count": 533,
   "id": "1ec67755",
   "metadata": {},
   "outputs": [],
   "source": [
    "del ext['date']"
   ]
  },
  {
   "cell_type": "code",
   "execution_count": 535,
   "id": "57bc1aa8",
   "metadata": {},
   "outputs": [
    {
     "data": {
      "text/html": [
       "<div>\n",
       "<style scoped>\n",
       "    .dataframe tbody tr th:only-of-type {\n",
       "        vertical-align: middle;\n",
       "    }\n",
       "\n",
       "    .dataframe tbody tr th {\n",
       "        vertical-align: top;\n",
       "    }\n",
       "\n",
       "    .dataframe thead th {\n",
       "        text-align: right;\n",
       "    }\n",
       "</style>\n",
       "<table border=\"1\" class=\"dataframe\">\n",
       "  <thead>\n",
       "    <tr style=\"text-align: right;\">\n",
       "      <th></th>\n",
       "      <th>ADR</th>\n",
       "      <th>text</th>\n",
       "      <th>category</th>\n",
       "      <th>page#</th>\n",
       "      <th>angle</th>\n",
       "    </tr>\n",
       "  </thead>\n",
       "  <tbody>\n",
       "    <tr>\n",
       "      <th>869919</th>\n",
       "      <td>ADR-2022-100004625637</td>\n",
       "      <td>California USA DRIVER LICENSE CLASS C DL E2256650 EXP 11/03/2022 END NONE LN SORENSEN FN JONATHAN WALTER 1006 ASPEN ST SANTA ANA, CA 92706 DOB 11/03/1991 RSTR CORR LENS 11031991 DONOR SEX M HAIR BRN EYES BLU HGT 5'-11\" WGT 210 lb ISS DD 09/27/201954221/DDFD/22 09/27/2019</td>\n",
       "      <td>Driver's License</td>\n",
       "      <td>1</td>\n",
       "      <td>90.5048</td>\n",
       "    </tr>\n",
       "    <tr>\n",
       "      <th>869920</th>\n",
       "      <td>ADR-2022-100004625811</td>\n",
       "      <td>NORTH CAROLINA ** DRIVER LICENSE NOT FOR FEDERAL IDENTIFICATION Ad DLN 000031918633 31 DOB 04/28/1977 DUP LIMITED-TERM 4b EXP 04/28/2023 - CHEN 2 RUI 8 1935 WALTHAM LN CHARLOTTE, NC 28270-9508 9 CLASS C 9a END NONE 12 RESTR *9-1 15 SEX F 18 EYES BRO 16 HGT 5'-05\" 19HAIR BRO RACE : 4a ISS 07/24/2017 Rui Cher 5 DO 0019669790 04/28/77 NORTH CAROLINA DRIVER LICENSE COMMISSIONER OF MOTOR VEHICLES 4d DLN 000030618633 31DOB 07/29/1973 46 EXP 07/29/2029 1 CHEN XU 8 1935 WALTHAM LN CHARLOTTE, NC 28270-9508 9 CLASS c 9a END NONE 12RESTR 1 15 SEX M 18 EYES BRO 16 HGT 5'-06\" 19 HAIR BLK RACE 48 ISS 05/21/2021 5 DD 0029887977 07/29/73</td>\n",
       "      <td>Driver's License</td>\n",
       "      <td>1</td>\n",
       "      <td>-0.3493</td>\n",
       "    </tr>\n",
       "    <tr>\n",
       "      <th>869921</th>\n",
       "      <td>ADR-2022-100004625867</td>\n",
       "      <td>CLASS: C - Veh w/GVWR ≤26000, No M/C ENDORSEMENTS: None RESTRICTIONS: None This license is issued as a license to drive a motor vehicle; it does not establish eligibility for employment, voter registration, or public benefits. Mill County Rev 08/29/20 17 20282A70111940401 100359</td>\n",
       "      <td>Driver's License</td>\n",
       "      <td>1</td>\n",
       "      <td>0.4658</td>\n",
       "    </tr>\n",
       "    <tr>\n",
       "      <th>869922</th>\n",
       "      <td>ADR-2022-100004626045</td>\n",
       "      <td>SOCIAL SECURITY CIALISECUR 162-64-5190 THIS NUMBER HAS BEEN ESTABLISHED FOR MARQUIA JENEE HILL 5.10 SIGNATURE _06/09/2017 NORTH CAROLINA'S DRIVER LICENSE COMMISSIONER OF MOTOR VEHICLES 4d DLN 000048854162 3]DOB 07/23/1983 4b EXP 07/23/2029 1 HILL MARQUIA 8 1017 FITCHIE PL DURHAM, NC 27703-6521 9 CLASS Da END NONE 12RESTR NONE 15 SEX F 18 EYES BRO 16HGT 5'-04\" 19 HAIR BRO RACE Manifi da ISS 12/14/2021 07/23/83 5. DD 0031396013</td>\n",
       "      <td>Driver's License</td>\n",
       "      <td>1</td>\n",
       "      <td>-0.1027</td>\n",
       "    </tr>\n",
       "    <tr>\n",
       "      <th>869923</th>\n",
       "      <td>ADR-2022-100004626264</td>\n",
       "      <td>Texas USA TX DRIVER LICENSE Lamme me Cow TRECTOR 24216970 4d DL 9 Class C 4a Iss 12/27/2018 4b Exp 02/21/2025 02/21/1978 3 DOB VETERAN 1 CRUZ 2 ANTHONY P JR 8 6115 FOREST WOOD SAN ANTONIO TX 78240 12 Restrictions NONE NONE 9a End 16 Hgt 6'-00\" 15 Sex M 18 Eyes BRO DONOR 5 DD 14614851127217508430</td>\n",
       "      <td>Driver's License</td>\n",
       "      <td>1</td>\n",
       "      <td>-1.1178</td>\n",
       "    </tr>\n",
       "  </tbody>\n",
       "</table>\n",
       "</div>"
      ],
      "text/plain": [
       "                          ADR  \\\n",
       "869919  ADR-2022-100004625637   \n",
       "869920  ADR-2022-100004625811   \n",
       "869921  ADR-2022-100004625867   \n",
       "869922  ADR-2022-100004626045   \n",
       "869923  ADR-2022-100004626264   \n",
       "\n",
       "                                                                                                                                                                                                                                                                                                                                                                                                                                                                                                                                                                                                                                                          text  \\\n",
       "869919                                                                                                                                                                                                                                                                                                                                                                         California USA DRIVER LICENSE CLASS C DL E2256650 EXP 11/03/2022 END NONE LN SORENSEN FN JONATHAN WALTER 1006 ASPEN ST SANTA ANA, CA 92706 DOB 11/03/1991 RSTR CORR LENS 11031991 DONOR SEX M HAIR BRN EYES BLU HGT 5'-11\" WGT 210 lb ISS DD 09/27/201954221/DDFD/22 09/27/2019   \n",
       "869920   NORTH CAROLINA ** DRIVER LICENSE NOT FOR FEDERAL IDENTIFICATION Ad DLN 000031918633 31 DOB 04/28/1977 DUP LIMITED-TERM 4b EXP 04/28/2023 - CHEN 2 RUI 8 1935 WALTHAM LN CHARLOTTE, NC 28270-9508 9 CLASS C 9a END NONE 12 RESTR *9-1 15 SEX F 18 EYES BRO 16 HGT 5'-05\" 19HAIR BRO RACE : 4a ISS 07/24/2017 Rui Cher 5 DO 0019669790 04/28/77 NORTH CAROLINA DRIVER LICENSE COMMISSIONER OF MOTOR VEHICLES 4d DLN 000030618633 31DOB 07/29/1973 46 EXP 07/29/2029 1 CHEN XU 8 1935 WALTHAM LN CHARLOTTE, NC 28270-9508 9 CLASS c 9a END NONE 12RESTR 1 15 SEX M 18 EYES BRO 16 HGT 5'-06\" 19 HAIR BLK RACE 48 ISS 05/21/2021 5 DD 0029887977 07/29/73   \n",
       "869921                                                                                                                                                                                                                                                                                                                                                                 CLASS: C - Veh w/GVWR ≤26000, No M/C ENDORSEMENTS: None RESTRICTIONS: None This license is issued as a license to drive a motor vehicle; it does not establish eligibility for employment, voter registration, or public benefits. Mill County Rev 08/29/20 17 20282A70111940401 100359   \n",
       "869922                                                                                                                                                                                                           SOCIAL SECURITY CIALISECUR 162-64-5190 THIS NUMBER HAS BEEN ESTABLISHED FOR MARQUIA JENEE HILL 5.10 SIGNATURE _06/09/2017 NORTH CAROLINA'S DRIVER LICENSE COMMISSIONER OF MOTOR VEHICLES 4d DLN 000048854162 3]DOB 07/23/1983 4b EXP 07/23/2029 1 HILL MARQUIA 8 1017 FITCHIE PL DURHAM, NC 27703-6521 9 CLASS Da END NONE 12RESTR NONE 15 SEX F 18 EYES BRO 16HGT 5'-04\" 19 HAIR BRO RACE Manifi da ISS 12/14/2021 07/23/83 5. DD 0031396013   \n",
       "869923                                                                                                                                                                                                                                                                                                                                                Texas USA TX DRIVER LICENSE Lamme me Cow TRECTOR 24216970 4d DL 9 Class C 4a Iss 12/27/2018 4b Exp 02/21/2025 02/21/1978 3 DOB VETERAN 1 CRUZ 2 ANTHONY P JR 8 6115 FOREST WOOD SAN ANTONIO TX 78240 12 Restrictions NONE NONE 9a End 16 Hgt 6'-00\" 15 Sex M 18 Eyes BRO DONOR 5 DD 14614851127217508430   \n",
       "\n",
       "                category page#    angle  \n",
       "869919  Driver's License     1  90.5048  \n",
       "869920  Driver's License     1  -0.3493  \n",
       "869921  Driver's License     1   0.4658  \n",
       "869922  Driver's License     1  -0.1027  \n",
       "869923  Driver's License     1  -1.1178  "
      ]
     },
     "execution_count": 535,
     "metadata": {},
     "output_type": "execute_result"
    }
   ],
   "source": [
    "ext.head()"
   ]
  },
  {
   "cell_type": "code",
   "execution_count": 545,
   "id": "0ea9dd8f",
   "metadata": {},
   "outputs": [
    {
     "data": {
      "text/html": [
       "<div>\n",
       "<style scoped>\n",
       "    .dataframe tbody tr th:only-of-type {\n",
       "        vertical-align: middle;\n",
       "    }\n",
       "\n",
       "    .dataframe tbody tr th {\n",
       "        vertical-align: top;\n",
       "    }\n",
       "\n",
       "    .dataframe thead th {\n",
       "        text-align: right;\n",
       "    }\n",
       "</style>\n",
       "<table border=\"1\" class=\"dataframe\">\n",
       "  <thead>\n",
       "    <tr style=\"text-align: right;\">\n",
       "      <th></th>\n",
       "      <th>Ref. No.</th>\n",
       "      <th>text</th>\n",
       "      <th>Actual Classification</th>\n",
       "      <th>Page No.</th>\n",
       "      <th>angle</th>\n",
       "    </tr>\n",
       "  </thead>\n",
       "  <tbody>\n",
       "    <tr>\n",
       "      <th>869919</th>\n",
       "      <td>ADR-2022-100004625637</td>\n",
       "      <td>California USA DRIVER LICENSE CLASS C DL E2256650 EXP 11/03/2022 END NONE LN SORENSEN FN JONATHAN WALTER 1006 ASPEN ST SANTA ANA, CA 92706 DOB 11/03/1991 RSTR CORR LENS 11031991 DONOR SEX M HAIR BRN EYES BLU HGT 5'-11\" WGT 210 lb ISS DD 09/27/201954221/DDFD/22 09/27/2019</td>\n",
       "      <td>Driver's License</td>\n",
       "      <td>1</td>\n",
       "      <td>90.5048</td>\n",
       "    </tr>\n",
       "  </tbody>\n",
       "</table>\n",
       "</div>"
      ],
      "text/plain": [
       "                     Ref. No.  \\\n",
       "869919  ADR-2022-100004625637   \n",
       "\n",
       "                                                                                                                                                                                                                                                                                    text  \\\n",
       "869919   California USA DRIVER LICENSE CLASS C DL E2256650 EXP 11/03/2022 END NONE LN SORENSEN FN JONATHAN WALTER 1006 ASPEN ST SANTA ANA, CA 92706 DOB 11/03/1991 RSTR CORR LENS 11031991 DONOR SEX M HAIR BRN EYES BLU HGT 5'-11\" WGT 210 lb ISS DD 09/27/201954221/DDFD/22 09/27/2019   \n",
       "\n",
       "       Actual Classification Page No.    angle  \n",
       "869919      Driver's License        1  90.5048  "
      ]
     },
     "execution_count": 545,
     "metadata": {},
     "output_type": "execute_result"
    }
   ],
   "source": [
    "ext.columns = ['Ref. No.', 'text', 'Actual Classification', 'Page No.', 'angle']\n",
    "ext.head(1)           "
   ]
  },
  {
   "cell_type": "code",
   "execution_count": 546,
   "id": "48967346",
   "metadata": {},
   "outputs": [
    {
     "data": {
      "text/plain": [
       "(53483, 8)"
      ]
     },
     "execution_count": 546,
     "metadata": {},
     "output_type": "execute_result"
    }
   ],
   "source": [
    "global_validate = pd.concat([global_validate,ext])\n",
    "global_validate.shape"
   ]
  },
  {
   "cell_type": "code",
   "execution_count": 547,
   "id": "64e979a8",
   "metadata": {},
   "outputs": [
    {
     "data": {
      "text/html": [
       "<div>\n",
       "<style scoped>\n",
       "    .dataframe tbody tr th:only-of-type {\n",
       "        vertical-align: middle;\n",
       "    }\n",
       "\n",
       "    .dataframe tbody tr th {\n",
       "        vertical-align: top;\n",
       "    }\n",
       "\n",
       "    .dataframe thead th {\n",
       "        text-align: right;\n",
       "    }\n",
       "</style>\n",
       "<table border=\"1\" class=\"dataframe\">\n",
       "  <thead>\n",
       "    <tr style=\"text-align: right;\">\n",
       "      <th></th>\n",
       "      <th>Ref. No.</th>\n",
       "      <th>Page No.</th>\n",
       "      <th>System Classification (Python Decision)</th>\n",
       "      <th>Actual Classification</th>\n",
       "      <th>Status P/F</th>\n",
       "      <th>Comments</th>\n",
       "      <th>text</th>\n",
       "      <th>angle</th>\n",
       "    </tr>\n",
       "  </thead>\n",
       "  <tbody>\n",
       "    <tr>\n",
       "      <th>0</th>\n",
       "      <td>ADR-2022-200000369155</td>\n",
       "      <td>18</td>\n",
       "      <td>Bank Statement</td>\n",
       "      <td>Hazard Insurance</td>\n",
       "      <td>Fail</td>\n",
       "      <td>NaN</td>\n",
       "      <td>(THIS PAGE INTENTIONALLY LEFT BLANK) 1991 Rev. 6-05 51030-0605 Page 2 of 2 Page 16 of 21</td>\n",
       "      <td>0.0</td>\n",
       "    </tr>\n",
       "  </tbody>\n",
       "</table>\n",
       "</div>"
      ],
      "text/plain": [
       "                Ref. No. Page No. System Classification (Python Decision)  \\\n",
       "0  ADR-2022-200000369155       18                          Bank Statement   \n",
       "\n",
       "  Actual Classification Status P/F Comments  \\\n",
       "0      Hazard Insurance       Fail      NaN   \n",
       "\n",
       "                                                                                        text  \\\n",
       "0   (THIS PAGE INTENTIONALLY LEFT BLANK) 1991 Rev. 6-05 51030-0605 Page 2 of 2 Page 16 of 21   \n",
       "\n",
       "   angle  \n",
       "0    0.0  "
      ]
     },
     "execution_count": 547,
     "metadata": {},
     "output_type": "execute_result"
    }
   ],
   "source": [
    "global_validate.head(1)"
   ]
  },
  {
   "cell_type": "code",
   "execution_count": 548,
   "id": "36d0503e",
   "metadata": {},
   "outputs": [
    {
     "data": {
      "text/plain": [
       "Bank Statement                         33848\n",
       "Hazard Insurance Dec Page - Initial     9513\n",
       "Driver's License                        4116\n",
       "Purchase Agreement                      1802\n",
       "Setup Submission Form                    846\n",
       "Misc Closing Disclosures                 633\n",
       "Social Security Award Letter             621\n",
       "SSN Card                                 504\n",
       "Permanent Resident Card                  402\n",
       "Award Letter(s)                          276\n",
       "Retirement Account Statement(s)          245\n",
       "Hazard Insurance                         193\n",
       "Rental Agreements(s)                     105\n",
       "Letter of Explanation                     63\n",
       "Appraisal - Appraisal Report              52\n",
       "Disclosures                               52\n",
       "Earnest Money Deposit                     39\n",
       "Divorce Decree / Child Support            35\n",
       "Due Diligence Report                      35\n",
       "Mortgage Statement                        24\n",
       "Property - Other                          15\n",
       "Passport/Green Card                       12\n",
       "Credit Report                             12\n",
       "Non-Mortgage Account Statement             9\n",
       "Bankruptcy Papers                          4\n",
       "Income - Other                             3\n",
       "DU Findings                                3\n",
       "Check(s)                                   2\n",
       "Title Report                               2\n",
       "Title - Other                              2\n",
       "Flood Insurance                            2\n",
       "Power of Attorney                          2\n",
       "Loan Estimate                              2\n",
       "HUD-1                                      2\n",
       "Asset – Other                              1\n",
       "Others                                     1\n",
       "Closing Disclosure                         1\n",
       "Condo/Coop/HOA                             1\n",
       "Appraisal - Other                          1\n",
       "Escrow / Closing Instructions              1\n",
       "VOM/VOR                                    1\n",
       "Name: Actual Classification, dtype: int64"
      ]
     },
     "execution_count": 548,
     "metadata": {},
     "output_type": "execute_result"
    }
   ],
   "source": [
    "global_validate['Actual Classification'].value_counts()"
   ]
  },
  {
   "cell_type": "code",
   "execution_count": 577,
   "id": "ccecdac0",
   "metadata": {},
   "outputs": [],
   "source": [
    "global_validate.to_csv('./test.csv', index=False)"
   ]
  },
  {
   "cell_type": "code",
   "execution_count": 549,
   "id": "191c8208",
   "metadata": {},
   "outputs": [],
   "source": [
    "temp = []\n",
    "\n",
    "cats = ['Retirement Account Statement(s)',\n",
    "        'Mortgage Statement',\n",
    "        'Bank Statement',\n",
    "        'Purchase Agreement',\n",
    "        'Rental Agreements(s)',\n",
    "        'Hazard Insurance',\n",
    "        'Divorce Decree / Child Support',\n",
    "        'Bankruptcy Papers']\n",
    "\n",
    "# cats = ['Hazard Insurance',\n",
    "#         'Divorce Decree / Child Support',\n",
    "#         'Bankruptcy Papers']\n",
    "        \n",
    "        \n",
    "for category in global_validate['Actual Classification']:\n",
    "    if category not in cats:\n",
    "        temp.append('others')\n",
    "    else:\n",
    "        temp.append('focused')\n",
    "global_validate['new_category'] = temp"
   ]
  },
  {
   "cell_type": "code",
   "execution_count": 550,
   "id": "b5a025be",
   "metadata": {},
   "outputs": [
    {
     "data": {
      "text/plain": [
       "focused    36256\n",
       "others     17227\n",
       "Name: new_category, dtype: int64"
      ]
     },
     "execution_count": 550,
     "metadata": {},
     "output_type": "execute_result"
    }
   ],
   "source": [
    "global_validate['new_category'].value_counts()"
   ]
  },
  {
   "cell_type": "code",
   "execution_count": 551,
   "id": "b9b32e04",
   "metadata": {},
   "outputs": [],
   "source": [
    "globaltemp = []\n",
    "for txt in global_validate['text'].values:\n",
    "    txt = tokenizeText(str(txt))\n",
    "    globaltemp.append(txt)\n",
    "#     globaltemp.append(doc2vec_model.infer_vector(gensim.utils.tokenize(str(txt))))"
   ]
  },
  {
   "cell_type": "code",
   "execution_count": 552,
   "id": "4da9a082",
   "metadata": {},
   "outputs": [],
   "source": [
    "#sentences = global_validate['text'].values\n",
    "sentences = globaltemp\n",
    "sentence_embed = SentenceTransformer('all-MiniLM-L6-v2')\n",
    "globalembeddings = sentence_embed.encode(sentences)"
   ]
  },
  {
   "cell_type": "code",
   "execution_count": 571,
   "id": "ec81b646",
   "metadata": {},
   "outputs": [
    {
     "data": {
      "text/plain": [
       "array([1, 1, 1, ..., 1, 1, 1])"
      ]
     },
     "execution_count": 571,
     "metadata": {},
     "output_type": "execute_result"
    }
   ],
   "source": [
    "predicted = md.predict(globalembeddings.tolist())\n",
    "predicted"
   ]
  },
  {
   "cell_type": "code",
   "execution_count": 572,
   "id": "bb0b62e1",
   "metadata": {},
   "outputs": [
    {
     "data": {
      "text/plain": [
       "array([1, 1, 1, ..., 1, 1, 1])"
      ]
     },
     "execution_count": 572,
     "metadata": {},
     "output_type": "execute_result"
    }
   ],
   "source": [
    "actual = global_validate['new_category'].replace({'others': 0, 'focused':1}).values\n",
    "actual"
   ]
  },
  {
   "cell_type": "code",
   "execution_count": 573,
   "id": "87a73450",
   "metadata": {},
   "outputs": [
    {
     "name": "stdout",
     "output_type": "stream",
     "text": [
      "              precision    recall  f1-score   support\n",
      "\n",
      "           0       0.65      0.41      0.51     17227\n",
      "           1       0.76      0.89      0.82     36256\n",
      "\n",
      "    accuracy                           0.74     53483\n",
      "   macro avg       0.70      0.65      0.66     53483\n",
      "weighted avg       0.72      0.74      0.72     53483\n",
      "\n"
     ]
    }
   ],
   "source": [
    "print(classification_report(actual, predicted))"
   ]
  },
  {
   "cell_type": "code",
   "execution_count": 574,
   "id": "0625de36",
   "metadata": {},
   "outputs": [
    {
     "data": {
      "text/plain": [
       "0.7382532767421424"
      ]
     },
     "execution_count": 574,
     "metadata": {},
     "output_type": "execute_result"
    }
   ],
   "source": [
    "accuracy_score(actual, predicted)"
   ]
  },
  {
   "cell_type": "code",
   "execution_count": 575,
   "id": "51d81fa7",
   "metadata": {},
   "outputs": [
    {
     "data": {
      "text/plain": [
       "0.8220518882914492"
      ]
     },
     "execution_count": 575,
     "metadata": {},
     "output_type": "execute_result"
    }
   ],
   "source": [
    "f1_score(actual, predicted)"
   ]
  },
  {
   "cell_type": "code",
   "execution_count": 576,
   "id": "e33a1f56",
   "metadata": {},
   "outputs": [
    {
     "name": "stdout",
     "output_type": "stream",
     "text": [
      "accuracy for others : : 7149/17227=0.41\n",
      "\n",
      "\n",
      "accuracy for focused : : 32335/36256=0.89\n",
      "\n",
      "\n"
     ]
    }
   ],
   "source": [
    "checkfor = [0,1]\n",
    "for check in checkfor:\n",
    "    total = 0\n",
    "    correct = 0\n",
    "    notclassified = 0\n",
    "    score = []\n",
    "    for a,p in zip(actual, predicted):\n",
    "             \n",
    "        if a == check:\n",
    "            total+=1\n",
    "            if (p == check):\n",
    "                correct+=1\n",
    "            elif (p!=check):\n",
    "                notclassified+=1\n",
    "                \n",
    "    if total!=0:\n",
    "        acc = round(correct/total,2)\n",
    "        if check==0:\n",
    "            print('accuracy for {}: {}/{}={}'.format('others : ',correct,total,acc))\n",
    "        else:\n",
    "            print('accuracy for {}: {}/{}={}'.format('focused : ',correct,total,acc))\n",
    "        #print('notclassified {}'.format(notclassified))\n",
    "        print('\\n')"
   ]
  },
  {
   "cell_type": "code",
   "execution_count": null,
   "id": "aa6ce1dc",
   "metadata": {},
   "outputs": [],
   "source": [
    "global_validate.columns"
   ]
  },
  {
   "cell_type": "code",
   "execution_count": null,
   "id": "1b76cd9c",
   "metadata": {},
   "outputs": [],
   "source": [
    "global_validate['Actual Classification'][(global_validate['new_category']==-1)&(global_validate['predicted']==1)].value_counts()"
   ]
  },
  {
   "cell_type": "code",
   "execution_count": null,
   "id": "5a9d9888",
   "metadata": {},
   "outputs": [],
   "source": [
    "global_validate['new_category'].value_counts()"
   ]
  },
  {
   "cell_type": "code",
   "execution_count": null,
   "id": "455d97cd",
   "metadata": {},
   "outputs": [],
   "source": [
    "global_validate['predicted'].value_counts()"
   ]
  },
  {
   "cell_type": "code",
   "execution_count": null,
   "id": "e87387e7",
   "metadata": {},
   "outputs": [],
   "source": [
    "clf.save()"
   ]
  },
  {
   "cell_type": "code",
   "execution_count": null,
   "id": "d02a50ed",
   "metadata": {},
   "outputs": [],
   "source": []
  },
  {
   "cell_type": "code",
   "execution_count": 578,
   "id": "cf9309dd",
   "metadata": {},
   "outputs": [
    {
     "name": "stderr",
     "output_type": "stream",
     "text": [
      "/tmp/ipykernel_16631/2421145628.py:1: DtypeWarning: Columns (6,8) have mixed types. Specify dtype option on import or set low_memory=False.\n",
      "  ext = pd.read_csv('/data/mmortgage/amal_workspace/multi_page_classification_preprocessing/master_data_AUG_V3_0.csv')\n"
     ]
    },
    {
     "data": {
      "text/html": [
       "<div>\n",
       "<style scoped>\n",
       "    .dataframe tbody tr th:only-of-type {\n",
       "        vertical-align: middle;\n",
       "    }\n",
       "\n",
       "    .dataframe tbody tr th {\n",
       "        vertical-align: top;\n",
       "    }\n",
       "\n",
       "    .dataframe thead th {\n",
       "        text-align: right;\n",
       "    }\n",
       "</style>\n",
       "<table border=\"1\" class=\"dataframe\">\n",
       "  <thead>\n",
       "    <tr style=\"text-align: right;\">\n",
       "      <th></th>\n",
       "      <th>ADR</th>\n",
       "      <th>text</th>\n",
       "      <th>category</th>\n",
       "      <th>type</th>\n",
       "      <th>date</th>\n",
       "      <th>ogr/aug</th>\n",
       "      <th>page#</th>\n",
       "      <th>angle</th>\n",
       "      <th>renamed category</th>\n",
       "    </tr>\n",
       "  </thead>\n",
       "  <tbody>\n",
       "    <tr>\n",
       "      <th>0</th>\n",
       "      <td>ADR-2022-100004473184</td>\n",
       "      <td>loanDepot Branch: 102 - Cerritos Branch - Cerritos, CA NMLS # 174457 Set-Up Submission Form Borrower: Suzi Builder Loan Officer: POS Banker Credit Reference: 116287576930000 DU Case file ID: 1626158786 C.O.E.: 8/7/2022 Submitted: 7/7/2022 Prospect Loan#: 3001618980 Sales Price: $500,500.00 Appraised Value: $500,500.00 Loan Amt: $250,000.00 Rate: 5.250% Origination: $0.00 Discount: 0.086% LTV: 49.950% CLTV:49.950% Property Address: 432 Lake Front, Orwigsburg, PA 17961 Community Name: Loan Purpose: X Purchase Rate/Term Refi If Applicable 2nd loan Rate Term: 180 Cash-Out Refi Streamline Refi VA Non-Allowable Loan Type: X Conventional FHA USDA Seller Paid VA Other {Funding Fee: $ Exempt} Lender Paid SPECIFY PRODUCT CODE MSA/Builder FROM RATE SHEET Must select none or appropriate (Code is located at the bottom of the column of the program you are pricing) MSA/Desk Rental/Builder Bond: Yes Program 1: Program 2: Construction: Property Type: New Construction X SFR Detached SFR Attached Low Rise Condo Mid Rise Condo High Rise Condo Manufactured Home PUD Modular 2 Unit 3 Unit 4 Unit Co-op Other Occupancy Status Escrows Seller Credit: $ 0.00 X Primary 2nd Home Investment Impound: Transfer Taxes: $ 0.00 Waive Hazard: $ 100.00 Taxes: $ 0.00 MI: $ 0.00 Flood: $ Title Company Title Company Name: ServiceLink, LLC Contact: Address: 1355 Cherrington Pkwy, Moon Township, PA Phone: (800)439-5451 Fax: Email: kim.arndt@svclnk.com Hazard Insurance Insurance Company: Contact: Address: Phone: Fax: Email: Real Estate Agents: Buyer's Agent: Phone: Fax: Email: Seller's Agent: Phone: Fax: Email: Loan Officers: Please use this section to make comments regarding the loan. Mortgage Insurance - MI Lock Status Lender Paid MI (LPMI) Split MI Option Locked: Yes X No #Days 45 Borrower Paid MI (BPMI) Program 1 .05 Program 2 .75 Monthly Program 3 1.00 Single Premium Program 4 1.25 Single Premium Financed Program 5 1.50 Single Premium - Split cash/financed Split Premium (UFMIP cash) Program 6 1.75 100000 Split Premium (UFMIP financed) Empower Form (05/2014)</td>\n",
       "      <td>Setup Submission Form</td>\n",
       "      <td>LD</td>\n",
       "      <td>20220722123724</td>\n",
       "      <td>org</td>\n",
       "      <td>1</td>\n",
       "      <td>0.0</td>\n",
       "      <td>No</td>\n",
       "    </tr>\n",
       "  </tbody>\n",
       "</table>\n",
       "</div>"
      ],
      "text/plain": [
       "                     ADR  \\\n",
       "0  ADR-2022-100004473184   \n",
       "\n",
       "                                                                                                                                                                                                                                                                                                                                                                                                                                                                                                                                                                                                                                                                                                                                                                                                                                                                                                                                                                                                                                                                                                                                                                                                                                                                                                                                                                                                                                                                                                                                                                                                                                                                                                                                                                                                                                                                                                                                                                                                                                                                                                                                     text  \\\n",
       "0   loanDepot Branch: 102 - Cerritos Branch - Cerritos, CA NMLS # 174457 Set-Up Submission Form Borrower: Suzi Builder Loan Officer: POS Banker Credit Reference: 116287576930000 DU Case file ID: 1626158786 C.O.E.: 8/7/2022 Submitted: 7/7/2022 Prospect Loan#: 3001618980 Sales Price: $500,500.00 Appraised Value: $500,500.00 Loan Amt: $250,000.00 Rate: 5.250% Origination: $0.00 Discount: 0.086% LTV: 49.950% CLTV:49.950% Property Address: 432 Lake Front, Orwigsburg, PA 17961 Community Name: Loan Purpose: X Purchase Rate/Term Refi If Applicable 2nd loan Rate Term: 180 Cash-Out Refi Streamline Refi VA Non-Allowable Loan Type: X Conventional FHA USDA Seller Paid VA Other {Funding Fee: $ Exempt} Lender Paid SPECIFY PRODUCT CODE MSA/Builder FROM RATE SHEET Must select none or appropriate (Code is located at the bottom of the column of the program you are pricing) MSA/Desk Rental/Builder Bond: Yes Program 1: Program 2: Construction: Property Type: New Construction X SFR Detached SFR Attached Low Rise Condo Mid Rise Condo High Rise Condo Manufactured Home PUD Modular 2 Unit 3 Unit 4 Unit Co-op Other Occupancy Status Escrows Seller Credit: $ 0.00 X Primary 2nd Home Investment Impound: Transfer Taxes: $ 0.00 Waive Hazard: $ 100.00 Taxes: $ 0.00 MI: $ 0.00 Flood: $ Title Company Title Company Name: ServiceLink, LLC Contact: Address: 1355 Cherrington Pkwy, Moon Township, PA Phone: (800)439-5451 Fax: Email: kim.arndt@svclnk.com Hazard Insurance Insurance Company: Contact: Address: Phone: Fax: Email: Real Estate Agents: Buyer's Agent: Phone: Fax: Email: Seller's Agent: Phone: Fax: Email: Loan Officers: Please use this section to make comments regarding the loan. Mortgage Insurance - MI Lock Status Lender Paid MI (LPMI) Split MI Option Locked: Yes X No #Days 45 Borrower Paid MI (BPMI) Program 1 .05 Program 2 .75 Monthly Program 3 1.00 Single Premium Program 4 1.25 Single Premium Financed Program 5 1.50 Single Premium - Split cash/financed Split Premium (UFMIP cash) Program 6 1.75 100000 Split Premium (UFMIP financed) Empower Form (05/2014)   \n",
       "\n",
       "                category type            date ogr/aug page#  angle  \\\n",
       "0  Setup Submission Form   LD  20220722123724     org     1    0.0   \n",
       "\n",
       "  renamed category  \n",
       "0               No  "
      ]
     },
     "execution_count": 578,
     "metadata": {},
     "output_type": "execute_result"
    }
   ],
   "source": [
    "ext = pd.read_csv('/data/mmortgage/amal_workspace/multi_page_classification_preprocessing/master_data_AUG_V3_0.csv')\n",
    "ext.head(1)"
   ]
  },
  {
   "cell_type": "code",
   "execution_count": 579,
   "id": "345914bc",
   "metadata": {},
   "outputs": [
    {
     "data": {
      "text/plain": [
       "array([20220818045757, 20220817104723, 20220812074110, 20220808101127,\n",
       "       20220808052313, 20220804073822, 20220803052526, 20220803052202,\n",
       "       20220801061131, 20220729062912, 20220727051802, 20220725095443,\n",
       "       20220722194504, 20220722194403, 20220722194254, 20220722194154,\n",
       "       20220722183556, 20220722123724, 20220722122940, 20220722122607,\n",
       "       20220722120009])"
      ]
     },
     "execution_count": 579,
     "metadata": {},
     "output_type": "execute_result"
    }
   ],
   "source": [
    "ext['date'].sort_values(ascending=False).unique()"
   ]
  },
  {
   "cell_type": "code",
   "execution_count": 529,
   "id": "07b2e365",
   "metadata": {},
   "outputs": [],
   "source": [
    "ext[(ext['date']==20220818045757)|(ext['date']==20220817104723)]"
   ]
  },
  {
   "cell_type": "code",
   "execution_count": null,
   "id": "df9e5d4e",
   "metadata": {},
   "outputs": [],
   "source": [
    "e"
   ]
  }
 ],
 "metadata": {
  "kernelspec": {
   "display_name": "classification_service",
   "language": "python",
   "name": "classification_service"
  },
  "language_info": {
   "codemirror_mode": {
    "name": "ipython",
    "version": 3
   },
   "file_extension": ".py",
   "mimetype": "text/x-python",
   "name": "python",
   "nbconvert_exporter": "python",
   "pygments_lexer": "ipython3",
   "version": "3.8.0"
  }
 },
 "nbformat": 4,
 "nbformat_minor": 5
}
