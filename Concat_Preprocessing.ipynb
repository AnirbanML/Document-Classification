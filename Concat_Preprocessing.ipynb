{
 "cells": [
  {
   "cell_type": "code",
   "execution_count": 1,
   "id": "02b7c7e1",
   "metadata": {},
   "outputs": [],
   "source": [
    "import pandas as pd\n",
    "import os\n",
    "import numpy as np\n",
    "import json"
   ]
  },
  {
   "cell_type": "code",
   "execution_count": 2,
   "id": "687b3ff2",
   "metadata": {},
   "outputs": [
    {
     "data": {
      "text/plain": [
       "(399, 3)"
      ]
     },
     "execution_count": 2,
     "metadata": {},
     "output_type": "execute_result"
    }
   ],
   "source": [
    "temp=[]\n",
    "csvs = ['purchase_agree.csv', 'divorce.csv']\n",
    "#for csv in os.listdir('./csv'):\n",
    "for csv in csvs:\n",
    "    temp.append(pd.read_csv('./csv/'+csv))\n",
    "df = pd.concat(temp, ignore_index=True)\n",
    "df.shape"
   ]
  },
  {
   "cell_type": "code",
   "execution_count": 3,
   "id": "58faac83",
   "metadata": {},
   "outputs": [
    {
     "data": {
      "text/html": [
       "<div>\n",
       "<style scoped>\n",
       "    .dataframe tbody tr th:only-of-type {\n",
       "        vertical-align: middle;\n",
       "    }\n",
       "\n",
       "    .dataframe tbody tr th {\n",
       "        vertical-align: top;\n",
       "    }\n",
       "\n",
       "    .dataframe thead th {\n",
       "        text-align: right;\n",
       "    }\n",
       "</style>\n",
       "<table border=\"1\" class=\"dataframe\">\n",
       "  <thead>\n",
       "    <tr style=\"text-align: right;\">\n",
       "      <th></th>\n",
       "      <th>ADR REFERENCE NUMBER</th>\n",
       "      <th>PAGE NO</th>\n",
       "      <th>QC VALUE</th>\n",
       "    </tr>\n",
       "  </thead>\n",
       "  <tbody>\n",
       "    <tr>\n",
       "      <th>0</th>\n",
       "      <td>ADR-2022-100004176625</td>\n",
       "      <td>1</td>\n",
       "      <td>Purchase Agreement</td>\n",
       "    </tr>\n",
       "    <tr>\n",
       "      <th>1</th>\n",
       "      <td>ADR-2022-100004179066</td>\n",
       "      <td>1</td>\n",
       "      <td>Purchase Agreement</td>\n",
       "    </tr>\n",
       "    <tr>\n",
       "      <th>2</th>\n",
       "      <td>ADR-2022-100004181773</td>\n",
       "      <td>1</td>\n",
       "      <td>Purchase Agreement</td>\n",
       "    </tr>\n",
       "    <tr>\n",
       "      <th>3</th>\n",
       "      <td>ADR-2022-200004178677</td>\n",
       "      <td>1</td>\n",
       "      <td>Purchase Agreement</td>\n",
       "    </tr>\n",
       "    <tr>\n",
       "      <th>4</th>\n",
       "      <td>ADR-2022-200004179727</td>\n",
       "      <td>1</td>\n",
       "      <td>Purchase Agreement</td>\n",
       "    </tr>\n",
       "    <tr>\n",
       "      <th>...</th>\n",
       "      <td>...</td>\n",
       "      <td>...</td>\n",
       "      <td>...</td>\n",
       "    </tr>\n",
       "    <tr>\n",
       "      <th>394</th>\n",
       "      <td>ADR-2022-100004188992</td>\n",
       "      <td>20,21,22</td>\n",
       "      <td>Divorce Decree</td>\n",
       "    </tr>\n",
       "    <tr>\n",
       "      <th>395</th>\n",
       "      <td>ADR-2022-100004190135</td>\n",
       "      <td>1,2,3,4,5,6,7,8,9,10,11,12,13,14,15,16,17,18,1...</td>\n",
       "      <td>Divorce Decree</td>\n",
       "    </tr>\n",
       "    <tr>\n",
       "      <th>396</th>\n",
       "      <td>ADR-2022-100004189270</td>\n",
       "      <td>1,2,3</td>\n",
       "      <td>Divorce Decree</td>\n",
       "    </tr>\n",
       "    <tr>\n",
       "      <th>397</th>\n",
       "      <td>ADR-2022-200004191074</td>\n",
       "      <td>1,2,3,4</td>\n",
       "      <td>Divorce Decree</td>\n",
       "    </tr>\n",
       "    <tr>\n",
       "      <th>398</th>\n",
       "      <td>ADR-2022-200004193611</td>\n",
       "      <td>1,2,3,4,5,6,7,8,9</td>\n",
       "      <td>Divorce Decree</td>\n",
       "    </tr>\n",
       "  </tbody>\n",
       "</table>\n",
       "<p>399 rows × 3 columns</p>\n",
       "</div>"
      ],
      "text/plain": [
       "      ADR REFERENCE NUMBER                                            PAGE NO  \\\n",
       "0    ADR-2022-100004176625                                                  1   \n",
       "1    ADR-2022-100004179066                                                  1   \n",
       "2    ADR-2022-100004181773                                                  1   \n",
       "3    ADR-2022-200004178677                                                  1   \n",
       "4    ADR-2022-200004179727                                                  1   \n",
       "..                     ...                                                ...   \n",
       "394  ADR-2022-100004188992                                           20,21,22   \n",
       "395  ADR-2022-100004190135  1,2,3,4,5,6,7,8,9,10,11,12,13,14,15,16,17,18,1...   \n",
       "396  ADR-2022-100004189270                                              1,2,3   \n",
       "397  ADR-2022-200004191074                                            1,2,3,4   \n",
       "398  ADR-2022-200004193611                                  1,2,3,4,5,6,7,8,9   \n",
       "\n",
       "               QC VALUE  \n",
       "0    Purchase Agreement  \n",
       "1    Purchase Agreement  \n",
       "2    Purchase Agreement  \n",
       "3    Purchase Agreement  \n",
       "4    Purchase Agreement  \n",
       "..                  ...  \n",
       "394      Divorce Decree  \n",
       "395      Divorce Decree  \n",
       "396      Divorce Decree  \n",
       "397      Divorce Decree  \n",
       "398      Divorce Decree  \n",
       "\n",
       "[399 rows x 3 columns]"
      ]
     },
     "execution_count": 3,
     "metadata": {},
     "output_type": "execute_result"
    }
   ],
   "source": [
    "df"
   ]
  },
  {
   "cell_type": "code",
   "execution_count": 4,
   "id": "174625bc",
   "metadata": {},
   "outputs": [
    {
     "data": {
      "text/plain": [
       "Purchase Agreement    346\n",
       "Divorce Decree         52\n",
       "Flood Certificate       1\n",
       "Name: QC VALUE, dtype: int64"
      ]
     },
     "execution_count": 4,
     "metadata": {},
     "output_type": "execute_result"
    }
   ],
   "source": [
    "df['QC VALUE'].value_counts()"
   ]
  },
  {
   "cell_type": "code",
   "execution_count": 5,
   "id": "785e5894",
   "metadata": {},
   "outputs": [],
   "source": [
    "def get_text(ADR,pageno):\n",
    "    data = json.load(open('./ocr/'+ADR+'.txt', encoding=\"utf-8\"))\n",
    "    txt = ''\n",
    "    annotations=[]\n",
    "    for page in data['analyzeResult']['readResults']:\n",
    "        if page['page']==pageno:\n",
    "            for line in page['lines']:\n",
    "                txt += line['text']+' '\n",
    "    return(txt)"
   ]
  },
  {
   "cell_type": "code",
   "execution_count": 6,
   "id": "3e52039e",
   "metadata": {},
   "outputs": [],
   "source": [
    "category = []\n",
    "text = []\n",
    "adr = []\n",
    "for index,row in df.iterrows():\n",
    "    ADR = row['ADR REFERENCE NUMBER']\n",
    "    if ADR+'.txt' in os.listdir('./ocr'):\n",
    "        #print(ADR)\n",
    "        for page in row['PAGE NO'].split(','):\n",
    "            category.append(row['QC VALUE'])\n",
    "            adr.append(ADR)\n",
    "            try:\n",
    "                text.append(get_text(ADR,int(page)))\n",
    "            except:\n",
    "                text.append(np.nan)"
   ]
  },
  {
   "cell_type": "code",
   "execution_count": 14,
   "id": "2d62c4db",
   "metadata": {},
   "outputs": [],
   "source": [
    "data = dict()\n",
    "data['ADR'] = adr\n",
    "data['text'] = text\n",
    "data['category'] = category"
   ]
  },
  {
   "cell_type": "code",
   "execution_count": null,
   "id": "ac67a259",
   "metadata": {},
   "outputs": [],
   "source": []
  },
  {
   "cell_type": "code",
   "execution_count": 15,
   "id": "abf0a8ab",
   "metadata": {},
   "outputs": [
    {
     "data": {
      "text/html": [
       "<div>\n",
       "<style scoped>\n",
       "    .dataframe tbody tr th:only-of-type {\n",
       "        vertical-align: middle;\n",
       "    }\n",
       "\n",
       "    .dataframe tbody tr th {\n",
       "        vertical-align: top;\n",
       "    }\n",
       "\n",
       "    .dataframe thead th {\n",
       "        text-align: right;\n",
       "    }\n",
       "</style>\n",
       "<table border=\"1\" class=\"dataframe\">\n",
       "  <thead>\n",
       "    <tr style=\"text-align: right;\">\n",
       "      <th></th>\n",
       "      <th>ADR</th>\n",
       "      <th>text</th>\n",
       "      <th>category</th>\n",
       "    </tr>\n",
       "  </thead>\n",
       "  <tbody>\n",
       "    <tr>\n",
       "      <th>0</th>\n",
       "      <td>ADR-2022-100004176625</td>\n",
       "      <td>DocuSign Envelope ID: 4EAE2023-993D-4921-9F40-...</td>\n",
       "      <td>Purchase Agreement</td>\n",
       "    </tr>\n",
       "    <tr>\n",
       "      <th>1</th>\n",
       "      <td>ADR-2022-100004179066</td>\n",
       "      <td>dotloop signature verification: dtlp.us/9ZlB-L...</td>\n",
       "      <td>Purchase Agreement</td>\n",
       "    </tr>\n",
       "    <tr>\n",
       "      <th>2</th>\n",
       "      <td>ADR-2022-100004181773</td>\n",
       "      <td>PURCHASE AGREEMENT Buyer: Tyrone Jennings Sell...</td>\n",
       "      <td>Purchase Agreement</td>\n",
       "    </tr>\n",
       "    <tr>\n",
       "      <th>3</th>\n",
       "      <td>ADR-2022-200004178677</td>\n",
       "      <td>GENERAL RESIDENTIAL SALES CONTRACT Form Approv...</td>\n",
       "      <td>Purchase Agreement</td>\n",
       "    </tr>\n",
       "    <tr>\n",
       "      <th>4</th>\n",
       "      <td>ADR-2022-200004179727</td>\n",
       "      <td>DocuSign Envelope ID: E3CAA5F7-7861-4BAB-B895-...</td>\n",
       "      <td>Purchase Agreement</td>\n",
       "    </tr>\n",
       "  </tbody>\n",
       "</table>\n",
       "</div>"
      ],
      "text/plain": [
       "                     ADR                                               text  \\\n",
       "0  ADR-2022-100004176625  DocuSign Envelope ID: 4EAE2023-993D-4921-9F40-...   \n",
       "1  ADR-2022-100004179066  dotloop signature verification: dtlp.us/9ZlB-L...   \n",
       "2  ADR-2022-100004181773  PURCHASE AGREEMENT Buyer: Tyrone Jennings Sell...   \n",
       "3  ADR-2022-200004178677  GENERAL RESIDENTIAL SALES CONTRACT Form Approv...   \n",
       "4  ADR-2022-200004179727  DocuSign Envelope ID: E3CAA5F7-7861-4BAB-B895-...   \n",
       "\n",
       "             category  \n",
       "0  Purchase Agreement  \n",
       "1  Purchase Agreement  \n",
       "2  Purchase Agreement  \n",
       "3  Purchase Agreement  \n",
       "4  Purchase Agreement  "
      ]
     },
     "execution_count": 15,
     "metadata": {},
     "output_type": "execute_result"
    }
   ],
   "source": [
    "data = pd.DataFrame(data)\n",
    "data.head()"
   ]
  },
  {
   "cell_type": "code",
   "execution_count": 16,
   "id": "57f04ab7",
   "metadata": {},
   "outputs": [
    {
     "data": {
      "text/plain": [
       "ADR            0\n",
       "text        3101\n",
       "category       0\n",
       "dtype: int64"
      ]
     },
     "execution_count": 16,
     "metadata": {},
     "output_type": "execute_result"
    }
   ],
   "source": [
    "data.isnull().sum()"
   ]
  },
  {
   "cell_type": "code",
   "execution_count": 17,
   "id": "9aab19df",
   "metadata": {},
   "outputs": [
    {
     "data": {
      "text/plain": [
       "(3611, 3)"
      ]
     },
     "execution_count": 17,
     "metadata": {},
     "output_type": "execute_result"
    }
   ],
   "source": [
    "data.dropna(inplace=True)\n",
    "data.shape"
   ]
  },
  {
   "cell_type": "code",
   "execution_count": 18,
   "id": "d100f4eb",
   "metadata": {},
   "outputs": [
    {
     "data": {
      "text/plain": [
       "Purchase Agreement    3271\n",
       "Divorce Decree         340\n",
       "Name: category, dtype: int64"
      ]
     },
     "execution_count": 18,
     "metadata": {},
     "output_type": "execute_result"
    }
   ],
   "source": [
    "data['category'].value_counts()"
   ]
  },
  {
   "cell_type": "code",
   "execution_count": 19,
   "id": "632d9bf0",
   "metadata": {},
   "outputs": [],
   "source": [
    "data.to_csv('./data_demo2.csv', header=True, index=False)"
   ]
  },
  {
   "cell_type": "code",
   "execution_count": null,
   "id": "a71be1ff",
   "metadata": {},
   "outputs": [],
   "source": []
  },
  {
   "cell_type": "code",
   "execution_count": 22,
   "id": "cfb0e48f",
   "metadata": {},
   "outputs": [
    {
     "data": {
      "text/plain": [
       "(20144, 3)"
      ]
     },
     "execution_count": 22,
     "metadata": {},
     "output_type": "execute_result"
    }
   ],
   "source": [
    "df1 = pd.read_csv('./data_demo.csv')\n",
    "df1.shape"
   ]
  },
  {
   "cell_type": "code",
   "execution_count": 23,
   "id": "0b2e71dd",
   "metadata": {},
   "outputs": [
    {
     "data": {
      "text/plain": [
       "(3611, 3)"
      ]
     },
     "execution_count": 23,
     "metadata": {},
     "output_type": "execute_result"
    }
   ],
   "source": [
    "df2 = pd.read_csv('./data_demo2.csv')\n",
    "df2.shape"
   ]
  },
  {
   "cell_type": "code",
   "execution_count": 25,
   "id": "0a4bbf09",
   "metadata": {},
   "outputs": [
    {
     "data": {
      "text/plain": [
       "(23755, 3)"
      ]
     },
     "execution_count": 25,
     "metadata": {},
     "output_type": "execute_result"
    }
   ],
   "source": [
    "df = pd.concat([df1,df2])\n",
    "df.shape"
   ]
  },
  {
   "cell_type": "code",
   "execution_count": 26,
   "id": "98b8147b",
   "metadata": {},
   "outputs": [
    {
     "data": {
      "text/html": [
       "<div>\n",
       "<style scoped>\n",
       "    .dataframe tbody tr th:only-of-type {\n",
       "        vertical-align: middle;\n",
       "    }\n",
       "\n",
       "    .dataframe tbody tr th {\n",
       "        vertical-align: top;\n",
       "    }\n",
       "\n",
       "    .dataframe thead th {\n",
       "        text-align: right;\n",
       "    }\n",
       "</style>\n",
       "<table border=\"1\" class=\"dataframe\">\n",
       "  <thead>\n",
       "    <tr style=\"text-align: right;\">\n",
       "      <th></th>\n",
       "      <th>ADR</th>\n",
       "      <th>text</th>\n",
       "      <th>category</th>\n",
       "    </tr>\n",
       "  </thead>\n",
       "  <tbody>\n",
       "    <tr>\n",
       "      <th>0</th>\n",
       "      <td>ADR-2022-100004022857</td>\n",
       "      <td># Lee, Terrilynn, Marie 000029128 I=0000 29128...</td>\n",
       "      <td>Award Letter(s)</td>\n",
       "    </tr>\n",
       "    <tr>\n",
       "      <th>1</th>\n",
       "      <td>ADR-2022-100004025366</td>\n",
       "      <td>BeBenefits A Service of the Department of Vete...</td>\n",
       "      <td>Award Letter(s)</td>\n",
       "    </tr>\n",
       "    <tr>\n",
       "      <th>2</th>\n",
       "      <td>ADR-2022-100004026667</td>\n",
       "      <td>Service Verification Letter DEPARTMENT OF VETE...</td>\n",
       "      <td>Award Letter(s)</td>\n",
       "    </tr>\n",
       "    <tr>\n",
       "      <th>3</th>\n",
       "      <td>ADR-2022-100004027737</td>\n",
       "      <td>AB8 Benefit Verification Letter DEPARTMENT OF ...</td>\n",
       "      <td>Award Letter(s)</td>\n",
       "    </tr>\n",
       "    <tr>\n",
       "      <th>4</th>\n",
       "      <td>ADR-2022-100004029343</td>\n",
       "      <td>The Prudential Insurance Company of America Pr...</td>\n",
       "      <td>Award Letter(s)</td>\n",
       "    </tr>\n",
       "  </tbody>\n",
       "</table>\n",
       "</div>"
      ],
      "text/plain": [
       "                     ADR                                               text  \\\n",
       "0  ADR-2022-100004022857  # Lee, Terrilynn, Marie 000029128 I=0000 29128...   \n",
       "1  ADR-2022-100004025366  BeBenefits A Service of the Department of Vete...   \n",
       "2  ADR-2022-100004026667  Service Verification Letter DEPARTMENT OF VETE...   \n",
       "3  ADR-2022-100004027737  AB8 Benefit Verification Letter DEPARTMENT OF ...   \n",
       "4  ADR-2022-100004029343  The Prudential Insurance Company of America Pr...   \n",
       "\n",
       "          category  \n",
       "0  Award Letter(s)  \n",
       "1  Award Letter(s)  \n",
       "2  Award Letter(s)  \n",
       "3  Award Letter(s)  \n",
       "4  Award Letter(s)  "
      ]
     },
     "execution_count": 26,
     "metadata": {},
     "output_type": "execute_result"
    }
   ],
   "source": [
    "df.head()"
   ]
  },
  {
   "cell_type": "code",
   "execution_count": 28,
   "id": "0253b995",
   "metadata": {},
   "outputs": [],
   "source": [
    "df.to_csv('./data.csv', header=True, index=False)"
   ]
  },
  {
   "cell_type": "code",
   "execution_count": null,
   "id": "785deb56",
   "metadata": {},
   "outputs": [],
   "source": []
  }
 ],
 "metadata": {
  "kernelspec": {
   "display_name": "classification_service",
   "language": "python",
   "name": "classification_service"
  },
  "language_info": {
   "codemirror_mode": {
    "name": "ipython",
    "version": 3
   },
   "file_extension": ".py",
   "mimetype": "text/x-python",
   "name": "python",
   "nbconvert_exporter": "python",
   "pygments_lexer": "ipython3",
   "version": "3.8.0"
  }
 },
 "nbformat": 4,
 "nbformat_minor": 5
}
