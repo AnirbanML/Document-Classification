{
 "cells": [
  {
   "cell_type": "code",
   "execution_count": 1,
   "id": "04cea17b",
   "metadata": {},
   "outputs": [],
   "source": [
    "import pandas as pd\n",
    "import numpy as np"
   ]
  },
  {
   "cell_type": "code",
   "execution_count": 2,
   "id": "850cea00",
   "metadata": {},
   "outputs": [],
   "source": [
    "pd.options.display.max_colwidth = 3000\n",
    "pd.options.display.max_rows = 3000"
   ]
  },
  {
   "cell_type": "code",
   "execution_count": 19,
   "id": "70219a49",
   "metadata": {},
   "outputs": [
    {
     "data": {
      "text/html": [
       "<div>\n",
       "<style scoped>\n",
       "    .dataframe tbody tr th:only-of-type {\n",
       "        vertical-align: middle;\n",
       "    }\n",
       "\n",
       "    .dataframe tbody tr th {\n",
       "        vertical-align: top;\n",
       "    }\n",
       "\n",
       "    .dataframe thead th {\n",
       "        text-align: right;\n",
       "    }\n",
       "</style>\n",
       "<table border=\"1\" class=\"dataframe\">\n",
       "  <thead>\n",
       "    <tr style=\"text-align: right;\">\n",
       "      <th></th>\n",
       "      <th>Ref. No.</th>\n",
       "      <th>Page No.</th>\n",
       "      <th>System Classification (Python Decision)</th>\n",
       "      <th>Actual Classification</th>\n",
       "      <th>Status P/F</th>\n",
       "      <th>Comments</th>\n",
       "    </tr>\n",
       "  </thead>\n",
       "  <tbody>\n",
       "    <tr>\n",
       "      <th>0</th>\n",
       "      <td>ADR-2022-200000370552</td>\n",
       "      <td>417</td>\n",
       "      <td>Mortgage Statement</td>\n",
       "      <td>Mortgage Statement</td>\n",
       "      <td>Pass</td>\n",
       "      <td>NaN</td>\n",
       "    </tr>\n",
       "    <tr>\n",
       "      <th>1</th>\n",
       "      <td>ADR-2022-200000370552</td>\n",
       "      <td>418</td>\n",
       "      <td>Mortgage Statement</td>\n",
       "      <td>Mortgage Statement</td>\n",
       "      <td>Pass</td>\n",
       "      <td>NaN</td>\n",
       "    </tr>\n",
       "  </tbody>\n",
       "</table>\n",
       "</div>"
      ],
      "text/plain": [
       "                Ref. No.  Page No. System Classification (Python Decision)  \\\n",
       "0  ADR-2022-200000370552       417                      Mortgage Statement   \n",
       "1  ADR-2022-200000370552       418                      Mortgage Statement   \n",
       "\n",
       "  Actual Classification Status P/F Comments  \n",
       "0    Mortgage Statement       Pass      NaN  \n",
       "1    Mortgage Statement       Pass      NaN  "
      ]
     },
     "execution_count": 19,
     "metadata": {},
     "output_type": "execute_result"
    }
   ],
   "source": [
    "df = pd.read_excel(r\"/data/mmortgage/MultiPage_Classification/Bert Testing Report_12th Aug'22_Hazard Insurance & Mortgage Statement.ods\")\n",
    "df.head(2)"
   ]
  },
  {
   "cell_type": "code",
   "execution_count": 20,
   "id": "1161e179",
   "metadata": {},
   "outputs": [
    {
     "data": {
      "text/plain": [
       "Hazard Insurance                  252\n",
       "Mortgage Statement                233\n",
       "Credit Report                      27\n",
       "Pay Off Statements                  6\n",
       "Disclosures                         5\n",
       "Appraisal - Appraisal Report        5\n",
       "Non-Mortgage Account Statement      3\n",
       "Name: Actual Classification, dtype: int64"
      ]
     },
     "execution_count": 20,
     "metadata": {},
     "output_type": "execute_result"
    }
   ],
   "source": [
    "df['Actual Classification'].value_counts()"
   ]
  },
  {
   "cell_type": "code",
   "execution_count": 21,
   "id": "a8ad68e6",
   "metadata": {},
   "outputs": [
    {
     "data": {
      "text/plain": [
       "Mortgage Statement    249\n",
       "Hazard Insurance      149\n",
       "others                114\n",
       "Others                 19\n",
       "Name: System Classification (Python Decision), dtype: int64"
      ]
     },
     "execution_count": 21,
     "metadata": {},
     "output_type": "execute_result"
    }
   ],
   "source": [
    "df['System Classification (Python Decision)'].value_counts()"
   ]
  },
  {
   "cell_type": "code",
   "execution_count": 22,
   "id": "06e51028",
   "metadata": {},
   "outputs": [],
   "source": [
    "df['System Classification (Python Decision)'] = df['System Classification (Python Decision)'].replace({'Others':'others'})"
   ]
  },
  {
   "cell_type": "code",
   "execution_count": 23,
   "id": "4af781a5",
   "metadata": {},
   "outputs": [
    {
     "data": {
      "text/plain": [
       "Pass    359\n",
       "Fail    172\n",
       "Name: Status P/F, dtype: int64"
      ]
     },
     "execution_count": 23,
     "metadata": {},
     "output_type": "execute_result"
    }
   ],
   "source": [
    "df['Status P/F'].value_counts()"
   ]
  },
  {
   "cell_type": "code",
   "execution_count": 24,
   "id": "aa281918",
   "metadata": {},
   "outputs": [],
   "source": [
    "temp = []\n",
    "cats = ['Retirement Account Statement(s)',\n",
    "        'Mortgage Statement',\n",
    "        'Bank Statement',\n",
    "        'Purchase Agreement',\n",
    "        'Rental Agreements(s)',\n",
    "        'Hazard Insurance',\n",
    "        'Divorce Decree / Child Support',\n",
    "        'Bankruptcy Papers']\n",
    "\n",
    "for category in df['Actual Classification']:\n",
    "    if category not in cats:\n",
    "        temp.append('others')\n",
    "    else:\n",
    "        temp.append(category)\n",
    "df['category'] = temp"
   ]
  },
  {
   "cell_type": "code",
   "execution_count": 25,
   "id": "349aeb31",
   "metadata": {},
   "outputs": [
    {
     "data": {
      "text/html": [
       "<div>\n",
       "<style scoped>\n",
       "    .dataframe tbody tr th:only-of-type {\n",
       "        vertical-align: middle;\n",
       "    }\n",
       "\n",
       "    .dataframe tbody tr th {\n",
       "        vertical-align: top;\n",
       "    }\n",
       "\n",
       "    .dataframe thead th {\n",
       "        text-align: right;\n",
       "    }\n",
       "</style>\n",
       "<table border=\"1\" class=\"dataframe\">\n",
       "  <thead>\n",
       "    <tr style=\"text-align: right;\">\n",
       "      <th></th>\n",
       "      <th>Ref. No.</th>\n",
       "      <th>Page No.</th>\n",
       "      <th>System Classification (Python Decision)</th>\n",
       "      <th>Actual Classification</th>\n",
       "      <th>Status P/F</th>\n",
       "      <th>Comments</th>\n",
       "      <th>category</th>\n",
       "    </tr>\n",
       "  </thead>\n",
       "  <tbody>\n",
       "    <tr>\n",
       "      <th>0</th>\n",
       "      <td>ADR-2022-200000370552</td>\n",
       "      <td>417</td>\n",
       "      <td>Mortgage Statement</td>\n",
       "      <td>Mortgage Statement</td>\n",
       "      <td>Pass</td>\n",
       "      <td>NaN</td>\n",
       "      <td>Mortgage Statement</td>\n",
       "    </tr>\n",
       "    <tr>\n",
       "      <th>1</th>\n",
       "      <td>ADR-2022-200000370552</td>\n",
       "      <td>418</td>\n",
       "      <td>Mortgage Statement</td>\n",
       "      <td>Mortgage Statement</td>\n",
       "      <td>Pass</td>\n",
       "      <td>NaN</td>\n",
       "      <td>Mortgage Statement</td>\n",
       "    </tr>\n",
       "    <tr>\n",
       "      <th>2</th>\n",
       "      <td>ADR-2022-200000370552</td>\n",
       "      <td>419</td>\n",
       "      <td>Mortgage Statement</td>\n",
       "      <td>Mortgage Statement</td>\n",
       "      <td>Pass</td>\n",
       "      <td>NaN</td>\n",
       "      <td>Mortgage Statement</td>\n",
       "    </tr>\n",
       "    <tr>\n",
       "      <th>3</th>\n",
       "      <td>ADR-2022-200000370552</td>\n",
       "      <td>420</td>\n",
       "      <td>Mortgage Statement</td>\n",
       "      <td>Mortgage Statement</td>\n",
       "      <td>Pass</td>\n",
       "      <td>NaN</td>\n",
       "      <td>Mortgage Statement</td>\n",
       "    </tr>\n",
       "    <tr>\n",
       "      <th>4</th>\n",
       "      <td>ADR-2022-200000370552</td>\n",
       "      <td>421</td>\n",
       "      <td>Mortgage Statement</td>\n",
       "      <td>Mortgage Statement</td>\n",
       "      <td>Pass</td>\n",
       "      <td>NaN</td>\n",
       "      <td>Mortgage Statement</td>\n",
       "    </tr>\n",
       "  </tbody>\n",
       "</table>\n",
       "</div>"
      ],
      "text/plain": [
       "                Ref. No.  Page No. System Classification (Python Decision)  \\\n",
       "0  ADR-2022-200000370552       417                      Mortgage Statement   \n",
       "1  ADR-2022-200000370552       418                      Mortgage Statement   \n",
       "2  ADR-2022-200000370552       419                      Mortgage Statement   \n",
       "3  ADR-2022-200000370552       420                      Mortgage Statement   \n",
       "4  ADR-2022-200000370552       421                      Mortgage Statement   \n",
       "\n",
       "  Actual Classification Status P/F Comments            category  \n",
       "0    Mortgage Statement       Pass      NaN  Mortgage Statement  \n",
       "1    Mortgage Statement       Pass      NaN  Mortgage Statement  \n",
       "2    Mortgage Statement       Pass      NaN  Mortgage Statement  \n",
       "3    Mortgage Statement       Pass      NaN  Mortgage Statement  \n",
       "4    Mortgage Statement       Pass      NaN  Mortgage Statement  "
      ]
     },
     "execution_count": 25,
     "metadata": {},
     "output_type": "execute_result"
    }
   ],
   "source": [
    "df.head()"
   ]
  },
  {
   "cell_type": "code",
   "execution_count": 26,
   "id": "61c3f680",
   "metadata": {},
   "outputs": [],
   "source": [
    "temp = []\n",
    "for i,j in zip(df['category'].values, df['System Classification (Python Decision)'].values):\n",
    "    if i==j:\n",
    "        temp.append('PASS')\n",
    "    else:\n",
    "        temp.append('FAIL')\n",
    "df['PF'] = temp"
   ]
  },
  {
   "cell_type": "code",
   "execution_count": 27,
   "id": "8afe3dfd",
   "metadata": {},
   "outputs": [
    {
     "data": {
      "text/html": [
       "<div>\n",
       "<style scoped>\n",
       "    .dataframe tbody tr th:only-of-type {\n",
       "        vertical-align: middle;\n",
       "    }\n",
       "\n",
       "    .dataframe tbody tr th {\n",
       "        vertical-align: top;\n",
       "    }\n",
       "\n",
       "    .dataframe thead th {\n",
       "        text-align: right;\n",
       "    }\n",
       "</style>\n",
       "<table border=\"1\" class=\"dataframe\">\n",
       "  <thead>\n",
       "    <tr style=\"text-align: right;\">\n",
       "      <th></th>\n",
       "      <th>Ref. No.</th>\n",
       "      <th>Page No.</th>\n",
       "      <th>System Classification (Python Decision)</th>\n",
       "      <th>Actual Classification</th>\n",
       "      <th>Status P/F</th>\n",
       "      <th>Comments</th>\n",
       "      <th>category</th>\n",
       "      <th>PF</th>\n",
       "    </tr>\n",
       "  </thead>\n",
       "  <tbody>\n",
       "    <tr>\n",
       "      <th>0</th>\n",
       "      <td>ADR-2022-200000370552</td>\n",
       "      <td>417</td>\n",
       "      <td>Mortgage Statement</td>\n",
       "      <td>Mortgage Statement</td>\n",
       "      <td>Pass</td>\n",
       "      <td>NaN</td>\n",
       "      <td>Mortgage Statement</td>\n",
       "      <td>PASS</td>\n",
       "    </tr>\n",
       "    <tr>\n",
       "      <th>1</th>\n",
       "      <td>ADR-2022-200000370552</td>\n",
       "      <td>418</td>\n",
       "      <td>Mortgage Statement</td>\n",
       "      <td>Mortgage Statement</td>\n",
       "      <td>Pass</td>\n",
       "      <td>NaN</td>\n",
       "      <td>Mortgage Statement</td>\n",
       "      <td>PASS</td>\n",
       "    </tr>\n",
       "    <tr>\n",
       "      <th>2</th>\n",
       "      <td>ADR-2022-200000370552</td>\n",
       "      <td>419</td>\n",
       "      <td>Mortgage Statement</td>\n",
       "      <td>Mortgage Statement</td>\n",
       "      <td>Pass</td>\n",
       "      <td>NaN</td>\n",
       "      <td>Mortgage Statement</td>\n",
       "      <td>PASS</td>\n",
       "    </tr>\n",
       "    <tr>\n",
       "      <th>3</th>\n",
       "      <td>ADR-2022-200000370552</td>\n",
       "      <td>420</td>\n",
       "      <td>Mortgage Statement</td>\n",
       "      <td>Mortgage Statement</td>\n",
       "      <td>Pass</td>\n",
       "      <td>NaN</td>\n",
       "      <td>Mortgage Statement</td>\n",
       "      <td>PASS</td>\n",
       "    </tr>\n",
       "    <tr>\n",
       "      <th>4</th>\n",
       "      <td>ADR-2022-200000370552</td>\n",
       "      <td>421</td>\n",
       "      <td>Mortgage Statement</td>\n",
       "      <td>Mortgage Statement</td>\n",
       "      <td>Pass</td>\n",
       "      <td>NaN</td>\n",
       "      <td>Mortgage Statement</td>\n",
       "      <td>PASS</td>\n",
       "    </tr>\n",
       "  </tbody>\n",
       "</table>\n",
       "</div>"
      ],
      "text/plain": [
       "                Ref. No.  Page No. System Classification (Python Decision)  \\\n",
       "0  ADR-2022-200000370552       417                      Mortgage Statement   \n",
       "1  ADR-2022-200000370552       418                      Mortgage Statement   \n",
       "2  ADR-2022-200000370552       419                      Mortgage Statement   \n",
       "3  ADR-2022-200000370552       420                      Mortgage Statement   \n",
       "4  ADR-2022-200000370552       421                      Mortgage Statement   \n",
       "\n",
       "  Actual Classification Status P/F Comments            category    PF  \n",
       "0    Mortgage Statement       Pass      NaN  Mortgage Statement  PASS  \n",
       "1    Mortgage Statement       Pass      NaN  Mortgage Statement  PASS  \n",
       "2    Mortgage Statement       Pass      NaN  Mortgage Statement  PASS  \n",
       "3    Mortgage Statement       Pass      NaN  Mortgage Statement  PASS  \n",
       "4    Mortgage Statement       Pass      NaN  Mortgage Statement  PASS  "
      ]
     },
     "execution_count": 27,
     "metadata": {},
     "output_type": "execute_result"
    }
   ],
   "source": [
    "df.head()"
   ]
  },
  {
   "cell_type": "code",
   "execution_count": 28,
   "id": "ca14a2a2",
   "metadata": {},
   "outputs": [
    {
     "data": {
      "text/plain": [
       "Hazard Insurance      252\n",
       "Mortgage Statement    233\n",
       "others                 46\n",
       "Name: category, dtype: int64"
      ]
     },
     "execution_count": 28,
     "metadata": {},
     "output_type": "execute_result"
    }
   ],
   "source": [
    "df['category'].value_counts()"
   ]
  },
  {
   "cell_type": "code",
   "execution_count": 29,
   "id": "fc8c5e14",
   "metadata": {},
   "outputs": [
    {
     "data": {
      "text/html": [
       "<div>\n",
       "<style scoped>\n",
       "    .dataframe tbody tr th:only-of-type {\n",
       "        vertical-align: middle;\n",
       "    }\n",
       "\n",
       "    .dataframe tbody tr th {\n",
       "        vertical-align: top;\n",
       "    }\n",
       "\n",
       "    .dataframe thead th {\n",
       "        text-align: right;\n",
       "    }\n",
       "</style>\n",
       "<table border=\"1\" class=\"dataframe\">\n",
       "  <thead>\n",
       "    <tr style=\"text-align: right;\">\n",
       "      <th></th>\n",
       "      <th>category</th>\n",
       "      <th>PASS</th>\n",
       "      <th>FAIL</th>\n",
       "    </tr>\n",
       "  </thead>\n",
       "  <tbody>\n",
       "    <tr>\n",
       "      <th>1</th>\n",
       "      <td>Mortgage Statement</td>\n",
       "      <td>215.0</td>\n",
       "      <td>18.0</td>\n",
       "    </tr>\n",
       "    <tr>\n",
       "      <th>5</th>\n",
       "      <td>Hazard Insurance</td>\n",
       "      <td>144.0</td>\n",
       "      <td>108.0</td>\n",
       "    </tr>\n",
       "    <tr>\n",
       "      <th>8</th>\n",
       "      <td>others</td>\n",
       "      <td>7.0</td>\n",
       "      <td>39.0</td>\n",
       "    </tr>\n",
       "  </tbody>\n",
       "</table>\n",
       "</div>"
      ],
      "text/plain": [
       "             category   PASS   FAIL\n",
       "1  Mortgage Statement  215.0   18.0\n",
       "5    Hazard Insurance  144.0  108.0\n",
       "8              others    7.0   39.0"
      ]
     },
     "execution_count": 29,
     "metadata": {},
     "output_type": "execute_result"
    }
   ],
   "source": [
    "cats = ['Retirement Account Statement(s)',\n",
    "        'Mortgage Statement',\n",
    "        'Bank Statement',\n",
    "        'Purchase Agreement',\n",
    "        'Rental Agreements(s)',\n",
    "        'Hazard Insurance',\n",
    "        'Divorce Decree / Child Support',\n",
    "        'Bankruptcy Papers',\n",
    "        'others']\n",
    "\n",
    "PASS = []\n",
    "FAIL = []\n",
    "cat = []\n",
    "for category in cats:\n",
    "    cat.append(category)\n",
    "    try:\n",
    "        PASS.append(df['PF'][df['category']==category].value_counts()['PASS'])\n",
    "    except:\n",
    "        PASS.append(None)\n",
    "    \n",
    "    try:\n",
    "        FAIL.append(df['PF'][df['category']==category].value_counts()['FAIL'])\n",
    "    except:\n",
    "        FAIL.append(None)\n",
    "pivot = pd.DataFrame({'category':cat,\n",
    "                      'PASS': PASS,\n",
    "                      'FAIL': FAIL}\n",
    "                    )\n",
    "pivot.dropna(thresh=2, inplace=True, axis=0)\n",
    "pivot.fillna(0, inplace=True)\n",
    "pivot"
   ]
  },
  {
   "cell_type": "code",
   "execution_count": 30,
   "id": "5bbf9c62",
   "metadata": {},
   "outputs": [
    {
     "data": {
      "text/html": [
       "<div>\n",
       "<style scoped>\n",
       "    .dataframe tbody tr th:only-of-type {\n",
       "        vertical-align: middle;\n",
       "    }\n",
       "\n",
       "    .dataframe tbody tr th {\n",
       "        vertical-align: top;\n",
       "    }\n",
       "\n",
       "    .dataframe thead th {\n",
       "        text-align: right;\n",
       "    }\n",
       "</style>\n",
       "<table border=\"1\" class=\"dataframe\">\n",
       "  <thead>\n",
       "    <tr style=\"text-align: right;\">\n",
       "      <th></th>\n",
       "      <th>category</th>\n",
       "      <th>PASS</th>\n",
       "      <th>FAIL</th>\n",
       "      <th>Accuracy</th>\n",
       "    </tr>\n",
       "  </thead>\n",
       "  <tbody>\n",
       "    <tr>\n",
       "      <th>1</th>\n",
       "      <td>Mortgage Statement</td>\n",
       "      <td>215.0</td>\n",
       "      <td>18.0</td>\n",
       "      <td>0.92</td>\n",
       "    </tr>\n",
       "    <tr>\n",
       "      <th>5</th>\n",
       "      <td>Hazard Insurance</td>\n",
       "      <td>144.0</td>\n",
       "      <td>108.0</td>\n",
       "      <td>0.57</td>\n",
       "    </tr>\n",
       "    <tr>\n",
       "      <th>8</th>\n",
       "      <td>others</td>\n",
       "      <td>7.0</td>\n",
       "      <td>39.0</td>\n",
       "      <td>0.15</td>\n",
       "    </tr>\n",
       "  </tbody>\n",
       "</table>\n",
       "</div>"
      ],
      "text/plain": [
       "             category   PASS   FAIL  Accuracy\n",
       "1  Mortgage Statement  215.0   18.0      0.92\n",
       "5    Hazard Insurance  144.0  108.0      0.57\n",
       "8              others    7.0   39.0      0.15"
      ]
     },
     "execution_count": 30,
     "metadata": {},
     "output_type": "execute_result"
    }
   ],
   "source": [
    "pivot['Accuracy'] = np.round(pivot.PASS/(pivot.PASS+pivot.FAIL),2)\n",
    "pivot"
   ]
  },
  {
   "cell_type": "code",
   "execution_count": 17,
   "id": "49930cac",
   "metadata": {},
   "outputs": [
    {
     "data": {
      "text/plain": [
       "Appraisal - Appraisal Report    17\n",
       "Disclosures                     16\n",
       "1003                            14\n",
       "Credit Report                   12\n",
       "Due Diligence Report            10\n",
       "Check(s)                         6\n",
       "DU Findings                      5\n",
       "Power of Attorney                3\n",
       "Property - Other                 2\n",
       "Condo/Coop/HOA                   2\n",
       "Property – Other                 2\n",
       "Title - Other                    2\n",
       "Credit - Other                   2\n",
       "Income - Other                   1\n",
       "Name: Actual Classification, dtype: int64"
      ]
     },
     "execution_count": 17,
     "metadata": {},
     "output_type": "execute_result"
    }
   ],
   "source": [
    "df['Actual Classification'][(df['category']=='others')&(df['PF']=='FAIL')].value_counts()"
   ]
  },
  {
   "cell_type": "code",
   "execution_count": 18,
   "id": "cfd18605",
   "metadata": {},
   "outputs": [
    {
     "data": {
      "text/plain": [
       "6"
      ]
     },
     "execution_count": 18,
     "metadata": {},
     "output_type": "execute_result"
    }
   ],
   "source": [
    "import multiprocessing\n",
    "cores = multiprocessing.cpu_count()\n",
    "cores"
   ]
  },
  {
   "cell_type": "code",
   "execution_count": null,
   "id": "ad329a03",
   "metadata": {},
   "outputs": [],
   "source": []
  }
 ],
 "metadata": {
  "kernelspec": {
   "display_name": "classification_service",
   "language": "python",
   "name": "classification_service"
  },
  "language_info": {
   "codemirror_mode": {
    "name": "ipython",
    "version": 3
   },
   "file_extension": ".py",
   "mimetype": "text/x-python",
   "name": "python",
   "nbconvert_exporter": "python",
   "pygments_lexer": "ipython3",
   "version": "3.8.0"
  }
 },
 "nbformat": 4,
 "nbformat_minor": 5
}
